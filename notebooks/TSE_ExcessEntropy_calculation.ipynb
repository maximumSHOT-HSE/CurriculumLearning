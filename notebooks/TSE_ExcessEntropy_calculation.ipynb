{
  "nbformat": 4,
  "nbformat_minor": 0,
  "metadata": {
    "colab": {
      "name": "TSE_ExcessEntropy_calculation",
      "provenance": [],
      "collapsed_sections": []
    },
    "kernelspec": {
      "display_name": "Python 3",
      "name": "python3"
    },
    "widgets": {
      "application/vnd.jupyter.widget-state+json": {
        "7550efca3ae544b38fc9243cf9b2f7b1": {
          "model_module": "@jupyter-widgets/controls",
          "model_name": "HBoxModel",
          "state": {
            "_view_name": "HBoxView",
            "_dom_classes": [],
            "_model_name": "HBoxModel",
            "_view_module": "@jupyter-widgets/controls",
            "_model_module_version": "1.5.0",
            "_view_count": null,
            "_view_module_version": "1.5.0",
            "box_style": "",
            "layout": "IPY_MODEL_023298e42d8c4d909dd42fbc7d799f1b",
            "_model_module": "@jupyter-widgets/controls",
            "children": [
              "IPY_MODEL_238370d724a143628f526efc2e960323",
              "IPY_MODEL_ec7881c439a346f8bf99fba8728960fe"
            ]
          }
        },
        "023298e42d8c4d909dd42fbc7d799f1b": {
          "model_module": "@jupyter-widgets/base",
          "model_name": "LayoutModel",
          "state": {
            "_view_name": "LayoutView",
            "grid_template_rows": null,
            "right": null,
            "justify_content": null,
            "_view_module": "@jupyter-widgets/base",
            "overflow": null,
            "_model_module_version": "1.2.0",
            "_view_count": null,
            "flex_flow": null,
            "width": null,
            "min_width": null,
            "border": null,
            "align_items": null,
            "bottom": null,
            "_model_module": "@jupyter-widgets/base",
            "top": null,
            "grid_column": null,
            "overflow_y": null,
            "overflow_x": null,
            "grid_auto_flow": null,
            "grid_area": null,
            "grid_template_columns": null,
            "flex": null,
            "_model_name": "LayoutModel",
            "justify_items": null,
            "grid_row": null,
            "max_height": null,
            "align_content": null,
            "visibility": null,
            "align_self": null,
            "height": null,
            "min_height": null,
            "padding": null,
            "grid_auto_rows": null,
            "grid_gap": null,
            "max_width": null,
            "order": null,
            "_view_module_version": "1.2.0",
            "grid_template_areas": null,
            "object_position": null,
            "object_fit": null,
            "grid_auto_columns": null,
            "margin": null,
            "display": null,
            "left": null
          }
        },
        "238370d724a143628f526efc2e960323": {
          "model_module": "@jupyter-widgets/controls",
          "model_name": "FloatProgressModel",
          "state": {
            "_view_name": "ProgressView",
            "style": "IPY_MODEL_9d7c65079e9e4e7eb56021f395431a1c",
            "_dom_classes": [],
            "description": "Dl Completed...: 100%",
            "_model_name": "FloatProgressModel",
            "bar_style": "success",
            "max": 142,
            "_view_module": "@jupyter-widgets/controls",
            "_model_module_version": "1.5.0",
            "value": 142,
            "_view_count": null,
            "_view_module_version": "1.5.0",
            "orientation": "horizontal",
            "min": 0,
            "description_tooltip": null,
            "_model_module": "@jupyter-widgets/controls",
            "layout": "IPY_MODEL_b37748cfaa9d44ebb1908fcd7e9c5e1d"
          }
        },
        "ec7881c439a346f8bf99fba8728960fe": {
          "model_module": "@jupyter-widgets/controls",
          "model_name": "HTMLModel",
          "state": {
            "_view_name": "HTMLView",
            "style": "IPY_MODEL_1167ec36bc8f4d01a78255ae278049b8",
            "_dom_classes": [],
            "description": "",
            "_model_name": "HTMLModel",
            "placeholder": "​",
            "_view_module": "@jupyter-widgets/controls",
            "_model_module_version": "1.5.0",
            "value": " 142/142 [02:37&lt;00:00,  1.11s/ file]",
            "_view_count": null,
            "_view_module_version": "1.5.0",
            "description_tooltip": null,
            "_model_module": "@jupyter-widgets/controls",
            "layout": "IPY_MODEL_5edd0e01359740c88cbb55d71a8416d4"
          }
        },
        "9d7c65079e9e4e7eb56021f395431a1c": {
          "model_module": "@jupyter-widgets/controls",
          "model_name": "ProgressStyleModel",
          "state": {
            "_view_name": "StyleView",
            "_model_name": "ProgressStyleModel",
            "description_width": "initial",
            "_view_module": "@jupyter-widgets/base",
            "_model_module_version": "1.5.0",
            "_view_count": null,
            "_view_module_version": "1.2.0",
            "bar_color": null,
            "_model_module": "@jupyter-widgets/controls"
          }
        },
        "b37748cfaa9d44ebb1908fcd7e9c5e1d": {
          "model_module": "@jupyter-widgets/base",
          "model_name": "LayoutModel",
          "state": {
            "_view_name": "LayoutView",
            "grid_template_rows": null,
            "right": null,
            "justify_content": null,
            "_view_module": "@jupyter-widgets/base",
            "overflow": null,
            "_model_module_version": "1.2.0",
            "_view_count": null,
            "flex_flow": null,
            "width": null,
            "min_width": null,
            "border": null,
            "align_items": null,
            "bottom": null,
            "_model_module": "@jupyter-widgets/base",
            "top": null,
            "grid_column": null,
            "overflow_y": null,
            "overflow_x": null,
            "grid_auto_flow": null,
            "grid_area": null,
            "grid_template_columns": null,
            "flex": null,
            "_model_name": "LayoutModel",
            "justify_items": null,
            "grid_row": null,
            "max_height": null,
            "align_content": null,
            "visibility": null,
            "align_self": null,
            "height": null,
            "min_height": null,
            "padding": null,
            "grid_auto_rows": null,
            "grid_gap": null,
            "max_width": null,
            "order": null,
            "_view_module_version": "1.2.0",
            "grid_template_areas": null,
            "object_position": null,
            "object_fit": null,
            "grid_auto_columns": null,
            "margin": null,
            "display": null,
            "left": null
          }
        },
        "1167ec36bc8f4d01a78255ae278049b8": {
          "model_module": "@jupyter-widgets/controls",
          "model_name": "DescriptionStyleModel",
          "state": {
            "_view_name": "StyleView",
            "_model_name": "DescriptionStyleModel",
            "description_width": "",
            "_view_module": "@jupyter-widgets/base",
            "_model_module_version": "1.5.0",
            "_view_count": null,
            "_view_module_version": "1.2.0",
            "_model_module": "@jupyter-widgets/controls"
          }
        },
        "5edd0e01359740c88cbb55d71a8416d4": {
          "model_module": "@jupyter-widgets/base",
          "model_name": "LayoutModel",
          "state": {
            "_view_name": "LayoutView",
            "grid_template_rows": null,
            "right": null,
            "justify_content": null,
            "_view_module": "@jupyter-widgets/base",
            "overflow": null,
            "_model_module_version": "1.2.0",
            "_view_count": null,
            "flex_flow": null,
            "width": null,
            "min_width": null,
            "border": null,
            "align_items": null,
            "bottom": null,
            "_model_module": "@jupyter-widgets/base",
            "top": null,
            "grid_column": null,
            "overflow_y": null,
            "overflow_x": null,
            "grid_auto_flow": null,
            "grid_area": null,
            "grid_template_columns": null,
            "flex": null,
            "_model_name": "LayoutModel",
            "justify_items": null,
            "grid_row": null,
            "max_height": null,
            "align_content": null,
            "visibility": null,
            "align_self": null,
            "height": null,
            "min_height": null,
            "padding": null,
            "grid_auto_rows": null,
            "grid_gap": null,
            "max_width": null,
            "order": null,
            "_view_module_version": "1.2.0",
            "grid_template_areas": null,
            "object_position": null,
            "object_fit": null,
            "grid_auto_columns": null,
            "margin": null,
            "display": null,
            "left": null
          }
        },
        "5f851a67e9294556b9ba683f6a46be92": {
          "model_module": "@jupyter-widgets/controls",
          "model_name": "HBoxModel",
          "state": {
            "_view_name": "HBoxView",
            "_dom_classes": [],
            "_model_name": "HBoxModel",
            "_view_module": "@jupyter-widgets/controls",
            "_model_module_version": "1.5.0",
            "_view_count": null,
            "_view_module_version": "1.5.0",
            "box_style": "",
            "layout": "IPY_MODEL_d3f5160765d548b78df5ef2025bb0f22",
            "_model_module": "@jupyter-widgets/controls",
            "children": [
              "IPY_MODEL_626b27b877d242999919cae934f1fe8d",
              "IPY_MODEL_da43575c4eb3432ba19f87173459cd62"
            ]
          }
        },
        "d3f5160765d548b78df5ef2025bb0f22": {
          "model_module": "@jupyter-widgets/base",
          "model_name": "LayoutModel",
          "state": {
            "_view_name": "LayoutView",
            "grid_template_rows": null,
            "right": null,
            "justify_content": null,
            "_view_module": "@jupyter-widgets/base",
            "overflow": null,
            "_model_module_version": "1.2.0",
            "_view_count": null,
            "flex_flow": null,
            "width": null,
            "min_width": null,
            "border": null,
            "align_items": null,
            "bottom": null,
            "_model_module": "@jupyter-widgets/base",
            "top": null,
            "grid_column": null,
            "overflow_y": null,
            "overflow_x": null,
            "grid_auto_flow": null,
            "grid_area": null,
            "grid_template_columns": null,
            "flex": null,
            "_model_name": "LayoutModel",
            "justify_items": null,
            "grid_row": null,
            "max_height": null,
            "align_content": null,
            "visibility": null,
            "align_self": null,
            "height": null,
            "min_height": null,
            "padding": null,
            "grid_auto_rows": null,
            "grid_gap": null,
            "max_width": null,
            "order": null,
            "_view_module_version": "1.2.0",
            "grid_template_areas": null,
            "object_position": null,
            "object_fit": null,
            "grid_auto_columns": null,
            "margin": null,
            "display": null,
            "left": null
          }
        },
        "626b27b877d242999919cae934f1fe8d": {
          "model_module": "@jupyter-widgets/controls",
          "model_name": "FloatProgressModel",
          "state": {
            "_view_name": "ProgressView",
            "style": "IPY_MODEL_e569b558ec5d4a55844a535499d2d6b4",
            "_dom_classes": [],
            "description": "100%",
            "_model_name": "FloatProgressModel",
            "bar_style": "success",
            "max": 10002,
            "_view_module": "@jupyter-widgets/controls",
            "_model_module_version": "1.5.0",
            "value": 10002,
            "_view_count": null,
            "_view_module_version": "1.5.0",
            "orientation": "horizontal",
            "min": 0,
            "description_tooltip": null,
            "_model_module": "@jupyter-widgets/controls",
            "layout": "IPY_MODEL_a2f74a051f1e416d9b14e24d6e38ad76"
          }
        },
        "da43575c4eb3432ba19f87173459cd62": {
          "model_module": "@jupyter-widgets/controls",
          "model_name": "HTMLModel",
          "state": {
            "_view_name": "HTMLView",
            "style": "IPY_MODEL_6e3760b4bf3841aea0cb583bf09a09e8",
            "_dom_classes": [],
            "description": "",
            "_model_name": "HTMLModel",
            "placeholder": "​",
            "_view_module": "@jupyter-widgets/controls",
            "_model_module_version": "1.5.0",
            "value": " 10002/10002 [24:20&lt;00:00,  6.85it/s]",
            "_view_count": null,
            "_view_module_version": "1.5.0",
            "description_tooltip": null,
            "_model_module": "@jupyter-widgets/controls",
            "layout": "IPY_MODEL_76a26d3d73fe437d91651d8f7e5ef30b"
          }
        },
        "e569b558ec5d4a55844a535499d2d6b4": {
          "model_module": "@jupyter-widgets/controls",
          "model_name": "ProgressStyleModel",
          "state": {
            "_view_name": "StyleView",
            "_model_name": "ProgressStyleModel",
            "description_width": "initial",
            "_view_module": "@jupyter-widgets/base",
            "_model_module_version": "1.5.0",
            "_view_count": null,
            "_view_module_version": "1.2.0",
            "bar_color": null,
            "_model_module": "@jupyter-widgets/controls"
          }
        },
        "a2f74a051f1e416d9b14e24d6e38ad76": {
          "model_module": "@jupyter-widgets/base",
          "model_name": "LayoutModel",
          "state": {
            "_view_name": "LayoutView",
            "grid_template_rows": null,
            "right": null,
            "justify_content": null,
            "_view_module": "@jupyter-widgets/base",
            "overflow": null,
            "_model_module_version": "1.2.0",
            "_view_count": null,
            "flex_flow": null,
            "width": null,
            "min_width": null,
            "border": null,
            "align_items": null,
            "bottom": null,
            "_model_module": "@jupyter-widgets/base",
            "top": null,
            "grid_column": null,
            "overflow_y": null,
            "overflow_x": null,
            "grid_auto_flow": null,
            "grid_area": null,
            "grid_template_columns": null,
            "flex": null,
            "_model_name": "LayoutModel",
            "justify_items": null,
            "grid_row": null,
            "max_height": null,
            "align_content": null,
            "visibility": null,
            "align_self": null,
            "height": null,
            "min_height": null,
            "padding": null,
            "grid_auto_rows": null,
            "grid_gap": null,
            "max_width": null,
            "order": null,
            "_view_module_version": "1.2.0",
            "grid_template_areas": null,
            "object_position": null,
            "object_fit": null,
            "grid_auto_columns": null,
            "margin": null,
            "display": null,
            "left": null
          }
        },
        "6e3760b4bf3841aea0cb583bf09a09e8": {
          "model_module": "@jupyter-widgets/controls",
          "model_name": "DescriptionStyleModel",
          "state": {
            "_view_name": "StyleView",
            "_model_name": "DescriptionStyleModel",
            "description_width": "",
            "_view_module": "@jupyter-widgets/base",
            "_model_module_version": "1.5.0",
            "_view_count": null,
            "_view_module_version": "1.2.0",
            "_model_module": "@jupyter-widgets/controls"
          }
        },
        "76a26d3d73fe437d91651d8f7e5ef30b": {
          "model_module": "@jupyter-widgets/base",
          "model_name": "LayoutModel",
          "state": {
            "_view_name": "LayoutView",
            "grid_template_rows": null,
            "right": null,
            "justify_content": null,
            "_view_module": "@jupyter-widgets/base",
            "overflow": null,
            "_model_module_version": "1.2.0",
            "_view_count": null,
            "flex_flow": null,
            "width": null,
            "min_width": null,
            "border": null,
            "align_items": null,
            "bottom": null,
            "_model_module": "@jupyter-widgets/base",
            "top": null,
            "grid_column": null,
            "overflow_y": null,
            "overflow_x": null,
            "grid_auto_flow": null,
            "grid_area": null,
            "grid_template_columns": null,
            "flex": null,
            "_model_name": "LayoutModel",
            "justify_items": null,
            "grid_row": null,
            "max_height": null,
            "align_content": null,
            "visibility": null,
            "align_self": null,
            "height": null,
            "min_height": null,
            "padding": null,
            "grid_auto_rows": null,
            "grid_gap": null,
            "max_width": null,
            "order": null,
            "_view_module_version": "1.2.0",
            "grid_template_areas": null,
            "object_position": null,
            "object_fit": null,
            "grid_auto_columns": null,
            "margin": null,
            "display": null,
            "left": null
          }
        },
        "28fd67637d6b425f8c5f054de15adab8": {
          "model_module": "@jupyter-widgets/controls",
          "model_name": "HBoxModel",
          "state": {
            "_view_name": "HBoxView",
            "_dom_classes": [],
            "_model_name": "HBoxModel",
            "_view_module": "@jupyter-widgets/controls",
            "_model_module_version": "1.5.0",
            "_view_count": null,
            "_view_module_version": "1.5.0",
            "box_style": "",
            "layout": "IPY_MODEL_8d932a7fc48b4ed3b33d3e0ad01d50a3",
            "_model_module": "@jupyter-widgets/controls",
            "children": [
              "IPY_MODEL_c857aa4e44c6495ca2d28f767e3cbc33",
              "IPY_MODEL_3973002c00ff4fdd9f0853a255e5e77d"
            ]
          }
        },
        "8d932a7fc48b4ed3b33d3e0ad01d50a3": {
          "model_module": "@jupyter-widgets/base",
          "model_name": "LayoutModel",
          "state": {
            "_view_name": "LayoutView",
            "grid_template_rows": null,
            "right": null,
            "justify_content": null,
            "_view_module": "@jupyter-widgets/base",
            "overflow": null,
            "_model_module_version": "1.2.0",
            "_view_count": null,
            "flex_flow": null,
            "width": null,
            "min_width": null,
            "border": null,
            "align_items": null,
            "bottom": null,
            "_model_module": "@jupyter-widgets/base",
            "top": null,
            "grid_column": null,
            "overflow_y": null,
            "overflow_x": null,
            "grid_auto_flow": null,
            "grid_area": null,
            "grid_template_columns": null,
            "flex": null,
            "_model_name": "LayoutModel",
            "justify_items": null,
            "grid_row": null,
            "max_height": null,
            "align_content": null,
            "visibility": null,
            "align_self": null,
            "height": null,
            "min_height": null,
            "padding": null,
            "grid_auto_rows": null,
            "grid_gap": null,
            "max_width": null,
            "order": null,
            "_view_module_version": "1.2.0",
            "grid_template_areas": null,
            "object_position": null,
            "object_fit": null,
            "grid_auto_columns": null,
            "margin": null,
            "display": null,
            "left": null
          }
        },
        "c857aa4e44c6495ca2d28f767e3cbc33": {
          "model_module": "@jupyter-widgets/controls",
          "model_name": "FloatProgressModel",
          "state": {
            "_view_name": "ProgressView",
            "style": "IPY_MODEL_fada6a6138f84696b5330464cdea2032",
            "_dom_classes": [],
            "description": "",
            "_model_name": "FloatProgressModel",
            "bar_style": "success",
            "max": 1,
            "_view_module": "@jupyter-widgets/controls",
            "_model_module_version": "1.5.0",
            "value": 1,
            "_view_count": null,
            "_view_module_version": "1.5.0",
            "orientation": "horizontal",
            "min": 0,
            "description_tooltip": null,
            "_model_module": "@jupyter-widgets/controls",
            "layout": "IPY_MODEL_e76d6191a07b463894bb2f19c47dd373"
          }
        },
        "3973002c00ff4fdd9f0853a255e5e77d": {
          "model_module": "@jupyter-widgets/controls",
          "model_name": "HTMLModel",
          "state": {
            "_view_name": "HTMLView",
            "style": "IPY_MODEL_6d2fd91dad104d63b20a7789fc839d06",
            "_dom_classes": [],
            "description": "",
            "_model_name": "HTMLModel",
            "placeholder": "​",
            "_view_module": "@jupyter-widgets/controls",
            "_model_module_version": "1.5.0",
            "value": " 10002/? [01:03&lt;00:00, 156.49it/s]",
            "_view_count": null,
            "_view_module_version": "1.5.0",
            "description_tooltip": null,
            "_model_module": "@jupyter-widgets/controls",
            "layout": "IPY_MODEL_6627e6c6adf34cee98e0dd0d0ee3d3b7"
          }
        },
        "fada6a6138f84696b5330464cdea2032": {
          "model_module": "@jupyter-widgets/controls",
          "model_name": "ProgressStyleModel",
          "state": {
            "_view_name": "StyleView",
            "_model_name": "ProgressStyleModel",
            "description_width": "initial",
            "_view_module": "@jupyter-widgets/base",
            "_model_module_version": "1.5.0",
            "_view_count": null,
            "_view_module_version": "1.2.0",
            "bar_color": null,
            "_model_module": "@jupyter-widgets/controls"
          }
        },
        "e76d6191a07b463894bb2f19c47dd373": {
          "model_module": "@jupyter-widgets/base",
          "model_name": "LayoutModel",
          "state": {
            "_view_name": "LayoutView",
            "grid_template_rows": null,
            "right": null,
            "justify_content": null,
            "_view_module": "@jupyter-widgets/base",
            "overflow": null,
            "_model_module_version": "1.2.0",
            "_view_count": null,
            "flex_flow": null,
            "width": null,
            "min_width": null,
            "border": null,
            "align_items": null,
            "bottom": null,
            "_model_module": "@jupyter-widgets/base",
            "top": null,
            "grid_column": null,
            "overflow_y": null,
            "overflow_x": null,
            "grid_auto_flow": null,
            "grid_area": null,
            "grid_template_columns": null,
            "flex": null,
            "_model_name": "LayoutModel",
            "justify_items": null,
            "grid_row": null,
            "max_height": null,
            "align_content": null,
            "visibility": null,
            "align_self": null,
            "height": null,
            "min_height": null,
            "padding": null,
            "grid_auto_rows": null,
            "grid_gap": null,
            "max_width": null,
            "order": null,
            "_view_module_version": "1.2.0",
            "grid_template_areas": null,
            "object_position": null,
            "object_fit": null,
            "grid_auto_columns": null,
            "margin": null,
            "display": null,
            "left": null
          }
        },
        "6d2fd91dad104d63b20a7789fc839d06": {
          "model_module": "@jupyter-widgets/controls",
          "model_name": "DescriptionStyleModel",
          "state": {
            "_view_name": "StyleView",
            "_model_name": "DescriptionStyleModel",
            "description_width": "",
            "_view_module": "@jupyter-widgets/base",
            "_model_module_version": "1.5.0",
            "_view_count": null,
            "_view_module_version": "1.2.0",
            "_model_module": "@jupyter-widgets/controls"
          }
        },
        "6627e6c6adf34cee98e0dd0d0ee3d3b7": {
          "model_module": "@jupyter-widgets/base",
          "model_name": "LayoutModel",
          "state": {
            "_view_name": "LayoutView",
            "grid_template_rows": null,
            "right": null,
            "justify_content": null,
            "_view_module": "@jupyter-widgets/base",
            "overflow": null,
            "_model_module_version": "1.2.0",
            "_view_count": null,
            "flex_flow": null,
            "width": null,
            "min_width": null,
            "border": null,
            "align_items": null,
            "bottom": null,
            "_model_module": "@jupyter-widgets/base",
            "top": null,
            "grid_column": null,
            "overflow_y": null,
            "overflow_x": null,
            "grid_auto_flow": null,
            "grid_area": null,
            "grid_template_columns": null,
            "flex": null,
            "_model_name": "LayoutModel",
            "justify_items": null,
            "grid_row": null,
            "max_height": null,
            "align_content": null,
            "visibility": null,
            "align_self": null,
            "height": null,
            "min_height": null,
            "padding": null,
            "grid_auto_rows": null,
            "grid_gap": null,
            "max_width": null,
            "order": null,
            "_view_module_version": "1.2.0",
            "grid_template_areas": null,
            "object_position": null,
            "object_fit": null,
            "grid_auto_columns": null,
            "margin": null,
            "display": null,
            "left": null
          }
        }
      }
    }
  },
  "cells": [
    {
      "cell_type": "markdown",
      "metadata": {
        "id": "yRynVVFqczch"
      },
      "source": [
        "Inspired by [paper](https://www.researchgate.net/publication/237135894_A_unifying_framework_for_complexity_measures_of_finite_systems)\n",
        "\n",
        "In this notebook I will implement TSE and Excess Entropy calculation and test it on following datasets:\n",
        "\n",
        "\n",
        "\n",
        "1.   Wikipedia\n",
        "2.   Simple English Wikipedia\n"
      ]
    },
    {
      "cell_type": "markdown",
      "metadata": {
        "id": "fNPwqgcCuoBC"
      },
      "source": [
        "# Preparation"
      ]
    },
    {
      "cell_type": "code",
      "metadata": {
        "colab": {
          "base_uri": "https://localhost:8080/"
        },
        "id": "UMAfwK2Tuqk3",
        "outputId": "3cffbcc1-815d-4903-8cf1-cde8b850ebeb"
      },
      "source": [
        "!python3 -m pip install sentencepiece > /dev/null && echo 'OK'"
      ],
      "execution_count": 1,
      "outputs": [
        {
          "output_type": "stream",
          "text": [
            "OK\n"
          ],
          "name": "stdout"
        }
      ]
    },
    {
      "cell_type": "code",
      "metadata": {
        "colab": {
          "base_uri": "https://localhost:8080/"
        },
        "id": "gPYhLHbjyW9j",
        "outputId": "8710dda1-1502-4cb8-9a4c-4b7cc50e0077"
      },
      "source": [
        "!python3 -m pip install tensorflow_text > /dev/null && echo 'OK'"
      ],
      "execution_count": 2,
      "outputs": [
        {
          "output_type": "stream",
          "text": [
            "OK\n"
          ],
          "name": "stdout"
        }
      ]
    },
    {
      "cell_type": "code",
      "metadata": {
        "colab": {
          "base_uri": "https://localhost:8080/"
        },
        "id": "ETFmTXXgyW3v",
        "outputId": "e91495c4-9374-4b09-db59-9c99a9182be8"
      },
      "source": [
        "!python3 -m pip install tensorflow_datasets > /dev/null && echo 'OK'"
      ],
      "execution_count": 3,
      "outputs": [
        {
          "output_type": "stream",
          "text": [
            "OK\n"
          ],
          "name": "stdout"
        }
      ]
    },
    {
      "cell_type": "code",
      "metadata": {
        "colab": {
          "base_uri": "https://localhost:8080/"
        },
        "id": "64qgPiHyyCgF",
        "outputId": "4a18ed5c-dac0-4066-9a5e-911087125af6"
      },
      "source": [
        "!python3 -m pip install tf_sentencepiece > /dev/null && echo 'OK'"
      ],
      "execution_count": 4,
      "outputs": [
        {
          "output_type": "stream",
          "text": [
            "OK\n"
          ],
          "name": "stdout"
        }
      ]
    },
    {
      "cell_type": "markdown",
      "metadata": {
        "id": "K_JtxlGAGrhP"
      },
      "source": [
        "### Imports"
      ]
    },
    {
      "cell_type": "code",
      "metadata": {
        "id": "QvRHcxDKukxK"
      },
      "source": [
        "import sentencepiece as spm\n",
        "import tensorflow_datasets as tfds\n",
        "from tqdm.notebook import tqdm\n",
        "import numpy as np\n",
        "from typing import List, Tuple\n",
        "import nltk\n",
        "import matplotlib.pyplot as plt"
      ],
      "execution_count": 5,
      "outputs": []
    },
    {
      "cell_type": "markdown",
      "metadata": {
        "id": "wNiRzbPddkZx"
      },
      "source": [
        "# Datasets"
      ]
    },
    {
      "cell_type": "markdown",
      "metadata": {
        "id": "sdwSY9Tpmnwb"
      },
      "source": [
        "## Wikipedia"
      ]
    },
    {
      "cell_type": "markdown",
      "metadata": {
        "id": "NnlJ-q5quOeO"
      },
      "source": [
        "[link](https://www.tensorflow.org/datasets/catalog/wiki40b#wiki40ben_default_config) to dataset"
      ]
    },
    {
      "cell_type": "code",
      "metadata": {
        "colab": {
          "base_uri": "https://localhost:8080/",
          "height": 200,
          "referenced_widgets": [
            "7550efca3ae544b38fc9243cf9b2f7b1",
            "023298e42d8c4d909dd42fbc7d799f1b",
            "238370d724a143628f526efc2e960323",
            "ec7881c439a346f8bf99fba8728960fe",
            "9d7c65079e9e4e7eb56021f395431a1c",
            "b37748cfaa9d44ebb1908fcd7e9c5e1d",
            "1167ec36bc8f4d01a78255ae278049b8",
            "5edd0e01359740c88cbb55d71a8416d4"
          ]
        },
        "id": "fttAVOrWiFAi",
        "outputId": "5317f079-ee51-40aa-9473-bec929a851a7"
      },
      "source": [
        "ds = tfds.load('wiki40b/en', split='train', shuffle_files=True)"
      ],
      "execution_count": 6,
      "outputs": [
        {
          "output_type": "stream",
          "text": [
            "\u001b[1mDownloading and preparing dataset wiki40b/en/1.3.0 (download: Unknown size, generated: 9.91 GiB, total: 9.91 GiB) to /root/tensorflow_datasets/wiki40b/en/1.3.0...\u001b[0m\n"
          ],
          "name": "stdout"
        },
        {
          "output_type": "stream",
          "text": [
            "WARNING:absl:Dataset wiki40b is hosted on GCS. It will automatically be downloaded to your\n",
            "local data directory. If you'd instead prefer to read directly from our public\n",
            "GCS bucket (recommended if you're running on GCP), you can instead pass\n",
            "`try_gcs=True` to `tfds.load` or set `data_dir=gs://tfds-data/datasets`.\n",
            "\n"
          ],
          "name": "stderr"
        },
        {
          "output_type": "display_data",
          "data": {
            "application/vnd.jupyter.widget-view+json": {
              "model_id": "7550efca3ae544b38fc9243cf9b2f7b1",
              "version_minor": 0,
              "version_major": 2
            },
            "text/plain": [
              "HBox(children=(FloatProgress(value=0.0, description='Dl Completed...', max=142.0, style=ProgressStyle(descript…"
            ]
          },
          "metadata": {
            "tags": []
          }
        },
        {
          "output_type": "stream",
          "text": [
            "\n",
            "\n",
            "\u001b[1mDataset wiki40b downloaded and prepared to /root/tensorflow_datasets/wiki40b/en/1.3.0. Subsequent calls will reuse this data.\u001b[0m\n"
          ],
          "name": "stdout"
        }
      ]
    },
    {
      "cell_type": "code",
      "metadata": {
        "id": "Y0T-7CICjH-U"
      },
      "source": [
        "MAX_TEXTS_SIZE = 10000\n",
        "\n",
        "texts = []\n",
        "for x in ds:\n",
        "    if len(texts) > MAX_TEXTS_SIZE:\n",
        "        break\n",
        "    s = x['text'].numpy().decode('utf-8')\n",
        "    text = s.replace('_NEWLINE_', ' ').replace('_START_ARTICLE_', '').replace('_START_PARAGRAPH_', '').replace('_START_SECTION_',' ').split('\\n')\n",
        "    texts += list(filter(lambda x: len(x) > 20, text))"
      ],
      "execution_count": 127,
      "outputs": []
    },
    {
      "cell_type": "code",
      "metadata": {
        "id": "eHhMXOohxcbX"
      },
      "source": [
        "with open('train_text.txt', 'w') as fout:\n",
        "    for text in texts:\n",
        "        fout.write(text)\n",
        "        fout.write('\\n')"
      ],
      "execution_count": 128,
      "outputs": []
    },
    {
      "cell_type": "code",
      "metadata": {
        "id": "cyhbH3dH2H-D"
      },
      "source": [
        "spm.SentencePieceTrainer.train('--input=train_text.txt --model_prefix=m --vocab_size=500')"
      ],
      "execution_count": 129,
      "outputs": []
    },
    {
      "cell_type": "code",
      "metadata": {
        "colab": {
          "base_uri": "https://localhost:8080/"
        },
        "id": "eucB94nzOGFG",
        "outputId": "f0c63d7b-2f2d-49b4-8221-f6563912a5b0"
      },
      "source": [
        "print(list(sp.id_to_piece(i) for i in range(sp.vocab_size())))\n",
        "print(sp.vocab_size())"
      ],
      "execution_count": 130,
      "outputs": [
        {
          "output_type": "stream",
          "text": [
            "['<unk>', '<s>', '</s>', 's', '▁', 'e', '▁the', ',', 't', 'a', '.', 'o', 'n', '▁a', 'ed', 'd', 'c', '▁in', '▁of', 'i', 'y', 'er', 'p', '▁and', 'ing', 'u', 'm', '▁to', 'al', 'ar', 'h', '▁s', 'b', 'or', 'g', 'f', 'w', 'r', 're', 'in', 'en', 'le', 'an', 'on', 'ur', '▁c', 'l', 'k', '▁was', 'ri', '▁S', '▁f', 'ch', 'st', '▁re', 'th', '▁A', '▁C', 'v', '-', 'ra', 'it', '▁The', 'ro', 'es', '▁B', '▁for', '▁p', 'ic', 'il', 'ly', 'ent', \"'\", 'ter', '▁(', '▁P', '1', '▁on', 'am', '▁be', '▁b', 'at', '▁with', 'ad', '▁T', 'ation', '▁D', ')', '▁is', '▁19', '▁as', 'us', '▁M', 'el', 'ne', '▁In', '▁H', '▁F', '5', 'lo', 'li', '0', '9', '▁de', '▁W', '▁his', 'ce', '▁by', 'un', '▁he', '8', '▁m', '2', 'om', '4', '7', 'la', '▁2', 'as', '▁G', '6', 'nd', '▁N', 'is', 'ol', '▁d', '\"', 'se', '▁g', 'vi', '▁1', '▁at', '▁that', 'ver', 'ng', '▁st', 'et', 'ir', '3', '▁con', 'all', 'ion', 'im', 've', 'x', 'ut', '▁\"', 'te', '▁from', 'ate', 'ul', 'z', '▁t', '▁e', '▁mo', 'ive', 'id', '▁K', 'ment', 'ck', '▁an', '▁l', '▁ha', '▁ma', '▁E', '▁po', '00', 'pe', 'ist', '▁co', 'em', '▁J', 'j', 'ci', '▁I', '▁are', 'ow', 'up', 'ers', '▁St', '▁He', 'hi', 'est', 'um', 'ity', 'ther', 'ated', '▁were', 'ill', 'if', 'ies', 'and', 'S', 'age', 'A', '▁ex', '▁pro', 'ge', 'ted', '▁it', '▁Ma', 'ha', 'L', 'ia', 'und', 'll', '▁first', '▁V', 'co', 'ot', '▁which', 'ian', '▁no', 'pp', '▁O', 'ide', 'ine', 'ak', 'ign', 'C', 'ight', '▁or', '▁v', '▁la', '▁r', 'ant', '▁U', 'ry', '▁ho', '▁number', 'ub', '▁comp', 'lso', 'tion', 'ish', 'ence', '▁un', 'I', 'ru', '▁not', 'port', '▁bo', 'ig', '▁pre', 'ell', 'ance', 'B', 'ud', 'ical', '–', '▁Re', '▁had', '▁so', 'ous', 'ction', '▁Ch', '▁di', 'ition', '▁we', 'Y', '▁who', '▁part', 'ran', '▁18', 'mo', '20', 'ally', '▁On', 'man', 'tic', '▁their', 'ok', '▁two', ':', '▁me', '▁time', '▁play', '▁after', '▁Li', '▁its', '▁It', '▁year', '▁Ju', '▁Ro', '▁com', '▁but', '▁Mar', '▁her', 'old', 'ult', 'T', 'min', '▁Golovkin', '▁one', ').', 'land', '▁work', '▁tr', 'ard', '▁3', '▁have', '▁La', '▁new', 'able', '▁Mo', ';', '▁Lo', 'M', '▁would', '▁she', 'ven', '▁team', '▁do', '▁Ar', 'P', 'ough', '▁over', 'came', '▁dis', '▁this', 'tory', '▁out', '▁fight', 'ward', 'R', '▁him', 'ood', 'que', 'ture', '▁season', '▁again', '▁into', 'lect', '▁some', 'ship', '▁name', '▁serv', '▁other', 'E', '▁Busch', 'ize', '▁She', 'D', 'qui', 'ctor', '▁Ra', 'F', '▁University', '▁second', 'tain', '▁when', '▁used', 'O', '%', '▁under', ',000', 'each', 'way', '▁even', '▁than', '▁found', '▁three', '▁art', 'qua', 'V', 'é', '▁made', '▁where', '▁house', '▁before', '▁produc', 'G', '▁New', '▁start', '▁high', '▁trans', '▁many', '▁qu', '/', '▁while', 'H', '▁place', 'N', '▁member', '▁building', '▁America', '▁large', '▁show', 'Z', '▁Otpor', '▁series', '▁through', '▁title', '▁such', 'view', '▁Ri', '▁Ru', '▁United', '▁game', '▁family', '▁German', '▁street', '▁After', '▁appear', '▁group', '▁open', '▁diaphragm', '▁follow', '▁about', '▁include', '▁between', '▁2013', '▁film', '▁announced', '▁album', '▁record', '▁direct', '▁League', '▁develop', 'W', '$', '▁world', '▁people', '▁World', '▁system', '▁October', '▁known', 'graph', '▁student', '▁September', '▁episode', '▁school', 'U', '&', 'K', 'Q', '[', ']', 'á', '—', 'J', '!', 'ö', 'ü', '’', 'ó', 'í', 'š', 'X', 'о', '(', '”', '“', 'č', '?', 'к', 'q', 'с', '′', 'σ', '*', 'ō', '∈', 'ו', 'а', 'ּ', 'ú', 'ç', 'р', 'ä', 'ָ', 'י', 'д', 'в', 'е', 'и', 'т', '°', 'н', 'ְ', 'à', 'м', 'è', 'Σ', '+', 'μ', 'Î', 'ñ', 'đ', 'Đ', 'ø', 'ã', '#', '£', 'Á', 'ν', 'й', 'ִ', 'É', 'ć']\n",
            "500\n"
          ],
          "name": "stdout"
        }
      ]
    },
    {
      "cell_type": "code",
      "metadata": {
        "colab": {
          "base_uri": "https://localhost:8080/"
        },
        "id": "hxkkLHVy21f2",
        "outputId": "7c187e35-23ad-4337-c40d-b55407766c7e"
      },
      "source": [
        "sp = spm.SentencePieceProcessor()\n",
        "sp.load('m.model')"
      ],
      "execution_count": 131,
      "outputs": [
        {
          "output_type": "execute_result",
          "data": {
            "text/plain": [
              "True"
            ]
          },
          "metadata": {
            "tags": []
          },
          "execution_count": 131
        }
      ]
    },
    {
      "cell_type": "code",
      "metadata": {
        "colab": {
          "base_uri": "https://localhost:8080/"
        },
        "id": "lkdORK975AG4",
        "outputId": "0b025a06-8974-4ba5-c576-684c03443441"
      },
      "source": [
        "print(sp.encode_as_ids('Hello, my friend'))\n",
        "print(sp.encode_as_pieces('Hello, my friend'))"
      ],
      "execution_count": 132,
      "outputs": [
        {
          "output_type": "stream",
          "text": [
            "[100, 226, 11, 7, 87, 19, 44, 38, 189]\n",
            "['▁H', 'ell', 'o', ',', '▁m', 'y', '▁f', 'ri', 'end']\n"
          ],
          "name": "stdout"
        }
      ]
    },
    {
      "cell_type": "code",
      "metadata": {
        "id": "_PnD_rNLGVDv"
      },
      "source": [
        "def collect_statistics(\n",
        "    texts: List[str], \n",
        "    sp: spm.SentencePieceProcessor\n",
        ") -> Tuple[np.ndarray]:\n",
        "    \"\"\"\n",
        "    texts: the list of str texts\n",
        "    sp: pretrained sentencepieces tokenizer\n",
        "\n",
        "    Returns\n",
        "    - a nltk.FreqDist with counts for (i, (x_{i-1}, x_i))\n",
        "    - a nltk.FreqDist with counts for (i, x_i)\n",
        "    \"\"\"\n",
        "\n",
        "    vocab_size = sp.vocab_size()\n",
        "    bins = np.arange(vocab_size + 1)\n",
        "\n",
        "    F_pair = nltk.FreqDist()\n",
        "    F_single = nltk.FreqDist()\n",
        "\n",
        "    for text in tqdm(texts):\n",
        "        tokenized_sequence = sp.encode_as_ids(text)\n",
        "        bgs = nltk.bigrams(tokenized_sequence)\n",
        "        F_pair += nltk.FreqDist(zip(range(1, len(tokenized_sequence)), bgs))\n",
        "        F_single += nltk.FreqDist(zip(range(len(tokenized_sequence)), tokenized_sequence))\n",
        "    \n",
        "    return F_pair, F_single"
      ],
      "execution_count": 133,
      "outputs": []
    },
    {
      "cell_type": "code",
      "metadata": {
        "colab": {
          "base_uri": "https://localhost:8080/",
          "height": 66,
          "referenced_widgets": [
            "5f851a67e9294556b9ba683f6a46be92",
            "d3f5160765d548b78df5ef2025bb0f22",
            "626b27b877d242999919cae934f1fe8d",
            "da43575c4eb3432ba19f87173459cd62",
            "e569b558ec5d4a55844a535499d2d6b4",
            "a2f74a051f1e416d9b14e24d6e38ad76",
            "6e3760b4bf3841aea0cb583bf09a09e8",
            "76a26d3d73fe437d91651d8f7e5ef30b"
          ]
        },
        "id": "g_5OqF5EHu5m",
        "outputId": "67124bc7-5c91-43ae-d013-b86d99cbf9ea"
      },
      "source": [
        "F_pair, F_single = collect_statistics(texts, sp)"
      ],
      "execution_count": 134,
      "outputs": [
        {
          "output_type": "display_data",
          "data": {
            "application/vnd.jupyter.widget-view+json": {
              "model_id": "5f851a67e9294556b9ba683f6a46be92",
              "version_minor": 0,
              "version_major": 2
            },
            "text/plain": [
              "HBox(children=(FloatProgress(value=0.0, max=10002.0), HTML(value='')))"
            ]
          },
          "metadata": {
            "tags": []
          }
        },
        {
          "output_type": "stream",
          "text": [
            "\n"
          ],
          "name": "stdout"
        }
      ]
    },
    {
      "cell_type": "markdown",
      "metadata": {
        "id": "Qg5gBHJiaEr_"
      },
      "source": [
        "## Simple English wikipedia\n",
        "\n",
        "some [link](https://github.com/LGDoor/Dump-of-Simple-English-Wiki)"
      ]
    },
    {
      "cell_type": "code",
      "metadata": {
        "id": "v3KWq7C_aIFh"
      },
      "source": [
        ""
      ],
      "execution_count": 134,
      "outputs": []
    },
    {
      "cell_type": "markdown",
      "metadata": {
        "id": "-mEdPDuTahqn"
      },
      "source": [
        "# Calculating metrics"
      ]
    },
    {
      "cell_type": "markdown",
      "metadata": {
        "id": "2JXHXbenajsb"
      },
      "source": [
        "## Excess Entropy\n",
        "\n",
        "Friendly reminder:\n",
        "\n",
        "Suppose that we have a sequence of tokens $x_0, x_1, \\ldots, x_{n-1}$.\n",
        "We want to calculate $E(x_0, x_1, \\ldots, x_{n-1})$\n",
        "\n",
        "In original papers this metrics can be calculated only of some multidimensional random value, but not of sequence of numbers. \n",
        "\n",
        "So, $E(X_0, X_1, \\ldots, X_{n-1}) = (n-1)\\left(\\frac{1}{n-1}\\sum\\limits_{i=0}^{n-1}H(X_0, X_1, \\ldots, X_{i-1}, X_{i+1}, \\ldots, X_{n-1}) - H(X_0, \\ldots, X_{n-1})\\right)$\n",
        "\n",
        "The problem is how to calculate $H(\\ldots)$ if we have only a sequence of numbers.\n",
        "\n",
        "First of all, let's simplify the problem: we want to create such r.v. $\\xi_i$ from our numbers in such a way that $H(\\xi_0, \\ldots, \\xi_{n-1}) = H(\\xi_0) + H(\\xi_1|\\xi_0) + \\ldots + H(\\xi_{n-1}|\\xi_{n-2})$. How can we find such r.v.?\n",
        "\n",
        "Notice that $xi_i$ should depends on the position ($i$) in the sequence and on number at this position ($x_i$).\n",
        "\n",
        "Let's construct r.v. by $x_i$. So, $x_i$ will generate r.v. $\\xi^i_{x_i}$. What the distribution of such r.v. is?\n",
        "\n",
        "* $p(\\xi^0_{x_0}) = \\frac{\\#\\text{sequences with $x_0$ at the very beginning}}{\\#\\text{of first positions}}$\n",
        "\n",
        "* $p(\\xi^i_{x_i} | \\xi^{i-1}_{x_{i-1}}) = \\frac{\\#\\text{sequences with $x_{i-1}$ at position $i-1$ and $x_i$ at position $x_i$}}{\\#\\text{sequences with $i$-th position}}$\n",
        "\n",
        "Then we can define Excess Entropy of sequence of numbers\n",
        "\n",
        "$E(x_0, \\ldots, x_{n-1}) = E(\\xi^0_{x_0}, \\xi^1_{x_1}, \\ldots, \\xi^{n-1}_{x_{n-1}})$\n",
        "\n",
        "How to calculate it efficiently?\n",
        "\n",
        "Let's denote $\\mu_i = \\xi^i_{x_i}$\n",
        "\n",
        "* $\\hat{H} = H(\\mu_0, \\ldots, \\mu_{n-1}) = H(\\mu_0) + H(\\mu_1|\\mu_0) + \\ldots + H(\\mu_{n-1} | \\mu_{n-2})$\n",
        "    * $H(\\mu_i) = -p(\\mu_i)\\log p(\\mu_i)$\n",
        "    * $H(\\mu_i|\\mu_{i-1}) = -p(\\mu_i|\\mu_{i-1})\\log p(\\mu_i|\\mu_{i-1})$\n",
        "* $H(\\mu_0, \\ldots, \\mu_{i-1}, \\mu_{i+1}, \\ldots, \\mu_{n-1}) = \\hat{H} - H(\\mu_i|\\mu_{i-1}) - H(\\mu_{i+1}|\\mu_i) + H(\\mu_{i+1}|\\mu_{i-1}) = $\n",
        "$=\\hat{H} - H(\\mu_i|\\mu_{i-1}) - H(\\mu_{i+1}|\\mu_i) + H(\\mu_{i+1})$\n",
        "\n",
        "So, we can easily calculate Excess Entropy in $O(n)$ time\n",
        "\n",
        "**Note**: if we will define r.v. which depends only on values then we can not easily calculate Excess entropy, because there is dependency between all r.v."
      ]
    },
    {
      "cell_type": "code",
      "metadata": {
        "id": "7HFDbvgSai3s"
      },
      "source": [
        "def calculate_excess_entropy(\n",
        "    texts: List[str], \n",
        "    sp: spm.SentencePieceProcessor,\n",
        "    F_pair: nltk.FreqDist,\n",
        "    F_single: nltk.FreqDist\n",
        ") -> np.ndarray:\n",
        "    \"\"\"\n",
        "    texts: the list of str texts\n",
        "    sp: pretrained sentencepieces tokenizer\n",
        "    F_pair: nltk.FreqDist with counts for (i, (x_{i-1}, x_i))\n",
        "    F_single: nltk.FreqDist with counts for (i, x_i)\n",
        "\n",
        "    Returns\n",
        "    - a (# of texts,) numpy array with excess entropy calculated for each text\n",
        "    \"\"\"\n",
        "\n",
        "    EPS = 1e-9\n",
        "    def calculate_entropy(p):\n",
        "        return -p * np.log(p + EPS) - (1 - p) * np.log(1 - p)\n",
        "\n",
        "    def H_pair(i, prev, cur):\n",
        "        return calculate_entropy(F_pair.freq((i, (prev, cur))))\n",
        "\n",
        "    def H_single(i, xi):\n",
        "        return calculate_entropy(F_single.freq((i, xi)))\n",
        "\n",
        "    ee = np.zeros(len(texts), dtype=float)\n",
        "\n",
        "    for id, text in tqdm(enumerate(texts)):\n",
        "        x = sp.encode_as_ids(text)\n",
        "        n = len(x)\n",
        "        H_hat = 0\n",
        "        delta = 0\n",
        "        for i in range(n):\n",
        "            if i == 0:\n",
        "                H_hat += H_single(0, x[i])\n",
        "            else:\n",
        "                H_hat += H_pair(i, x[i - 1], x[i])\n",
        "\n",
        "            if i > 0:\n",
        "                delta += -H_pair(i, x[i - 1], x[i])\n",
        "            if i + 1 < n:\n",
        "                delta += -H_pair(i + 1, x[i], x[i + 1]) + H_single(i + 1, x[i + 1])\n",
        "        ee[id] = delta + H_hat\n",
        "\n",
        "    return ee"
      ],
      "execution_count": 135,
      "outputs": []
    },
    {
      "cell_type": "code",
      "metadata": {
        "colab": {
          "base_uri": "https://localhost:8080/",
          "height": 66,
          "referenced_widgets": [
            "28fd67637d6b425f8c5f054de15adab8",
            "8d932a7fc48b4ed3b33d3e0ad01d50a3",
            "c857aa4e44c6495ca2d28f767e3cbc33",
            "3973002c00ff4fdd9f0853a255e5e77d",
            "fada6a6138f84696b5330464cdea2032",
            "e76d6191a07b463894bb2f19c47dd373",
            "6d2fd91dad104d63b20a7789fc839d06",
            "6627e6c6adf34cee98e0dd0d0ee3d3b7"
          ]
        },
        "id": "11JCBUFWgcpi",
        "outputId": "0f0e09b2-6228-48a2-de26-e72f593cc62d"
      },
      "source": [
        "ee = calculate_excess_entropy(\n",
        "    texts,\n",
        "    sp,\n",
        "    F_pair,\n",
        "    F_single\n",
        ")"
      ],
      "execution_count": 136,
      "outputs": [
        {
          "output_type": "display_data",
          "data": {
            "application/vnd.jupyter.widget-view+json": {
              "model_id": "28fd67637d6b425f8c5f054de15adab8",
              "version_minor": 0,
              "version_major": 2
            },
            "text/plain": [
              "HBox(children=(FloatProgress(value=1.0, bar_style='info', max=1.0), HTML(value='')))"
            ]
          },
          "metadata": {
            "tags": []
          }
        },
        {
          "output_type": "stream",
          "text": [
            "\n"
          ],
          "name": "stdout"
        }
      ]
    },
    {
      "cell_type": "code",
      "metadata": {
        "colab": {
          "base_uri": "https://localhost:8080/"
        },
        "id": "JlCoXtb3jZLd",
        "outputId": "1b9b10a0-e85b-4901-c09c-57a56dbb402a"
      },
      "source": [
        "print(ee.min(), ee.max(), ee.mean(), ee.std())"
      ],
      "execution_count": 137,
      "outputs": [
        {
          "output_type": "stream",
          "text": [
            "0.0006173471416338807 0.11830589345881981 0.03996773989250456 0.030246260994301662\n"
          ],
          "name": "stdout"
        }
      ]
    },
    {
      "cell_type": "code",
      "metadata": {
        "colab": {
          "base_uri": "https://localhost:8080/"
        },
        "id": "Rfrt6QEjjf0l",
        "outputId": "12f48a25-fa76-453e-d3cc-5b36eef17825"
      },
      "source": [
        "ee.min(), ee.max()"
      ],
      "execution_count": 138,
      "outputs": [
        {
          "output_type": "execute_result",
          "data": {
            "text/plain": [
              "(0.0006173471416338807, 0.11830589345881981)"
            ]
          },
          "metadata": {
            "tags": []
          },
          "execution_count": 138
        }
      ]
    },
    {
      "cell_type": "code",
      "metadata": {
        "id": "Q9ObqiGeRpId"
      },
      "source": [
        "lens = np.array([len(sp.encode_as_ids(text)) for text in texts])"
      ],
      "execution_count": 139,
      "outputs": []
    },
    {
      "cell_type": "code",
      "metadata": {
        "colab": {
          "base_uri": "https://localhost:8080/",
          "height": 624
        },
        "id": "xA2LSotJR-Rz",
        "outputId": "717d0b8e-a309-4d87-e214-4e1262f8a7a6"
      },
      "source": [
        "plt.figure(figsize=(10, 10))\n",
        "plt.xlabel('len')\n",
        "plt.ylabel('Excess Entropy')\n",
        "plt.scatter(lens, ee)\n",
        ";"
      ],
      "execution_count": 140,
      "outputs": [
        {
          "output_type": "execute_result",
          "data": {
            "application/vnd.google.colaboratory.intrinsic+json": {
              "type": "string"
            },
            "text/plain": [
              "''"
            ]
          },
          "metadata": {
            "tags": []
          },
          "execution_count": 140
        },
        {
          "output_type": "display_data",
          "data": {
            "image/png": "[encoded data removed]",
            "text/plain": [
              "<Figure size 720x720 with 1 Axes>"
            ]
          },
          "metadata": {
            "tags": [],
            "needs_background": "light"
          }
        }
      ]
    },
    {
      "cell_type": "markdown",
      "metadata": {
        "id": "KfR0tCwQTyzG"
      },
      "source": [
        "## TSE Complexity\n",
        "\n",
        "We have sequence of numbers (tokens): $x_0, \\ldots, x_{n-1}$\n",
        "\n",
        "Let's denote \n",
        "* $V_i = \\{0, 1, \\ldots, i\\}$\n",
        "* $V = V_{n-1}$\n",
        "* $\\mu_A = \\mu_{i_0}, \\mu_{i_1}, \\ldots, \\mu_{i_{k-1}}$, where $A = \\{i_0, i_1, \\ldots, i_{k-1}\\}$ and $i_{j} < i_{j+1}$\n",
        "\n",
        "\n",
        "TSE Complexity is $C(\\mu_V) = \\sum\\limits_{k=1}^{n-1}\\frac{k}{n}C^{(k)}(\\mu_V)$, where\n",
        "\n",
        "$C^{(k)}(\\mu_V) = \\left[\\frac{n}{k}\\cdot\\frac{1}{\\binom{n}{k}}\\sum\\limits_{A\\subset V, |A| = k}H(\\mu_A)\\right] - H(\\mu_V)$\n",
        "\n",
        "We already know, how to calculate $H(\\mu_V)$.\n",
        "\n",
        "How can we calculate left term of given formula. Let's use dynamic programming, which allows us to do it in $O(n^2)$ time complexity.\n",
        "\n",
        "Let's define \n",
        "\n",
        "* $d(i, k) = \\frac{1}{\\binom{i}{k}}\\sum\\limits_{A\\subset V_i, |A| = k} H(\\mu_A)$, \n",
        "\n",
        "    where $0 \\le i < n, 0 \\le k < n$\n",
        "\n",
        "* $d(i, 0) = 0$\n",
        "\n",
        "    $\\forall 0 \\le i < n$\n",
        "\n",
        "* $C^{(k)}(\\mu_V) = \\frac{n}{k}d(n - 1, k) - H(\\mu_V)$\n",
        "    \n",
        "    $C(\\mu_V) = \\sum\\limits_{k=1}^{n-1}\\left(d(n - 1, k) - \\frac{k}{n}H(\\mu_v)\\right) = \\left[\\sum\\limits_{k=1}^{n-1}d(n-1,k)\\right] - \\frac{n-1}{2}H(\\mu_V)$\n",
        "\n",
        "Transition:\n",
        "\n",
        "$d(i, k) = \\frac{1}{\\binom{i}{k}}\\sum\\limits_{A\\subset V_i, |A| = k} H(\\mu_A) =$\n",
        "\n",
        "$=\\left[\\frac{1}{\\binom{i}{k}}\\sum\\limits_{A\\subset V_{i-1}, |A| = k} H(\\mu_A)\\right]\n",
        "+ \\left[\\frac{1}{\\binom{i}{k}}\\sum\\limits_{A\\subset V_{i-1}, |A| = k-1,} H(\\mu_{A\\cup\\{i\\}})\\right]\n",
        "=$\n",
        "\n",
        "$=\\left[\\frac{1}{\\binom{i}{k}}\\sum\\limits_{A\\subset V_{i-1}, |A| = k} H(\\mu_A)\\right]\n",
        "+ \\left[\\frac{1}{\\binom{i}{k}}\\sum\\limits_{A\\subset V_{i-2}, |A|=k-1}H(\\mu_{A\\cup\\{i\\}})\\right]\n",
        "+ \\left[\\frac{1}{\\binom{i}{k}}\\sum\\limits_{A\\subset V_{i-2}, |A|=k-2}H(\\mu_{A\\cup\\{i-1,i\\}})\\right] = A + B + C$\n",
        "\n",
        "Let's introduce two definitions\n",
        "1. $d^0(i, k) = \\frac{1}{\\binom{i}{k}}\\sum\\limits_{A\\subset V_{i-1},|A|=k}H(\\mu_A)$. \n",
        "    \n",
        "    $d^0(i, 0) = 0$\n",
        "2. $d^1(i, k) = \\frac{1}{\\binom{i}{k}}\\sum\\limits_{A\\subset V_{i-1},|A|=k-1}H(\\mu_{A\\cup{\\{i\\}}})$. \n",
        "    \n",
        "    $d^1(i, 0) = 0$\n",
        "\n",
        "then we have \n",
        "* $d(i, k) = d^0(i, k) + d^1(i, k)$\n",
        "* $d^0(i, k) = d(i - 1, k)$\n",
        "\n",
        "Then if $i > 0$\n",
        "\n",
        "* $A = \\frac{i-k}{i}d(i-1,k)$\n",
        "\n",
        "* $B = \\frac{1}{\\binom{i}{k}}\\sum\\limits_{A\\subset V_{i-2},|A|=k-1}\\left[H(\\mu_A) + H(\\mu_i)\\right] = \\left[\\frac{1}{\\binom{i}{k}}\\sum\\limits_{A\\subset V_{i-2},|A|=k-1}H(\\mu_A)\\right] + \\frac{\\binom{i-1}{k-1}}{\\binom{i}{k}}H(\\mu_i) =$\n",
        "\n",
        "$= \\frac{i-k}{i}d^0(i-1,k-1) + \\frac{k}{i}H(\\mu_i)$\n",
        "\n",
        "* $C = \\frac{1}{\\binom{i}{k}}\\sum\\limits_{A\\subset V_{i-2}, |A|=k-2}\\left[H(\\mu_{A\\cup\\{i-1\\}}) + H(\\mu_i|\\mu_{i-1})\\right] = \\frac{i-k}{i}d^1(i-1,k-1) + \\frac{\\binom{i-1}{k-2}}{\\binom{i}{k}}H(\\mu_i|\\mu_{i-1}) = $\n",
        "\n",
        "$=\\frac{i-k}{i}d^1(i-1,k-1) + \\frac{k(k-1)}{i(i-k+1)}H(\\mu_i|\\mu_{i-1})$\n",
        "\n",
        "**Note**: $\\binom{i}{k}=\\frac{i!}{k!(i-k)!}=\\frac{(i-1)!i}{k!(i-1-k)!(i-k)}=\\binom{i-1}{k}\\frac{i}{i-k}$\n",
        "\n",
        "if $i = 0$ then \n",
        "* $d(0, 1) = H(\\mu_0)$\n",
        "* $d(0, k) = 0$\n",
        "\n",
        "    $\\forall k > 1$\n"
      ]
    },
    {
      "cell_type": "code",
      "metadata": {
        "id": "BAyH5NuPT0Gs"
      },
      "source": [
        ""
      ],
      "execution_count": null,
      "outputs": []
    }
  ]
}