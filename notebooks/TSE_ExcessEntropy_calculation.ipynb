{
  "nbformat": 4,
  "nbformat_minor": 0,
  "metadata": {
    "colab": {
      "name": "TSE_ExcessEntropy_calculation",
      "provenance": [],
      "collapsed_sections": []
    },
    "kernelspec": {
      "display_name": "Python 3",
      "name": "python3"
    },
    "widgets": {
      "application/vnd.jupyter.widget-state+json": {
        "e27e00c4471f4dda9b1c56d01fc3b5c6": {
          "model_module": "@jupyter-widgets/controls",
          "model_name": "HBoxModel",
          "state": {
            "_view_name": "HBoxView",
            "_dom_classes": [],
            "_model_name": "HBoxModel",
            "_view_module": "@jupyter-widgets/controls",
            "_model_module_version": "1.5.0",
            "_view_count": null,
            "_view_module_version": "1.5.0",
            "box_style": "",
            "layout": "IPY_MODEL_04d22bb21e044b3a822907ff401d3e70",
            "_model_module": "@jupyter-widgets/controls",
            "children": [
              "IPY_MODEL_3e8700301aa54aebb9fe3ae793bd659f",
              "IPY_MODEL_396c48318f0a4af7880ec324903abd1b"
            ]
          }
        },
        "04d22bb21e044b3a822907ff401d3e70": {
          "model_module": "@jupyter-widgets/base",
          "model_name": "LayoutModel",
          "state": {
            "_view_name": "LayoutView",
            "grid_template_rows": null,
            "right": null,
            "justify_content": null,
            "_view_module": "@jupyter-widgets/base",
            "overflow": null,
            "_model_module_version": "1.2.0",
            "_view_count": null,
            "flex_flow": null,
            "width": null,
            "min_width": null,
            "border": null,
            "align_items": null,
            "bottom": null,
            "_model_module": "@jupyter-widgets/base",
            "top": null,
            "grid_column": null,
            "overflow_y": null,
            "overflow_x": null,
            "grid_auto_flow": null,
            "grid_area": null,
            "grid_template_columns": null,
            "flex": null,
            "_model_name": "LayoutModel",
            "justify_items": null,
            "grid_row": null,
            "max_height": null,
            "align_content": null,
            "visibility": null,
            "align_self": null,
            "height": null,
            "min_height": null,
            "padding": null,
            "grid_auto_rows": null,
            "grid_gap": null,
            "max_width": null,
            "order": null,
            "_view_module_version": "1.2.0",
            "grid_template_areas": null,
            "object_position": null,
            "object_fit": null,
            "grid_auto_columns": null,
            "margin": null,
            "display": null,
            "left": null
          }
        },
        "3e8700301aa54aebb9fe3ae793bd659f": {
          "model_module": "@jupyter-widgets/controls",
          "model_name": "FloatProgressModel",
          "state": {
            "_view_name": "ProgressView",
            "style": "IPY_MODEL_5b7da8f4ab624bf5bdb2bb99c3199662",
            "_dom_classes": [],
            "description": "Dl Completed...: 100%",
            "_model_name": "FloatProgressModel",
            "bar_style": "success",
            "max": 142,
            "_view_module": "@jupyter-widgets/controls",
            "_model_module_version": "1.5.0",
            "value": 142,
            "_view_count": null,
            "_view_module_version": "1.5.0",
            "orientation": "horizontal",
            "min": 0,
            "description_tooltip": null,
            "_model_module": "@jupyter-widgets/controls",
            "layout": "IPY_MODEL_9db7a4ba1b014a51853a3323a736f483"
          }
        },
        "396c48318f0a4af7880ec324903abd1b": {
          "model_module": "@jupyter-widgets/controls",
          "model_name": "HTMLModel",
          "state": {
            "_view_name": "HTMLView",
            "style": "IPY_MODEL_c73b29e0f1b34547b0e0ca76d50c25fd",
            "_dom_classes": [],
            "description": "",
            "_model_name": "HTMLModel",
            "placeholder": "​",
            "_view_module": "@jupyter-widgets/controls",
            "_model_module_version": "1.5.0",
            "value": " 142/142 [02:41&lt;00:00,  1.14s/ file]",
            "_view_count": null,
            "_view_module_version": "1.5.0",
            "description_tooltip": null,
            "_model_module": "@jupyter-widgets/controls",
            "layout": "IPY_MODEL_fb2197dd26d3431eb3e07257ed9fc83f"
          }
        },
        "5b7da8f4ab624bf5bdb2bb99c3199662": {
          "model_module": "@jupyter-widgets/controls",
          "model_name": "ProgressStyleModel",
          "state": {
            "_view_name": "StyleView",
            "_model_name": "ProgressStyleModel",
            "description_width": "initial",
            "_view_module": "@jupyter-widgets/base",
            "_model_module_version": "1.5.0",
            "_view_count": null,
            "_view_module_version": "1.2.0",
            "bar_color": null,
            "_model_module": "@jupyter-widgets/controls"
          }
        },
        "9db7a4ba1b014a51853a3323a736f483": {
          "model_module": "@jupyter-widgets/base",
          "model_name": "LayoutModel",
          "state": {
            "_view_name": "LayoutView",
            "grid_template_rows": null,
            "right": null,
            "justify_content": null,
            "_view_module": "@jupyter-widgets/base",
            "overflow": null,
            "_model_module_version": "1.2.0",
            "_view_count": null,
            "flex_flow": null,
            "width": null,
            "min_width": null,
            "border": null,
            "align_items": null,
            "bottom": null,
            "_model_module": "@jupyter-widgets/base",
            "top": null,
            "grid_column": null,
            "overflow_y": null,
            "overflow_x": null,
            "grid_auto_flow": null,
            "grid_area": null,
            "grid_template_columns": null,
            "flex": null,
            "_model_name": "LayoutModel",
            "justify_items": null,
            "grid_row": null,
            "max_height": null,
            "align_content": null,
            "visibility": null,
            "align_self": null,
            "height": null,
            "min_height": null,
            "padding": null,
            "grid_auto_rows": null,
            "grid_gap": null,
            "max_width": null,
            "order": null,
            "_view_module_version": "1.2.0",
            "grid_template_areas": null,
            "object_position": null,
            "object_fit": null,
            "grid_auto_columns": null,
            "margin": null,
            "display": null,
            "left": null
          }
        },
        "c73b29e0f1b34547b0e0ca76d50c25fd": {
          "model_module": "@jupyter-widgets/controls",
          "model_name": "DescriptionStyleModel",
          "state": {
            "_view_name": "StyleView",
            "_model_name": "DescriptionStyleModel",
            "description_width": "",
            "_view_module": "@jupyter-widgets/base",
            "_model_module_version": "1.5.0",
            "_view_count": null,
            "_view_module_version": "1.2.0",
            "_model_module": "@jupyter-widgets/controls"
          }
        },
        "fb2197dd26d3431eb3e07257ed9fc83f": {
          "model_module": "@jupyter-widgets/base",
          "model_name": "LayoutModel",
          "state": {
            "_view_name": "LayoutView",
            "grid_template_rows": null,
            "right": null,
            "justify_content": null,
            "_view_module": "@jupyter-widgets/base",
            "overflow": null,
            "_model_module_version": "1.2.0",
            "_view_count": null,
            "flex_flow": null,
            "width": null,
            "min_width": null,
            "border": null,
            "align_items": null,
            "bottom": null,
            "_model_module": "@jupyter-widgets/base",
            "top": null,
            "grid_column": null,
            "overflow_y": null,
            "overflow_x": null,
            "grid_auto_flow": null,
            "grid_area": null,
            "grid_template_columns": null,
            "flex": null,
            "_model_name": "LayoutModel",
            "justify_items": null,
            "grid_row": null,
            "max_height": null,
            "align_content": null,
            "visibility": null,
            "align_self": null,
            "height": null,
            "min_height": null,
            "padding": null,
            "grid_auto_rows": null,
            "grid_gap": null,
            "max_width": null,
            "order": null,
            "_view_module_version": "1.2.0",
            "grid_template_areas": null,
            "object_position": null,
            "object_fit": null,
            "grid_auto_columns": null,
            "margin": null,
            "display": null,
            "left": null
          }
        },
        "6125498a5a184ecfb9a6900ab38ebe1e": {
          "model_module": "@jupyter-widgets/controls",
          "model_name": "HBoxModel",
          "state": {
            "_view_name": "HBoxView",
            "_dom_classes": [],
            "_model_name": "HBoxModel",
            "_view_module": "@jupyter-widgets/controls",
            "_model_module_version": "1.5.0",
            "_view_count": null,
            "_view_module_version": "1.5.0",
            "box_style": "",
            "layout": "IPY_MODEL_1f7471ae48f94f38b9658a5fe8f90ce3",
            "_model_module": "@jupyter-widgets/controls",
            "children": [
              "IPY_MODEL_8ff13e0622dd46bf837dcb5b79524cdc",
              "IPY_MODEL_c729a296bd714373b680d3a289cae6d9"
            ]
          }
        },
        "1f7471ae48f94f38b9658a5fe8f90ce3": {
          "model_module": "@jupyter-widgets/base",
          "model_name": "LayoutModel",
          "state": {
            "_view_name": "LayoutView",
            "grid_template_rows": null,
            "right": null,
            "justify_content": null,
            "_view_module": "@jupyter-widgets/base",
            "overflow": null,
            "_model_module_version": "1.2.0",
            "_view_count": null,
            "flex_flow": null,
            "width": null,
            "min_width": null,
            "border": null,
            "align_items": null,
            "bottom": null,
            "_model_module": "@jupyter-widgets/base",
            "top": null,
            "grid_column": null,
            "overflow_y": null,
            "overflow_x": null,
            "grid_auto_flow": null,
            "grid_area": null,
            "grid_template_columns": null,
            "flex": null,
            "_model_name": "LayoutModel",
            "justify_items": null,
            "grid_row": null,
            "max_height": null,
            "align_content": null,
            "visibility": null,
            "align_self": null,
            "height": null,
            "min_height": null,
            "padding": null,
            "grid_auto_rows": null,
            "grid_gap": null,
            "max_width": null,
            "order": null,
            "_view_module_version": "1.2.0",
            "grid_template_areas": null,
            "object_position": null,
            "object_fit": null,
            "grid_auto_columns": null,
            "margin": null,
            "display": null,
            "left": null
          }
        },
        "8ff13e0622dd46bf837dcb5b79524cdc": {
          "model_module": "@jupyter-widgets/controls",
          "model_name": "FloatProgressModel",
          "state": {
            "_view_name": "ProgressView",
            "style": "IPY_MODEL_3070e37ae274454881e35c39357c57d4",
            "_dom_classes": [],
            "description": "100%",
            "_model_name": "FloatProgressModel",
            "bar_style": "success",
            "max": 10002,
            "_view_module": "@jupyter-widgets/controls",
            "_model_module_version": "1.5.0",
            "value": 10002,
            "_view_count": null,
            "_view_module_version": "1.5.0",
            "orientation": "horizontal",
            "min": 0,
            "description_tooltip": null,
            "_model_module": "@jupyter-widgets/controls",
            "layout": "IPY_MODEL_a43a7ae78f9f4ef8a65a4bd9d58ba661"
          }
        },
        "c729a296bd714373b680d3a289cae6d9": {
          "model_module": "@jupyter-widgets/controls",
          "model_name": "HTMLModel",
          "state": {
            "_view_name": "HTMLView",
            "style": "IPY_MODEL_9b6446b5951d459f9a37569ec25fe06e",
            "_dom_classes": [],
            "description": "",
            "_model_name": "HTMLModel",
            "placeholder": "​",
            "_view_module": "@jupyter-widgets/controls",
            "_model_module_version": "1.5.0",
            "value": " 10002/10002 [49:55&lt;00:00,  3.34it/s]",
            "_view_count": null,
            "_view_module_version": "1.5.0",
            "description_tooltip": null,
            "_model_module": "@jupyter-widgets/controls",
            "layout": "IPY_MODEL_619020bab1514f75b84bca451163ebdc"
          }
        },
        "3070e37ae274454881e35c39357c57d4": {
          "model_module": "@jupyter-widgets/controls",
          "model_name": "ProgressStyleModel",
          "state": {
            "_view_name": "StyleView",
            "_model_name": "ProgressStyleModel",
            "description_width": "initial",
            "_view_module": "@jupyter-widgets/base",
            "_model_module_version": "1.5.0",
            "_view_count": null,
            "_view_module_version": "1.2.0",
            "bar_color": null,
            "_model_module": "@jupyter-widgets/controls"
          }
        },
        "a43a7ae78f9f4ef8a65a4bd9d58ba661": {
          "model_module": "@jupyter-widgets/base",
          "model_name": "LayoutModel",
          "state": {
            "_view_name": "LayoutView",
            "grid_template_rows": null,
            "right": null,
            "justify_content": null,
            "_view_module": "@jupyter-widgets/base",
            "overflow": null,
            "_model_module_version": "1.2.0",
            "_view_count": null,
            "flex_flow": null,
            "width": null,
            "min_width": null,
            "border": null,
            "align_items": null,
            "bottom": null,
            "_model_module": "@jupyter-widgets/base",
            "top": null,
            "grid_column": null,
            "overflow_y": null,
            "overflow_x": null,
            "grid_auto_flow": null,
            "grid_area": null,
            "grid_template_columns": null,
            "flex": null,
            "_model_name": "LayoutModel",
            "justify_items": null,
            "grid_row": null,
            "max_height": null,
            "align_content": null,
            "visibility": null,
            "align_self": null,
            "height": null,
            "min_height": null,
            "padding": null,
            "grid_auto_rows": null,
            "grid_gap": null,
            "max_width": null,
            "order": null,
            "_view_module_version": "1.2.0",
            "grid_template_areas": null,
            "object_position": null,
            "object_fit": null,
            "grid_auto_columns": null,
            "margin": null,
            "display": null,
            "left": null
          }
        },
        "9b6446b5951d459f9a37569ec25fe06e": {
          "model_module": "@jupyter-widgets/controls",
          "model_name": "DescriptionStyleModel",
          "state": {
            "_view_name": "StyleView",
            "_model_name": "DescriptionStyleModel",
            "description_width": "",
            "_view_module": "@jupyter-widgets/base",
            "_model_module_version": "1.5.0",
            "_view_count": null,
            "_view_module_version": "1.2.0",
            "_model_module": "@jupyter-widgets/controls"
          }
        },
        "619020bab1514f75b84bca451163ebdc": {
          "model_module": "@jupyter-widgets/base",
          "model_name": "LayoutModel",
          "state": {
            "_view_name": "LayoutView",
            "grid_template_rows": null,
            "right": null,
            "justify_content": null,
            "_view_module": "@jupyter-widgets/base",
            "overflow": null,
            "_model_module_version": "1.2.0",
            "_view_count": null,
            "flex_flow": null,
            "width": null,
            "min_width": null,
            "border": null,
            "align_items": null,
            "bottom": null,
            "_model_module": "@jupyter-widgets/base",
            "top": null,
            "grid_column": null,
            "overflow_y": null,
            "overflow_x": null,
            "grid_auto_flow": null,
            "grid_area": null,
            "grid_template_columns": null,
            "flex": null,
            "_model_name": "LayoutModel",
            "justify_items": null,
            "grid_row": null,
            "max_height": null,
            "align_content": null,
            "visibility": null,
            "align_self": null,
            "height": null,
            "min_height": null,
            "padding": null,
            "grid_auto_rows": null,
            "grid_gap": null,
            "max_width": null,
            "order": null,
            "_view_module_version": "1.2.0",
            "grid_template_areas": null,
            "object_position": null,
            "object_fit": null,
            "grid_auto_columns": null,
            "margin": null,
            "display": null,
            "left": null
          }
        },
        "2e30eaae3c3a403a90967a36480e6c4c": {
          "model_module": "@jupyter-widgets/controls",
          "model_name": "HBoxModel",
          "state": {
            "_view_name": "HBoxView",
            "_dom_classes": [],
            "_model_name": "HBoxModel",
            "_view_module": "@jupyter-widgets/controls",
            "_model_module_version": "1.5.0",
            "_view_count": null,
            "_view_module_version": "1.5.0",
            "box_style": "",
            "layout": "IPY_MODEL_ce06557af9bd43e0bdd5b0ae3c439fb4",
            "_model_module": "@jupyter-widgets/controls",
            "children": [
              "IPY_MODEL_15140f9acc4d4e01a89a7be9d4853c9a",
              "IPY_MODEL_7dae62dde7be442781ef1e2424ede9e9"
            ]
          }
        },
        "ce06557af9bd43e0bdd5b0ae3c439fb4": {
          "model_module": "@jupyter-widgets/base",
          "model_name": "LayoutModel",
          "state": {
            "_view_name": "LayoutView",
            "grid_template_rows": null,
            "right": null,
            "justify_content": null,
            "_view_module": "@jupyter-widgets/base",
            "overflow": null,
            "_model_module_version": "1.2.0",
            "_view_count": null,
            "flex_flow": null,
            "width": null,
            "min_width": null,
            "border": null,
            "align_items": null,
            "bottom": null,
            "_model_module": "@jupyter-widgets/base",
            "top": null,
            "grid_column": null,
            "overflow_y": null,
            "overflow_x": null,
            "grid_auto_flow": null,
            "grid_area": null,
            "grid_template_columns": null,
            "flex": null,
            "_model_name": "LayoutModel",
            "justify_items": null,
            "grid_row": null,
            "max_height": null,
            "align_content": null,
            "visibility": null,
            "align_self": null,
            "height": null,
            "min_height": null,
            "padding": null,
            "grid_auto_rows": null,
            "grid_gap": null,
            "max_width": null,
            "order": null,
            "_view_module_version": "1.2.0",
            "grid_template_areas": null,
            "object_position": null,
            "object_fit": null,
            "grid_auto_columns": null,
            "margin": null,
            "display": null,
            "left": null
          }
        },
        "15140f9acc4d4e01a89a7be9d4853c9a": {
          "model_module": "@jupyter-widgets/controls",
          "model_name": "FloatProgressModel",
          "state": {
            "_view_name": "ProgressView",
            "style": "IPY_MODEL_60172b211a3d40d1931d7af46e01925f",
            "_dom_classes": [],
            "description": "100%",
            "_model_name": "FloatProgressModel",
            "bar_style": "success",
            "max": 10001,
            "_view_module": "@jupyter-widgets/controls",
            "_model_module_version": "1.5.0",
            "value": 10001,
            "_view_count": null,
            "_view_module_version": "1.5.0",
            "orientation": "horizontal",
            "min": 0,
            "description_tooltip": null,
            "_model_module": "@jupyter-widgets/controls",
            "layout": "IPY_MODEL_b1a4cd222fed48e3a363d80699c5621a"
          }
        },
        "7dae62dde7be442781ef1e2424ede9e9": {
          "model_module": "@jupyter-widgets/controls",
          "model_name": "HTMLModel",
          "state": {
            "_view_name": "HTMLView",
            "style": "IPY_MODEL_6391cf26178144f299e82b2eba15fd15",
            "_dom_classes": [],
            "description": "",
            "_model_name": "HTMLModel",
            "placeholder": "​",
            "_view_module": "@jupyter-widgets/controls",
            "_model_module_version": "1.5.0",
            "value": " 10001/10001 [06:33&lt;00:00, 25.41it/s]",
            "_view_count": null,
            "_view_module_version": "1.5.0",
            "description_tooltip": null,
            "_model_module": "@jupyter-widgets/controls",
            "layout": "IPY_MODEL_a3a3242348bd4bf685c0974cbd96e32a"
          }
        },
        "60172b211a3d40d1931d7af46e01925f": {
          "model_module": "@jupyter-widgets/controls",
          "model_name": "ProgressStyleModel",
          "state": {
            "_view_name": "StyleView",
            "_model_name": "ProgressStyleModel",
            "description_width": "initial",
            "_view_module": "@jupyter-widgets/base",
            "_model_module_version": "1.5.0",
            "_view_count": null,
            "_view_module_version": "1.2.0",
            "bar_color": null,
            "_model_module": "@jupyter-widgets/controls"
          }
        },
        "b1a4cd222fed48e3a363d80699c5621a": {
          "model_module": "@jupyter-widgets/base",
          "model_name": "LayoutModel",
          "state": {
            "_view_name": "LayoutView",
            "grid_template_rows": null,
            "right": null,
            "justify_content": null,
            "_view_module": "@jupyter-widgets/base",
            "overflow": null,
            "_model_module_version": "1.2.0",
            "_view_count": null,
            "flex_flow": null,
            "width": null,
            "min_width": null,
            "border": null,
            "align_items": null,
            "bottom": null,
            "_model_module": "@jupyter-widgets/base",
            "top": null,
            "grid_column": null,
            "overflow_y": null,
            "overflow_x": null,
            "grid_auto_flow": null,
            "grid_area": null,
            "grid_template_columns": null,
            "flex": null,
            "_model_name": "LayoutModel",
            "justify_items": null,
            "grid_row": null,
            "max_height": null,
            "align_content": null,
            "visibility": null,
            "align_self": null,
            "height": null,
            "min_height": null,
            "padding": null,
            "grid_auto_rows": null,
            "grid_gap": null,
            "max_width": null,
            "order": null,
            "_view_module_version": "1.2.0",
            "grid_template_areas": null,
            "object_position": null,
            "object_fit": null,
            "grid_auto_columns": null,
            "margin": null,
            "display": null,
            "left": null
          }
        },
        "6391cf26178144f299e82b2eba15fd15": {
          "model_module": "@jupyter-widgets/controls",
          "model_name": "DescriptionStyleModel",
          "state": {
            "_view_name": "StyleView",
            "_model_name": "DescriptionStyleModel",
            "description_width": "",
            "_view_module": "@jupyter-widgets/base",
            "_model_module_version": "1.5.0",
            "_view_count": null,
            "_view_module_version": "1.2.0",
            "_model_module": "@jupyter-widgets/controls"
          }
        },
        "a3a3242348bd4bf685c0974cbd96e32a": {
          "model_module": "@jupyter-widgets/base",
          "model_name": "LayoutModel",
          "state": {
            "_view_name": "LayoutView",
            "grid_template_rows": null,
            "right": null,
            "justify_content": null,
            "_view_module": "@jupyter-widgets/base",
            "overflow": null,
            "_model_module_version": "1.2.0",
            "_view_count": null,
            "flex_flow": null,
            "width": null,
            "min_width": null,
            "border": null,
            "align_items": null,
            "bottom": null,
            "_model_module": "@jupyter-widgets/base",
            "top": null,
            "grid_column": null,
            "overflow_y": null,
            "overflow_x": null,
            "grid_auto_flow": null,
            "grid_area": null,
            "grid_template_columns": null,
            "flex": null,
            "_model_name": "LayoutModel",
            "justify_items": null,
            "grid_row": null,
            "max_height": null,
            "align_content": null,
            "visibility": null,
            "align_self": null,
            "height": null,
            "min_height": null,
            "padding": null,
            "grid_auto_rows": null,
            "grid_gap": null,
            "max_width": null,
            "order": null,
            "_view_module_version": "1.2.0",
            "grid_template_areas": null,
            "object_position": null,
            "object_fit": null,
            "grid_auto_columns": null,
            "margin": null,
            "display": null,
            "left": null
          }
        },
        "e15c2712c0e84de896dc6fc7300a0d91": {
          "model_module": "@jupyter-widgets/controls",
          "model_name": "HBoxModel",
          "state": {
            "_view_name": "HBoxView",
            "_dom_classes": [],
            "_model_name": "HBoxModel",
            "_view_module": "@jupyter-widgets/controls",
            "_model_module_version": "1.5.0",
            "_view_count": null,
            "_view_module_version": "1.5.0",
            "box_style": "",
            "layout": "IPY_MODEL_c68fed505dc042efbcdb470104d74c8d",
            "_model_module": "@jupyter-widgets/controls",
            "children": [
              "IPY_MODEL_acd913cbcb544c8b970e0508a8eeee9a",
              "IPY_MODEL_ca1c4d00006f44549131a7b8e4b522f3"
            ]
          }
        },
        "c68fed505dc042efbcdb470104d74c8d": {
          "model_module": "@jupyter-widgets/base",
          "model_name": "LayoutModel",
          "state": {
            "_view_name": "LayoutView",
            "grid_template_rows": null,
            "right": null,
            "justify_content": null,
            "_view_module": "@jupyter-widgets/base",
            "overflow": null,
            "_model_module_version": "1.2.0",
            "_view_count": null,
            "flex_flow": null,
            "width": null,
            "min_width": null,
            "border": null,
            "align_items": null,
            "bottom": null,
            "_model_module": "@jupyter-widgets/base",
            "top": null,
            "grid_column": null,
            "overflow_y": null,
            "overflow_x": null,
            "grid_auto_flow": null,
            "grid_area": null,
            "grid_template_columns": null,
            "flex": null,
            "_model_name": "LayoutModel",
            "justify_items": null,
            "grid_row": null,
            "max_height": null,
            "align_content": null,
            "visibility": null,
            "align_self": null,
            "height": null,
            "min_height": null,
            "padding": null,
            "grid_auto_rows": null,
            "grid_gap": null,
            "max_width": null,
            "order": null,
            "_view_module_version": "1.2.0",
            "grid_template_areas": null,
            "object_position": null,
            "object_fit": null,
            "grid_auto_columns": null,
            "margin": null,
            "display": null,
            "left": null
          }
        },
        "acd913cbcb544c8b970e0508a8eeee9a": {
          "model_module": "@jupyter-widgets/controls",
          "model_name": "FloatProgressModel",
          "state": {
            "_view_name": "ProgressView",
            "style": "IPY_MODEL_2d99ae3f2a1744b1b72e39e662e94731",
            "_dom_classes": [],
            "description": "",
            "_model_name": "FloatProgressModel",
            "bar_style": "success",
            "max": 1,
            "_view_module": "@jupyter-widgets/controls",
            "_model_module_version": "1.5.0",
            "value": 1,
            "_view_count": null,
            "_view_module_version": "1.5.0",
            "orientation": "horizontal",
            "min": 0,
            "description_tooltip": null,
            "_model_module": "@jupyter-widgets/controls",
            "layout": "IPY_MODEL_b36b24fb430940ec947fc17d3ccaa789"
          }
        },
        "ca1c4d00006f44549131a7b8e4b522f3": {
          "model_module": "@jupyter-widgets/controls",
          "model_name": "HTMLModel",
          "state": {
            "_view_name": "HTMLView",
            "style": "IPY_MODEL_8f1f9438e08f407999cc50834a389005",
            "_dom_classes": [],
            "description": "",
            "_model_name": "HTMLModel",
            "placeholder": "​",
            "_view_module": "@jupyter-widgets/controls",
            "_model_module_version": "1.5.0",
            "value": " 10002/? [02:16&lt;00:00, 73.03it/s]",
            "_view_count": null,
            "_view_module_version": "1.5.0",
            "description_tooltip": null,
            "_model_module": "@jupyter-widgets/controls",
            "layout": "IPY_MODEL_d773f58eb72a4017ba1180d2d69082ee"
          }
        },
        "2d99ae3f2a1744b1b72e39e662e94731": {
          "model_module": "@jupyter-widgets/controls",
          "model_name": "ProgressStyleModel",
          "state": {
            "_view_name": "StyleView",
            "_model_name": "ProgressStyleModel",
            "description_width": "initial",
            "_view_module": "@jupyter-widgets/base",
            "_model_module_version": "1.5.0",
            "_view_count": null,
            "_view_module_version": "1.2.0",
            "bar_color": null,
            "_model_module": "@jupyter-widgets/controls"
          }
        },
        "b36b24fb430940ec947fc17d3ccaa789": {
          "model_module": "@jupyter-widgets/base",
          "model_name": "LayoutModel",
          "state": {
            "_view_name": "LayoutView",
            "grid_template_rows": null,
            "right": null,
            "justify_content": null,
            "_view_module": "@jupyter-widgets/base",
            "overflow": null,
            "_model_module_version": "1.2.0",
            "_view_count": null,
            "flex_flow": null,
            "width": null,
            "min_width": null,
            "border": null,
            "align_items": null,
            "bottom": null,
            "_model_module": "@jupyter-widgets/base",
            "top": null,
            "grid_column": null,
            "overflow_y": null,
            "overflow_x": null,
            "grid_auto_flow": null,
            "grid_area": null,
            "grid_template_columns": null,
            "flex": null,
            "_model_name": "LayoutModel",
            "justify_items": null,
            "grid_row": null,
            "max_height": null,
            "align_content": null,
            "visibility": null,
            "align_self": null,
            "height": null,
            "min_height": null,
            "padding": null,
            "grid_auto_rows": null,
            "grid_gap": null,
            "max_width": null,
            "order": null,
            "_view_module_version": "1.2.0",
            "grid_template_areas": null,
            "object_position": null,
            "object_fit": null,
            "grid_auto_columns": null,
            "margin": null,
            "display": null,
            "left": null
          }
        },
        "8f1f9438e08f407999cc50834a389005": {
          "model_module": "@jupyter-widgets/controls",
          "model_name": "DescriptionStyleModel",
          "state": {
            "_view_name": "StyleView",
            "_model_name": "DescriptionStyleModel",
            "description_width": "",
            "_view_module": "@jupyter-widgets/base",
            "_model_module_version": "1.5.0",
            "_view_count": null,
            "_view_module_version": "1.2.0",
            "_model_module": "@jupyter-widgets/controls"
          }
        },
        "d773f58eb72a4017ba1180d2d69082ee": {
          "model_module": "@jupyter-widgets/base",
          "model_name": "LayoutModel",
          "state": {
            "_view_name": "LayoutView",
            "grid_template_rows": null,
            "right": null,
            "justify_content": null,
            "_view_module": "@jupyter-widgets/base",
            "overflow": null,
            "_model_module_version": "1.2.0",
            "_view_count": null,
            "flex_flow": null,
            "width": null,
            "min_width": null,
            "border": null,
            "align_items": null,
            "bottom": null,
            "_model_module": "@jupyter-widgets/base",
            "top": null,
            "grid_column": null,
            "overflow_y": null,
            "overflow_x": null,
            "grid_auto_flow": null,
            "grid_area": null,
            "grid_template_columns": null,
            "flex": null,
            "_model_name": "LayoutModel",
            "justify_items": null,
            "grid_row": null,
            "max_height": null,
            "align_content": null,
            "visibility": null,
            "align_self": null,
            "height": null,
            "min_height": null,
            "padding": null,
            "grid_auto_rows": null,
            "grid_gap": null,
            "max_width": null,
            "order": null,
            "_view_module_version": "1.2.0",
            "grid_template_areas": null,
            "object_position": null,
            "object_fit": null,
            "grid_auto_columns": null,
            "margin": null,
            "display": null,
            "left": null
          }
        },
        "c217d74c8ae94b5b8624a4fa7098d4a3": {
          "model_module": "@jupyter-widgets/controls",
          "model_name": "HBoxModel",
          "state": {
            "_view_name": "HBoxView",
            "_dom_classes": [],
            "_model_name": "HBoxModel",
            "_view_module": "@jupyter-widgets/controls",
            "_model_module_version": "1.5.0",
            "_view_count": null,
            "_view_module_version": "1.5.0",
            "box_style": "",
            "layout": "IPY_MODEL_f9a78e7ead7b432f830a07e434f1ffe9",
            "_model_module": "@jupyter-widgets/controls",
            "children": [
              "IPY_MODEL_4d2e6d0f414f4476bdb70cb4aeefb8e1",
              "IPY_MODEL_089799641a954626a21e207b9cf8ee15"
            ]
          }
        },
        "f9a78e7ead7b432f830a07e434f1ffe9": {
          "model_module": "@jupyter-widgets/base",
          "model_name": "LayoutModel",
          "state": {
            "_view_name": "LayoutView",
            "grid_template_rows": null,
            "right": null,
            "justify_content": null,
            "_view_module": "@jupyter-widgets/base",
            "overflow": null,
            "_model_module_version": "1.2.0",
            "_view_count": null,
            "flex_flow": null,
            "width": null,
            "min_width": null,
            "border": null,
            "align_items": null,
            "bottom": null,
            "_model_module": "@jupyter-widgets/base",
            "top": null,
            "grid_column": null,
            "overflow_y": null,
            "overflow_x": null,
            "grid_auto_flow": null,
            "grid_area": null,
            "grid_template_columns": null,
            "flex": null,
            "_model_name": "LayoutModel",
            "justify_items": null,
            "grid_row": null,
            "max_height": null,
            "align_content": null,
            "visibility": null,
            "align_self": null,
            "height": null,
            "min_height": null,
            "padding": null,
            "grid_auto_rows": null,
            "grid_gap": null,
            "max_width": null,
            "order": null,
            "_view_module_version": "1.2.0",
            "grid_template_areas": null,
            "object_position": null,
            "object_fit": null,
            "grid_auto_columns": null,
            "margin": null,
            "display": null,
            "left": null
          }
        },
        "4d2e6d0f414f4476bdb70cb4aeefb8e1": {
          "model_module": "@jupyter-widgets/controls",
          "model_name": "FloatProgressModel",
          "state": {
            "_view_name": "ProgressView",
            "style": "IPY_MODEL_5ef2bee54c2a42778aed81d3d0bca9ce",
            "_dom_classes": [],
            "description": "",
            "_model_name": "FloatProgressModel",
            "bar_style": "success",
            "max": 1,
            "_view_module": "@jupyter-widgets/controls",
            "_model_module_version": "1.5.0",
            "value": 1,
            "_view_count": null,
            "_view_module_version": "1.5.0",
            "orientation": "horizontal",
            "min": 0,
            "description_tooltip": null,
            "_model_module": "@jupyter-widgets/controls",
            "layout": "IPY_MODEL_ad05c17e64e946539e55643c35acad12"
          }
        },
        "089799641a954626a21e207b9cf8ee15": {
          "model_module": "@jupyter-widgets/controls",
          "model_name": "HTMLModel",
          "state": {
            "_view_name": "HTMLView",
            "style": "IPY_MODEL_b3d88d2fda5e425f97e11b7b2ab9da38",
            "_dom_classes": [],
            "description": "",
            "_model_name": "HTMLModel",
            "placeholder": "​",
            "_view_module": "@jupyter-widgets/controls",
            "_model_module_version": "1.5.0",
            "value": " 10001/? [00:35&lt;00:00, 277.90it/s]",
            "_view_count": null,
            "_view_module_version": "1.5.0",
            "description_tooltip": null,
            "_model_module": "@jupyter-widgets/controls",
            "layout": "IPY_MODEL_4000b2daad8240169f8157dce9a4aebb"
          }
        },
        "5ef2bee54c2a42778aed81d3d0bca9ce": {
          "model_module": "@jupyter-widgets/controls",
          "model_name": "ProgressStyleModel",
          "state": {
            "_view_name": "StyleView",
            "_model_name": "ProgressStyleModel",
            "description_width": "initial",
            "_view_module": "@jupyter-widgets/base",
            "_model_module_version": "1.5.0",
            "_view_count": null,
            "_view_module_version": "1.2.0",
            "bar_color": null,
            "_model_module": "@jupyter-widgets/controls"
          }
        },
        "ad05c17e64e946539e55643c35acad12": {
          "model_module": "@jupyter-widgets/base",
          "model_name": "LayoutModel",
          "state": {
            "_view_name": "LayoutView",
            "grid_template_rows": null,
            "right": null,
            "justify_content": null,
            "_view_module": "@jupyter-widgets/base",
            "overflow": null,
            "_model_module_version": "1.2.0",
            "_view_count": null,
            "flex_flow": null,
            "width": null,
            "min_width": null,
            "border": null,
            "align_items": null,
            "bottom": null,
            "_model_module": "@jupyter-widgets/base",
            "top": null,
            "grid_column": null,
            "overflow_y": null,
            "overflow_x": null,
            "grid_auto_flow": null,
            "grid_area": null,
            "grid_template_columns": null,
            "flex": null,
            "_model_name": "LayoutModel",
            "justify_items": null,
            "grid_row": null,
            "max_height": null,
            "align_content": null,
            "visibility": null,
            "align_self": null,
            "height": null,
            "min_height": null,
            "padding": null,
            "grid_auto_rows": null,
            "grid_gap": null,
            "max_width": null,
            "order": null,
            "_view_module_version": "1.2.0",
            "grid_template_areas": null,
            "object_position": null,
            "object_fit": null,
            "grid_auto_columns": null,
            "margin": null,
            "display": null,
            "left": null
          }
        },
        "b3d88d2fda5e425f97e11b7b2ab9da38": {
          "model_module": "@jupyter-widgets/controls",
          "model_name": "DescriptionStyleModel",
          "state": {
            "_view_name": "StyleView",
            "_model_name": "DescriptionStyleModel",
            "description_width": "",
            "_view_module": "@jupyter-widgets/base",
            "_model_module_version": "1.5.0",
            "_view_count": null,
            "_view_module_version": "1.2.0",
            "_model_module": "@jupyter-widgets/controls"
          }
        },
        "4000b2daad8240169f8157dce9a4aebb": {
          "model_module": "@jupyter-widgets/base",
          "model_name": "LayoutModel",
          "state": {
            "_view_name": "LayoutView",
            "grid_template_rows": null,
            "right": null,
            "justify_content": null,
            "_view_module": "@jupyter-widgets/base",
            "overflow": null,
            "_model_module_version": "1.2.0",
            "_view_count": null,
            "flex_flow": null,
            "width": null,
            "min_width": null,
            "border": null,
            "align_items": null,
            "bottom": null,
            "_model_module": "@jupyter-widgets/base",
            "top": null,
            "grid_column": null,
            "overflow_y": null,
            "overflow_x": null,
            "grid_auto_flow": null,
            "grid_area": null,
            "grid_template_columns": null,
            "flex": null,
            "_model_name": "LayoutModel",
            "justify_items": null,
            "grid_row": null,
            "max_height": null,
            "align_content": null,
            "visibility": null,
            "align_self": null,
            "height": null,
            "min_height": null,
            "padding": null,
            "grid_auto_rows": null,
            "grid_gap": null,
            "max_width": null,
            "order": null,
            "_view_module_version": "1.2.0",
            "grid_template_areas": null,
            "object_position": null,
            "object_fit": null,
            "grid_auto_columns": null,
            "margin": null,
            "display": null,
            "left": null
          }
        }
      }
    }
  },
  "cells": [
    {
      "cell_type": "markdown",
      "metadata": {
        "id": "yRynVVFqczch"
      },
      "source": [
        "Inspired by [paper](https://www.researchgate.net/publication/237135894_A_unifying_framework_for_complexity_measures_of_finite_systems)\n",
        "\n",
        "In this notebook I will implement TSE and Excess Entropy calculation and test it on following datasets:\n",
        "\n",
        "\n",
        "\n",
        "1.   Wikipedia\n",
        "2.   Simple English Wikipedia\n"
      ]
    },
    {
      "cell_type": "markdown",
      "metadata": {
        "id": "fNPwqgcCuoBC"
      },
      "source": [
        "# Preparation"
      ]
    },
    {
      "cell_type": "code",
      "metadata": {
        "colab": {
          "base_uri": "https://localhost:8080/"
        },
        "id": "UMAfwK2Tuqk3",
        "outputId": "c0d504a9-669f-44b3-d7f3-58b52296a5cb"
      },
      "source": [
        "!python3 -m pip install sentencepiece > /dev/null && echo 'OK'"
      ],
      "execution_count": 1,
      "outputs": [
        {
          "output_type": "stream",
          "text": [
            "OK\n"
          ],
          "name": "stdout"
        }
      ]
    },
    {
      "cell_type": "code",
      "metadata": {
        "colab": {
          "base_uri": "https://localhost:8080/"
        },
        "id": "gPYhLHbjyW9j",
        "outputId": "b9e8e2b7-3719-431e-954a-bfbc7f1df29a"
      },
      "source": [
        "!python3 -m pip install tensorflow_text > /dev/null && echo 'OK'"
      ],
      "execution_count": 2,
      "outputs": [
        {
          "output_type": "stream",
          "text": [
            "OK\n"
          ],
          "name": "stdout"
        }
      ]
    },
    {
      "cell_type": "code",
      "metadata": {
        "colab": {
          "base_uri": "https://localhost:8080/"
        },
        "id": "ETFmTXXgyW3v",
        "outputId": "78793742-2624-4e1c-802b-fc4a8c095a20"
      },
      "source": [
        "!python3 -m pip install tensorflow_datasets > /dev/null && echo 'OK'"
      ],
      "execution_count": 3,
      "outputs": [
        {
          "output_type": "stream",
          "text": [
            "OK\n"
          ],
          "name": "stdout"
        }
      ]
    },
    {
      "cell_type": "code",
      "metadata": {
        "colab": {
          "base_uri": "https://localhost:8080/"
        },
        "id": "64qgPiHyyCgF",
        "outputId": "406b50c7-c4bc-4549-bd32-011c5dccc665"
      },
      "source": [
        "!python3 -m pip install tf_sentencepiece > /dev/null && echo 'OK'"
      ],
      "execution_count": 4,
      "outputs": [
        {
          "output_type": "stream",
          "text": [
            "OK\n"
          ],
          "name": "stdout"
        }
      ]
    },
    {
      "cell_type": "markdown",
      "metadata": {
        "id": "K_JtxlGAGrhP"
      },
      "source": [
        "### Imports"
      ]
    },
    {
      "cell_type": "code",
      "metadata": {
        "id": "QvRHcxDKukxK"
      },
      "source": [
        "import sentencepiece as spm\n",
        "import tensorflow_datasets as tfds\n",
        "from tqdm.notebook import tqdm\n",
        "import numpy as np\n",
        "from typing import List, Tuple\n",
        "import nltk\n",
        "import matplotlib.pyplot as plt"
      ],
      "execution_count": 5,
      "outputs": []
    },
    {
      "cell_type": "markdown",
      "metadata": {
        "id": "wNiRzbPddkZx"
      },
      "source": [
        "# Datasets"
      ]
    },
    {
      "cell_type": "markdown",
      "metadata": {
        "id": "sdwSY9Tpmnwb"
      },
      "source": [
        "## Wikipedia"
      ]
    },
    {
      "cell_type": "markdown",
      "metadata": {
        "id": "NnlJ-q5quOeO"
      },
      "source": [
        "[link](https://www.tensorflow.org/datasets/catalog/wiki40b#wiki40ben_default_config) to dataset"
      ]
    },
    {
      "cell_type": "code",
      "metadata": {
        "colab": {
          "base_uri": "https://localhost:8080/",
          "height": 205,
          "referenced_widgets": [
            "e27e00c4471f4dda9b1c56d01fc3b5c6",
            "04d22bb21e044b3a822907ff401d3e70",
            "3e8700301aa54aebb9fe3ae793bd659f",
            "396c48318f0a4af7880ec324903abd1b",
            "5b7da8f4ab624bf5bdb2bb99c3199662",
            "9db7a4ba1b014a51853a3323a736f483",
            "c73b29e0f1b34547b0e0ca76d50c25fd",
            "fb2197dd26d3431eb3e07257ed9fc83f"
          ]
        },
        "id": "fttAVOrWiFAi",
        "outputId": "0c77843a-1d22-4359-dedf-1b6393fefeea"
      },
      "source": [
        "ds = tfds.load('wiki40b/en', split='train', shuffle_files=True)"
      ],
      "execution_count": 6,
      "outputs": [
        {
          "output_type": "stream",
          "text": [
            "\u001b[1mDownloading and preparing dataset wiki40b/en/1.3.0 (download: Unknown size, generated: 9.91 GiB, total: 9.91 GiB) to /root/tensorflow_datasets/wiki40b/en/1.3.0...\u001b[0m\n"
          ],
          "name": "stdout"
        },
        {
          "output_type": "stream",
          "text": [
            "WARNING:absl:Dataset wiki40b is hosted on GCS. It will automatically be downloaded to your\n",
            "local data directory. If you'd instead prefer to read directly from our public\n",
            "GCS bucket (recommended if you're running on GCP), you can instead pass\n",
            "`try_gcs=True` to `tfds.load` or set `data_dir=gs://tfds-data/datasets`.\n",
            "\n"
          ],
          "name": "stderr"
        },
        {
          "output_type": "display_data",
          "data": {
            "application/vnd.jupyter.widget-view+json": {
              "model_id": "e27e00c4471f4dda9b1c56d01fc3b5c6",
              "version_minor": 0,
              "version_major": 2
            },
            "text/plain": [
              "HBox(children=(FloatProgress(value=0.0, description='Dl Completed...', max=142.0, style=ProgressStyle(descript…"
            ]
          },
          "metadata": {
            "tags": []
          }
        },
        {
          "output_type": "stream",
          "text": [
            "\n",
            "\n",
            "\u001b[1mDataset wiki40b downloaded and prepared to /root/tensorflow_datasets/wiki40b/en/1.3.0. Subsequent calls will reuse this data.\u001b[0m\n"
          ],
          "name": "stdout"
        }
      ]
    },
    {
      "cell_type": "code",
      "metadata": {
        "id": "Y0T-7CICjH-U"
      },
      "source": [
        "MAX_TEXTS_SIZE = 10000\n",
        "\n",
        "texts = []\n",
        "for x in ds:\n",
        "    if len(texts) > MAX_TEXTS_SIZE:\n",
        "        break\n",
        "    s = x['text'].numpy().decode('utf-8')\n",
        "    text = s.replace('_NEWLINE_', ' ').replace('_START_ARTICLE_', '').replace('_START_PARAGRAPH_', '').replace('_START_SECTION_',' ').split('\\n')\n",
        "    texts += list(filter(lambda x: len(x) > 20, text))"
      ],
      "execution_count": 111,
      "outputs": []
    },
    {
      "cell_type": "code",
      "metadata": {
        "id": "eHhMXOohxcbX"
      },
      "source": [
        "with open('train_text.txt', 'w') as fout:\n",
        "    for text in texts:\n",
        "        fout.write(text)\n",
        "        fout.write('\\n')"
      ],
      "execution_count": 112,
      "outputs": []
    },
    {
      "cell_type": "code",
      "metadata": {
        "id": "cyhbH3dH2H-D"
      },
      "source": [
        "spm.SentencePieceTrainer.train('--input=train_text.txt --model_prefix=m --vocab_size=500')"
      ],
      "execution_count": 113,
      "outputs": []
    },
    {
      "cell_type": "code",
      "metadata": {
        "colab": {
          "base_uri": "https://localhost:8080/"
        },
        "id": "hxkkLHVy21f2",
        "outputId": "2b171131-91f6-418f-a75f-d48781e6d631"
      },
      "source": [
        "sp = spm.SentencePieceProcessor()\n",
        "sp.load('m.model')"
      ],
      "execution_count": 114,
      "outputs": [
        {
          "output_type": "execute_result",
          "data": {
            "text/plain": [
              "True"
            ]
          },
          "metadata": {
            "tags": []
          },
          "execution_count": 114
        }
      ]
    },
    {
      "cell_type": "code",
      "metadata": {
        "colab": {
          "base_uri": "https://localhost:8080/"
        },
        "id": "MzrOhFVB3VSY",
        "outputId": "fa9cf7a7-ac8a-4c2c-c1d2-7bb160f72703"
      },
      "source": [
        "print(list(sp.id_to_piece(i) for i in range(sp.vocab_size())))\n",
        "print(sp.vocab_size())"
      ],
      "execution_count": 115,
      "outputs": [
        {
          "output_type": "stream",
          "text": [
            "['<unk>', '<s>', '</s>', 's', '▁', 'e', '▁the', ',', 't', '.', 'a', 'o', 'ed', '▁of', 'y', 'n', '▁in', 'c', '▁a', 'i', '▁and', 'd', 'u', 'ing', 'p', '▁to', 'al', 'er', 'g', 'ar', 'b', 'r', 'm', 'l', 'or', 'an', 'in', 're', '▁c', '1', 'le', 'f', 'en', 'k', 'on', '▁S', 'ic', 'ri', 'ur', '▁was', 'it', '▁f', 'v', 'h', 'es', 'th', '▁re', '▁The', '-', '▁B', 'w', 'st', '▁for', 'ch', '▁C', '▁P', '▁A', 'ly', '▁w', 'at', 'ter', 'ation', '▁b', 'ro', 'ent', '0', '▁is', 'un', '▁M', '▁p', \"'\", 'as', 'ad', 'il', '▁(', 'us', 'ra', '▁on', '▁with', 'ul', '▁19', '▁D', '▁T', '▁as', '▁st', '▁G', '▁F', '▁de', 'el', '3', '5', '▁by', '▁In', '▁H', '9', '2', '4', 'ce', 'ion', '6', 'ol', '▁m', 'ir', '▁20', 'is', '▁be', '8', 'am', '▁W', '▁that', 'ne', '▁he', '▁L', '7', '▁at', 'ec', '▁his', '▁E', '▁J', 'ver', ')', '▁from', '▁con', 'ment', 'et', '▁mo', 'tion', 'x', 'ate', '\"', 'la', 'li', 'om', 've', '▁an', '▁pro', 'ut', 'te', 'im', '▁N', 'se', '▁R', 'ill', 'ist', 'ow', 'ive', '▁e', '▁g', '▁\"', 'ain', '▁ma', 'id', '▁h', '▁t', '▁K', 'all', 'qu', 'lo', 'ity', 'z', '▁d', 'est', '▁sh', '▁are', '▁He', '▁were', '▁se', 'and', '▁I', 'ers', 'j', 'um', 'ies', 'ge', '▁ex', 'age', '▁li', '▁tr', 'ke', 'od', 'ell', 'ated', 'end', 'ted', '▁O', 'ian', 'op', 'if', 'ia', 'ther', 'ig', 'ong', '▁co', 'ci', 'vi', '▁which', 'S', 'ap', 'ant', '▁or', 'he', 'ry', 'own', 'me', '▁Ch', 'em', 'av', 'co', 'A', '▁2', '▁r', '▁po', 'man', '▁di', 'tor', '▁lo', '▁la', 'ight', 'ha', 'res', '▁sp', 'ud', 'act', '▁V', 'ack', '▁has', 'hi', 'pp', '▁it', 'ine', 'ous', 'mer', '▁so', 'C', '▁had', 'ide', 'ard', '▁Ma', '▁also', 'land', 'der', 'ence', 'ot', 'ff', '▁comp', 'ish', 'art', '▁com', '▁not', '▁bo', 'ance', '▁U', '▁Co', 'ach', 'ru', 'mp', 'ial', 'I', 'ran', '▁St', 'ho', 'ak', 'iz', '▁first', '▁pre', '▁ho', '▁who', '▁her', 'ally', '▁18', 'ab', 'iv', 'ary', 'ting', 'ven', 'son', 'ical', '▁per', '▁no', 'tic', 'mo', 'old', '▁part', 'port', 'ture', '▁me', '▁It', '▁their', '–', '▁but', 'ok', 'min', 'gu', '▁have', '▁year', '▁its', 'per', 'lu', '▁Ro', '▁dis', '▁Al', '),', '▁Re', '▁Ar', 'du', ':', 'T', 'form', 'ang', '▁this', '▁one', 'les', '▁been', '00', '▁An', '▁other', ';', 'M', 'sign', 'ph', ').', 'able', 'und', '▁vi', 'B', '▁all', '▁two', '▁On', 'P', 'ough', '▁play', '▁work', '▁do', '▁time', '▁man', '▁Mar', 'R', '▁after', '▁over', 'D', '▁gr', '▁out', 'way', 'ward', 'Y', 'amp', 'L', '▁New', '▁name', '▁La', '▁into', 'ship', '▁sc', 'round', 'E', '▁when', '▁under', '▁new', '%', 'ident', '▁film', 'day', '▁him', 'ock', 'N', '/', '▁some', '▁cha', '▁where', '▁Com', '▁would', 'O', 'duct', 'elect', '▁State', 'during', 'F', '▁school', '▁made', '▁imp', '▁sub', 'ju', '▁through', '▁high', '▁such', '▁This', '▁10', '▁University', 'Z', '▁between', '▁found', '▁about', '▁17', '▁three', 'G', '▁include', 'V', '▁became', '▁team', '▁season', '▁second', '▁large', '▁game', '▁member', '▁while', 'H', '▁After', '▁United', '▁before', '▁including', '▁follow', '▁number', 'vision', '▁known', 'K', '▁place', '▁people', '▁group', 'W', ',000', '▁against', '▁appear', 'until', '▁count', '▁plan', '▁School', 'é', '▁North', 'Q', '▁release', '▁take', '▁several', '▁develop', '’', '▁World', '▁record', '▁service', '▁series', '▁you', '▁York', '▁class', '▁music', 'U', 'X', '&', '$', 'J', '—', 'q', '”', ']', '“', '(', '[', 'á', '′', 'ó', '°', 'í', '!', 'ö', 'ü', 'ć', 'è', '?', '#', '+', 'ō', 'š', '=', 'ç', 'ä', 'ø', 'ā', 'α', 'Š', 'à', '{', 'â', 'É', '}', 'ã', '‘', 'а', '×', 'ú', 'č', 'ñ', '£', 'μ']\n",
            "500\n"
          ],
          "name": "stdout"
        }
      ]
    },
    {
      "cell_type": "code",
      "metadata": {
        "colab": {
          "base_uri": "https://localhost:8080/"
        },
        "id": "lkdORK975AG4",
        "outputId": "e44880e1-97e5-433e-8036-d7bc727b415a"
      },
      "source": [
        "print(sp.encode_as_ids('Hello, my friend'))\n",
        "print(sp.encode_as_pieces('Hello, my friend'))"
      ],
      "execution_count": 116,
      "outputs": [
        {
          "output_type": "stream",
          "text": [
            "[103, 190, 11, 7, 111, 14, 51, 47, 192]\n",
            "['▁H', 'ell', 'o', ',', '▁m', 'y', '▁f', 'ri', 'end']\n"
          ],
          "name": "stdout"
        }
      ]
    },
    {
      "cell_type": "code",
      "metadata": {
        "id": "_PnD_rNLGVDv"
      },
      "source": [
        "def collect_statistics(\n",
        "    texts: List[str], \n",
        "    sp: spm.SentencePieceProcessor\n",
        ") -> Tuple[np.ndarray]:\n",
        "    \"\"\"\n",
        "    texts: the list of str texts\n",
        "    sp: pretrained sentencepieces tokenizer\n",
        "\n",
        "    Returns\n",
        "    - a nltk.FreqDist with counts for (i, (x_{i-1}, x_i))\n",
        "    - a nltk.FreqDist with counts for (i, x_i)\n",
        "    - a nltk.FreqDist with counts for (i, x_i), where i is the last position of the sequence\n",
        "    - a nltk.FreqDist with counts for i - the number of texts with i-th position\n",
        "    \"\"\"\n",
        "\n",
        "    vocab_size = sp.vocab_size()\n",
        "    bins = np.arange(vocab_size + 1)\n",
        "\n",
        "    F_pair = nltk.FreqDist()\n",
        "    F_single = nltk.FreqDist()\n",
        "    F_last = nltk.FreqDist()\n",
        "    F_pos = nltk.FreqDist()\n",
        "\n",
        "    for text in tqdm(texts):\n",
        "        tokenized_sequence = sp.encode_as_ids(text)\n",
        "        bgs = nltk.bigrams(tokenized_sequence)\n",
        "        F_pair += nltk.FreqDist(zip(range(1, len(tokenized_sequence)), bgs))\n",
        "        F_single += nltk.FreqDist(zip(range(len(tokenized_sequence)), tokenized_sequence))\n",
        "        F_last += nltk.FreqDist([(len(tokenized_sequence) - 1, tokenized_sequence[-1])])\n",
        "        F_pos += nltk.FreqDist(range(len(tokenized_sequence)))\n",
        "    \n",
        "    return F_pair, F_single, F_last, F_pos"
      ],
      "execution_count": 117,
      "outputs": []
    },
    {
      "cell_type": "code",
      "metadata": {
        "colab": {
          "base_uri": "https://localhost:8080/",
          "height": 66,
          "referenced_widgets": [
            "6125498a5a184ecfb9a6900ab38ebe1e",
            "1f7471ae48f94f38b9658a5fe8f90ce3",
            "8ff13e0622dd46bf837dcb5b79524cdc",
            "c729a296bd714373b680d3a289cae6d9",
            "3070e37ae274454881e35c39357c57d4",
            "a43a7ae78f9f4ef8a65a4bd9d58ba661",
            "9b6446b5951d459f9a37569ec25fe06e",
            "619020bab1514f75b84bca451163ebdc"
          ]
        },
        "id": "g_5OqF5EHu5m",
        "outputId": "69d22b9a-72ce-4f06-c362-00796dd0153b"
      },
      "source": [
        "F_pair, F_single, F_last, F_pos = collect_statistics(texts, sp)"
      ],
      "execution_count": 118,
      "outputs": [
        {
          "output_type": "display_data",
          "data": {
            "application/vnd.jupyter.widget-view+json": {
              "model_id": "6125498a5a184ecfb9a6900ab38ebe1e",
              "version_minor": 0,
              "version_major": 2
            },
            "text/plain": [
              "HBox(children=(FloatProgress(value=0.0, max=10002.0), HTML(value='')))"
            ]
          },
          "metadata": {
            "tags": []
          }
        },
        {
          "output_type": "stream",
          "text": [
            "\n"
          ],
          "name": "stdout"
        }
      ]
    },
    {
      "cell_type": "markdown",
      "metadata": {
        "id": "Qg5gBHJiaEr_"
      },
      "source": [
        "## Simple English wikipedia\n",
        "\n",
        "some [link](https://github.com/LGDoor/Dump-of-Simple-English-Wiki)"
      ]
    },
    {
      "cell_type": "code",
      "metadata": {
        "colab": {
          "base_uri": "https://localhost:8080/"
        },
        "id": "FS0ylolIJIGs",
        "outputId": "0786d14e-8195-4ad1-f77e-e22508d4a614"
      },
      "source": [
        "!git clone https://github.com/LGDoor/Dump-of-Simple-English-Wiki.git"
      ],
      "execution_count": 125,
      "outputs": [
        {
          "output_type": "stream",
          "text": [
            "Cloning into 'Dump-of-Simple-English-Wiki'...\n",
            "remote: Enumerating objects: 6, done.\u001b[K\n",
            "remote: Total 6 (delta 0), reused 0 (delta 0), pack-reused 6\u001b[K\n",
            "Unpacking objects: 100% (6/6), done.\n"
          ],
          "name": "stdout"
        }
      ]
    },
    {
      "cell_type": "code",
      "metadata": {
        "id": "uscpWhGJJLPk"
      },
      "source": [
        "!tar -xf Dump-of-Simple-English-Wiki/corpus.tgz"
      ],
      "execution_count": 129,
      "outputs": []
    },
    {
      "cell_type": "code",
      "metadata": {
        "colab": {
          "base_uri": "https://localhost:8080/"
        },
        "id": "HLijsCNjJtnC",
        "outputId": "f8029126-5279-4e9d-eff0-05fdb8e5698c"
      },
      "source": [
        "!ls -lh"
      ],
      "execution_count": 136,
      "outputs": [
        {
          "output_type": "stream",
          "text": [
            "total 39M\n",
            "-rw-r--r-- 1  501 staff  32M Apr  9  2013 corpus.txt\n",
            "drwxr-xr-x 3 root root  4.0K Nov 20 19:31 Dump-of-Simple-English-Wiki\n",
            "-rw-r--r-- 1 root root  239K Nov 20 19:00 m.model\n",
            "-rw-r--r-- 1 root root  6.7K Nov 20 19:00 m.vocab\n",
            "drwxr-xr-x 1 root root  4.0K Nov 13 17:33 sample_data\n",
            "-rw-r--r-- 1 root root  7.2M Nov 20 19:00 train_text.txt\n"
          ],
          "name": "stdout"
        }
      ]
    },
    {
      "cell_type": "code",
      "metadata": {
        "id": "8zmlVZp1JSFf"
      },
      "source": [
        "SIMPLE_MAX_TEXTS_SIZE = 10000\n",
        "\n",
        "simple_texts = []\n",
        "with open('corpus.txt', 'r') as fin:\n",
        "    for s in fin:\n",
        "        if len(simple_texts) > SIMPLE_MAX_TEXTS_SIZE:\n",
        "            break\n",
        "        text = s.split('\\n')\n",
        "        simple_texts += list(filter(lambda x: len(x) > 20, text))"
      ],
      "execution_count": 203,
      "outputs": []
    },
    {
      "cell_type": "code",
      "metadata": {
        "id": "GtHX8mftNcUo"
      },
      "source": [
        "with open('simple_train_text.txt', 'w') as fout:\n",
        "    for text in simple_texts:\n",
        "        fout.write(text)\n",
        "        fout.write('\\n')"
      ],
      "execution_count": 204,
      "outputs": []
    },
    {
      "cell_type": "code",
      "metadata": {
        "id": "5HvqI8BNKH6A"
      },
      "source": [
        "spm.SentencePieceTrainer.train('--input=simple_train_text.txt --model_prefix=s --vocab_size=500')"
      ],
      "execution_count": 205,
      "outputs": []
    },
    {
      "cell_type": "code",
      "metadata": {
        "colab": {
          "base_uri": "https://localhost:8080/"
        },
        "id": "dP-N1tI9KXKJ",
        "outputId": "21a2fd29-5bba-4800-8827-16af76acca67"
      },
      "source": [
        "simple_sp = spm.SentencePieceProcessor()\n",
        "simple_sp.load('s.model')"
      ],
      "execution_count": 206,
      "outputs": [
        {
          "output_type": "execute_result",
          "data": {
            "text/plain": [
              "True"
            ]
          },
          "metadata": {
            "tags": []
          },
          "execution_count": 206
        }
      ]
    },
    {
      "cell_type": "code",
      "metadata": {
        "colab": {
          "base_uri": "https://localhost:8080/"
        },
        "id": "Tol35pR8KcjQ",
        "outputId": "06281dac-3a21-4650-f9a6-a6e637018390"
      },
      "source": [
        "print(list(sp.id_to_piece(i) for i in range(sp.vocab_size())))\n",
        "print(sp.vocab_size())"
      ],
      "execution_count": 207,
      "outputs": [
        {
          "output_type": "stream",
          "text": [
            "['<unk>', '<s>', '</s>', 's', '▁', 'e', '▁the', ',', 't', '.', 'a', 'o', 'ed', '▁of', 'y', 'n', '▁in', 'c', '▁a', 'i', '▁and', 'd', 'u', 'ing', 'p', '▁to', 'al', 'er', 'g', 'ar', 'b', 'r', 'm', 'l', 'or', 'an', 'in', 're', '▁c', '1', 'le', 'f', 'en', 'k', 'on', '▁S', 'ic', 'ri', 'ur', '▁was', 'it', '▁f', 'v', 'h', 'es', 'th', '▁re', '▁The', '-', '▁B', 'w', 'st', '▁for', 'ch', '▁C', '▁P', '▁A', 'ly', '▁w', 'at', 'ter', 'ation', '▁b', 'ro', 'ent', '0', '▁is', 'un', '▁M', '▁p', \"'\", 'as', 'ad', 'il', '▁(', 'us', 'ra', '▁on', '▁with', 'ul', '▁19', '▁D', '▁T', '▁as', '▁st', '▁G', '▁F', '▁de', 'el', '3', '5', '▁by', '▁In', '▁H', '9', '2', '4', 'ce', 'ion', '6', 'ol', '▁m', 'ir', '▁20', 'is', '▁be', '8', 'am', '▁W', '▁that', 'ne', '▁he', '▁L', '7', '▁at', 'ec', '▁his', '▁E', '▁J', 'ver', ')', '▁from', '▁con', 'ment', 'et', '▁mo', 'tion', 'x', 'ate', '\"', 'la', 'li', 'om', 've', '▁an', '▁pro', 'ut', 'te', 'im', '▁N', 'se', '▁R', 'ill', 'ist', 'ow', 'ive', '▁e', '▁g', '▁\"', 'ain', '▁ma', 'id', '▁h', '▁t', '▁K', 'all', 'qu', 'lo', 'ity', 'z', '▁d', 'est', '▁sh', '▁are', '▁He', '▁were', '▁se', 'and', '▁I', 'ers', 'j', 'um', 'ies', 'ge', '▁ex', 'age', '▁li', '▁tr', 'ke', 'od', 'ell', 'ated', 'end', 'ted', '▁O', 'ian', 'op', 'if', 'ia', 'ther', 'ig', 'ong', '▁co', 'ci', 'vi', '▁which', 'S', 'ap', 'ant', '▁or', 'he', 'ry', 'own', 'me', '▁Ch', 'em', 'av', 'co', 'A', '▁2', '▁r', '▁po', 'man', '▁di', 'tor', '▁lo', '▁la', 'ight', 'ha', 'res', '▁sp', 'ud', 'act', '▁V', 'ack', '▁has', 'hi', 'pp', '▁it', 'ine', 'ous', 'mer', '▁so', 'C', '▁had', 'ide', 'ard', '▁Ma', '▁also', 'land', 'der', 'ence', 'ot', 'ff', '▁comp', 'ish', 'art', '▁com', '▁not', '▁bo', 'ance', '▁U', '▁Co', 'ach', 'ru', 'mp', 'ial', 'I', 'ran', '▁St', 'ho', 'ak', 'iz', '▁first', '▁pre', '▁ho', '▁who', '▁her', 'ally', '▁18', 'ab', 'iv', 'ary', 'ting', 'ven', 'son', 'ical', '▁per', '▁no', 'tic', 'mo', 'old', '▁part', 'port', 'ture', '▁me', '▁It', '▁their', '–', '▁but', 'ok', 'min', 'gu', '▁have', '▁year', '▁its', 'per', 'lu', '▁Ro', '▁dis', '▁Al', '),', '▁Re', '▁Ar', 'du', ':', 'T', 'form', 'ang', '▁this', '▁one', 'les', '▁been', '00', '▁An', '▁other', ';', 'M', 'sign', 'ph', ').', 'able', 'und', '▁vi', 'B', '▁all', '▁two', '▁On', 'P', 'ough', '▁play', '▁work', '▁do', '▁time', '▁man', '▁Mar', 'R', '▁after', '▁over', 'D', '▁gr', '▁out', 'way', 'ward', 'Y', 'amp', 'L', '▁New', '▁name', '▁La', '▁into', 'ship', '▁sc', 'round', 'E', '▁when', '▁under', '▁new', '%', 'ident', '▁film', 'day', '▁him', 'ock', 'N', '/', '▁some', '▁cha', '▁where', '▁Com', '▁would', 'O', 'duct', 'elect', '▁State', 'during', 'F', '▁school', '▁made', '▁imp', '▁sub', 'ju', '▁through', '▁high', '▁such', '▁This', '▁10', '▁University', 'Z', '▁between', '▁found', '▁about', '▁17', '▁three', 'G', '▁include', 'V', '▁became', '▁team', '▁season', '▁second', '▁large', '▁game', '▁member', '▁while', 'H', '▁After', '▁United', '▁before', '▁including', '▁follow', '▁number', 'vision', '▁known', 'K', '▁place', '▁people', '▁group', 'W', ',000', '▁against', '▁appear', 'until', '▁count', '▁plan', '▁School', 'é', '▁North', 'Q', '▁release', '▁take', '▁several', '▁develop', '’', '▁World', '▁record', '▁service', '▁series', '▁you', '▁York', '▁class', '▁music', 'U', 'X', '&', '$', 'J', '—', 'q', '”', ']', '“', '(', '[', 'á', '′', 'ó', '°', 'í', '!', 'ö', 'ü', 'ć', 'è', '?', '#', '+', 'ō', 'š', '=', 'ç', 'ä', 'ø', 'ā', 'α', 'Š', 'à', '{', 'â', 'É', '}', 'ã', '‘', 'а', '×', 'ú', 'č', 'ñ', '£', 'μ']\n",
            "500\n"
          ],
          "name": "stdout"
        }
      ]
    },
    {
      "cell_type": "code",
      "metadata": {
        "colab": {
          "base_uri": "https://localhost:8080/"
        },
        "id": "Phy8hdU9KeXL",
        "outputId": "75059b92-ee70-4525-b01d-950cc496b1e8"
      },
      "source": [
        "print(sp.encode_as_ids('Hello, my friend'))\n",
        "print(sp.encode_as_pieces('Hello, my friend'))"
      ],
      "execution_count": 208,
      "outputs": [
        {
          "output_type": "stream",
          "text": [
            "[103, 190, 11, 7, 111, 14, 51, 47, 192]\n",
            "['▁H', 'ell', 'o', ',', '▁m', 'y', '▁f', 'ri', 'end']\n"
          ],
          "name": "stdout"
        }
      ]
    },
    {
      "cell_type": "code",
      "metadata": {
        "colab": {
          "base_uri": "https://localhost:8080/",
          "height": 66,
          "referenced_widgets": [
            "2e30eaae3c3a403a90967a36480e6c4c",
            "ce06557af9bd43e0bdd5b0ae3c439fb4",
            "15140f9acc4d4e01a89a7be9d4853c9a",
            "7dae62dde7be442781ef1e2424ede9e9",
            "60172b211a3d40d1931d7af46e01925f",
            "b1a4cd222fed48e3a363d80699c5621a",
            "6391cf26178144f299e82b2eba15fd15",
            "a3a3242348bd4bf685c0974cbd96e32a"
          ]
        },
        "id": "UZj9xY_nLaqh",
        "outputId": "c76ac913-a92b-44da-a8cc-98f1e62e2720"
      },
      "source": [
        "simple_F_pair, simple_F_single, simple_F_last, simple_F_pos = collect_statistics(simple_texts, simple_sp)"
      ],
      "execution_count": 209,
      "outputs": [
        {
          "output_type": "display_data",
          "data": {
            "application/vnd.jupyter.widget-view+json": {
              "model_id": "2e30eaae3c3a403a90967a36480e6c4c",
              "version_minor": 0,
              "version_major": 2
            },
            "text/plain": [
              "HBox(children=(FloatProgress(value=0.0, max=10001.0), HTML(value='')))"
            ]
          },
          "metadata": {
            "tags": []
          }
        },
        {
          "output_type": "stream",
          "text": [
            "\n"
          ],
          "name": "stdout"
        }
      ]
    },
    {
      "cell_type": "markdown",
      "metadata": {
        "id": "-mEdPDuTahqn"
      },
      "source": [
        "# Calculating metrics"
      ]
    },
    {
      "cell_type": "markdown",
      "metadata": {
        "id": "2JXHXbenajsb"
      },
      "source": [
        "## Excess Entropy\n",
        "\n",
        "Friendly reminder:\n",
        "\n",
        "Suppose that we have a sequence of tokens $x_0, x_1, \\ldots, x_{n-1}$.\n",
        "We want to calculate $E(x_0, x_1, \\ldots, x_{n-1})$\n",
        "\n",
        "In original papers this metrics can be calculated only of some multidimensional random value, but not of sequence of numbers. \n",
        "\n",
        "So, $E(X_0, X_1, \\ldots, X_{n-1}) = (n-1)\\left(\\frac{1}{n-1}\\sum\\limits_{i=0}^{n-1}H(X_0, X_1, \\ldots, X_{i-1}, X_{i+1}, \\ldots, X_{n-1}) - H(X_0, \\ldots, X_{n-1})\\right)$\n",
        "\n",
        "The problem is how to calculate $H(\\ldots)$ if we have only a sequence of numbers.\n",
        "\n",
        "First of all, let's simplify the problem: we want to create such r.v. $\\xi_i$ from our numbers in such a way that $H(\\xi_0, \\ldots, \\xi_{n-1}) = H(\\xi_0) + H(\\xi_1|\\xi_0) + \\ldots + H(\\xi_{n-1}|\\xi_{n-2})$. How can we find such r.v.?\n",
        "\n",
        "Notice that $xi_i$ should depends on the position ($i$) in the sequence and on number at this position ($x_i$).\n",
        "\n",
        "Let's construct r.v. by $x_i$. So, $x_i$ will generate r.v. $\\xi^i_{x_i}$. What the distribution of such r.v. is?\n",
        "\n",
        "* $p(\\xi^0_{x_0}) = \\frac{\\#\\text{sequences with $x_0$ at the very beginning}}{\\#\\text{of first positions}}$\n",
        "\n",
        "* $p(\\xi^i_{x_i}, \\xi^{i-1}_{x_{i-1}}) = \\frac{\\#\\text{sequences with $x_{i-1}$ at position $i-1$ and $x_i$ at position $x_i$}}{\\#\\text{sequences with $i$-th position}}$\n",
        "\n",
        "Then we can define Excess Entropy of sequence of numbers\n",
        "\n",
        "$E(x_0, \\ldots, x_{n-1}) = E(\\xi^0_{x_0}, \\xi^1_{x_1}, \\ldots, \\xi^{n-1}_{x_{n-1}})$\n",
        "\n",
        "How to calculate it efficiently?\n",
        "\n",
        "Let's denote $\\mu_i = \\xi^i_{x_i}$\n",
        "\n",
        "* $\\hat{H} = H(\\mu_0, \\ldots, \\mu_{n-1}) = H(\\mu_0) + H(\\mu_1|\\mu_0) + \\ldots + H(\\mu_{n-1} | \\mu_{n-2})$\n",
        "    * $H(\\mu_i) = -p(\\mu_i)\\log p(\\mu_i) - (1-p(\\mu_i))\\log (1 - p(\\mu_i))$\n",
        "    * $H(\\mu_i,\\mu_{i-1}) = -p(\\mu_i,\\mu_{i-1})\\log p(\\mu_i,\\mu_{i-1}) - (1 - p(\\mu_i,\\mu_{i-1}))\\log(1 - p(\\mu_i, \\mu_{i-1}))$\n",
        "    * $H(\\mu_i|\\mu_{i-1}) = H(\\mu_i, \\mu_{i-1}) - H(\\mu_{i-1})$\n",
        "* $H(\\mu_0, \\ldots, \\mu_{i-1}, \\mu_{i+1}, \\ldots, \\mu_{n-1}) = \\hat{H} - H(\\mu_i|\\mu_{i-1}) - H(\\mu_{i+1}|\\mu_i) + H(\\mu_{i+1}|\\mu_{i-1}) = $\n",
        "$=\\hat{H} - H(\\mu_i|\\mu_{i-1}) - H(\\mu_{i+1}|\\mu_i) + H(\\mu_{i+1})$\n",
        "\n",
        "So, we can easily calculate Excess Entropy in $O(n)$ time\n",
        "\n",
        "**Note**: actually, we do not calculate pure entropy, but we calculate some metric, which is very similar to it. The problem is that we are working with binary random variables and it is hard to make a relationship between binary r.v. for pair $(\\mu_i, \\mu_{i-1})$ and binary r.v. for $\\mu_i$.\n",
        "\n",
        "**Note**: if we will define r.v. which depends only on values then we can not easily calculate Excess entropy, because there is dependency between all r.v."
      ]
    },
    {
      "cell_type": "code",
      "metadata": {
        "id": "7HFDbvgSai3s"
      },
      "source": [
        "def calculate_excess_entropy(\n",
        "    texts: List[str], \n",
        "    sp: spm.SentencePieceProcessor,\n",
        "    F_pair: nltk.FreqDist,\n",
        "    F_single: nltk.FreqDist,\n",
        "    F_last: nltk.FreqDist,\n",
        "    F_pos: nltk.FreqDist\n",
        ") -> np.ndarray:\n",
        "    \"\"\"\n",
        "    texts: the list of str texts\n",
        "    sp: pretrained sentencepieces tokenizer\n",
        "    F_pair: nltk.FreqDist with counts for (i, (x_{i-1}, x_i))\n",
        "    F_single: nltk.FreqDist with counts for (i, x_i)\n",
        "    F_last: nltk.FreqDist with counts for (i, x_i), where i is the last position of the sequence\n",
        "    F_pos: nltk.FreqDist with counts for i - the number of texts with i-th position\n",
        "    \n",
        "    Returns\n",
        "    - a (# of texts,) numpy array with excess entropy calculated for each text\n",
        "    \"\"\"\n",
        "\n",
        "    EPS = 1e-9\n",
        "    def calculate_entropy(p):\n",
        "        if p > 1 - EPS or p < EPS:\n",
        "            return 0\n",
        "        return -p * np.log(p + EPS) - (1 - p) * np.log(1 - p)\n",
        "\n",
        "    def H_single(i, xi, verbose: bool = False):\n",
        "        p = F_single[(i, xi)] / F_pos[i]\n",
        "        if verbose:\n",
        "            print(p)\n",
        "        return calculate_entropy(p)\n",
        "\n",
        "    def H_pair(i, prev, cur, verbose: bool = False):\n",
        "        p = F_pair[(i, (prev, cur))] / F_pos[i]\n",
        "        if verbose:\n",
        "            print(p)\n",
        "        return calculate_entropy(p) - H_single(i - 1, prev)\n",
        "\n",
        "    ee = np.zeros(len(texts), dtype=float)\n",
        "\n",
        "    for id, text in tqdm(enumerate(texts)):\n",
        "        x = sp.encode_as_ids(text)\n",
        "        n = len(x)\n",
        "        H_hat = 0\n",
        "        delta = 0\n",
        "        for i in range(n):\n",
        "            if i == 0:\n",
        "                H_hat += H_single(0, x[i])\n",
        "            else:\n",
        "                H_hat += H_pair(i, x[i - 1], x[i])\n",
        "            if i > 0:\n",
        "                delta += -H_pair(i, x[i - 1], x[i])\n",
        "            if i + 1 < n:\n",
        "                delta += -H_pair(i + 1, x[i], x[i + 1]) + H_single(i + 1, x[i + 1])\n",
        "        ee[id] = delta + H_hat\n",
        "\n",
        "    return ee"
      ],
      "execution_count": 201,
      "outputs": []
    },
    {
      "cell_type": "code",
      "metadata": {
        "colab": {
          "base_uri": "https://localhost:8080/",
          "height": 66,
          "referenced_widgets": [
            "e15c2712c0e84de896dc6fc7300a0d91",
            "c68fed505dc042efbcdb470104d74c8d",
            "acd913cbcb544c8b970e0508a8eeee9a",
            "ca1c4d00006f44549131a7b8e4b522f3",
            "2d99ae3f2a1744b1b72e39e662e94731",
            "b36b24fb430940ec947fc17d3ccaa789",
            "8f1f9438e08f407999cc50834a389005",
            "d773f58eb72a4017ba1180d2d69082ee"
          ]
        },
        "id": "11JCBUFWgcpi",
        "outputId": "deea2b5d-6574-4436-dd1a-2441a33bae82"
      },
      "source": [
        "ee = calculate_excess_entropy(\n",
        "    texts,\n",
        "    sp,\n",
        "    F_pair,\n",
        "    F_single,\n",
        "    F_last,\n",
        "    F_pos\n",
        ")"
      ],
      "execution_count": 202,
      "outputs": [
        {
          "output_type": "display_data",
          "data": {
            "application/vnd.jupyter.widget-view+json": {
              "model_id": "e15c2712c0e84de896dc6fc7300a0d91",
              "version_minor": 0,
              "version_major": 2
            },
            "text/plain": [
              "HBox(children=(FloatProgress(value=1.0, bar_style='info', max=1.0), HTML(value='')))"
            ]
          },
          "metadata": {
            "tags": []
          }
        },
        {
          "output_type": "stream",
          "text": [
            "\n"
          ],
          "name": "stdout"
        }
      ]
    },
    {
      "cell_type": "code",
      "metadata": {
        "colab": {
          "base_uri": "https://localhost:8080/"
        },
        "id": "JlCoXtb3jZLd",
        "outputId": "b8d01de4-f2f8-49f7-d6be-e6078b9fb30a"
      },
      "source": [
        "print(ee.min(), ee.max(), ee.mean(), ee.std())"
      ],
      "execution_count": 192,
      "outputs": [
        {
          "output_type": "stream",
          "text": [
            "-743.9735127688363 753.7530890787589 -91.0420270319473 124.93226330525333\n"
          ],
          "name": "stdout"
        }
      ]
    },
    {
      "cell_type": "code",
      "metadata": {
        "id": "Q9ObqiGeRpId"
      },
      "source": [
        "lens = np.array([len(sp.encode_as_ids(text)) for text in texts])"
      ],
      "execution_count": 193,
      "outputs": []
    },
    {
      "cell_type": "code",
      "metadata": {
        "colab": {
          "base_uri": "https://localhost:8080/",
          "height": 66,
          "referenced_widgets": [
            "c217d74c8ae94b5b8624a4fa7098d4a3",
            "f9a78e7ead7b432f830a07e434f1ffe9",
            "4d2e6d0f414f4476bdb70cb4aeefb8e1",
            "089799641a954626a21e207b9cf8ee15",
            "5ef2bee54c2a42778aed81d3d0bca9ce",
            "ad05c17e64e946539e55643c35acad12",
            "b3d88d2fda5e425f97e11b7b2ab9da38",
            "4000b2daad8240169f8157dce9a4aebb"
          ]
        },
        "id": "fNPWRBNELoTO",
        "outputId": "0ebb4390-fc56-46cd-8b35-20e62f7d29bb"
      },
      "source": [
        "simple_ee = calculate_excess_entropy(\n",
        "    simple_texts,\n",
        "    simple_sp,\n",
        "    simple_F_pair,\n",
        "    simple_F_single,\n",
        "    simple_F_last,\n",
        "    simple_F_pos\n",
        ")"
      ],
      "execution_count": 210,
      "outputs": [
        {
          "output_type": "display_data",
          "data": {
            "application/vnd.jupyter.widget-view+json": {
              "model_id": "c217d74c8ae94b5b8624a4fa7098d4a3",
              "version_minor": 0,
              "version_major": 2
            },
            "text/plain": [
              "HBox(children=(FloatProgress(value=1.0, bar_style='info', max=1.0), HTML(value='')))"
            ]
          },
          "metadata": {
            "tags": []
          }
        },
        {
          "output_type": "stream",
          "text": [
            "\n"
          ],
          "name": "stdout"
        }
      ]
    },
    {
      "cell_type": "code",
      "metadata": {
        "colab": {
          "base_uri": "https://localhost:8080/"
        },
        "id": "IGj1M7VyL4Nx",
        "outputId": "bde20b37-1ce5-47b1-9dd0-7dccde623ab8"
      },
      "source": [
        "print(simple_ee.min(), simple_ee.max(), simple_ee.mean(), simple_ee.std())"
      ],
      "execution_count": 211,
      "outputs": [
        {
          "output_type": "stream",
          "text": [
            "0.1690015166881823 165.52096049489685 10.170651639646135 8.789070746799466\n"
          ],
          "name": "stdout"
        }
      ]
    },
    {
      "cell_type": "code",
      "metadata": {
        "id": "hjRa-SYCL-fC"
      },
      "source": [
        "simple_lens = np.array([len(sp.encode_as_ids(text)) for text in simple_texts])"
      ],
      "execution_count": 212,
      "outputs": []
    },
    {
      "cell_type": "code",
      "metadata": {
        "colab": {
          "base_uri": "https://localhost:8080/",
          "height": 625
        },
        "id": "XAkec2kbMCSt",
        "outputId": "b01d7bdb-6473-4880-a6dc-79e335f93cf1"
      },
      "source": [
        "plt.figure(figsize=(10, 10))\n",
        "plt.xlabel('len')\n",
        "plt.ylabel('Excess Entropy')\n",
        "plt.scatter(lens[lens < 5000], ee[lens < 5000], color='blue', label='En Wiki')\n",
        "plt.scatter(simple_lens, simple_ee, color='red', label='Simple En Wiki')\n",
        "plt.legend()\n",
        ";"
      ],
      "execution_count": 213,
      "outputs": [
        {
          "output_type": "execute_result",
          "data": {
            "application/vnd.google.colaboratory.intrinsic+json": {
              "type": "string"
            },
            "text/plain": [
              "''"
            ]
          },
          "metadata": {
            "tags": []
          },
          "execution_count": 213
        },
        {
          "output_type": "display_data",
          "data": {
            "image/png": "[encoded data removed]",
            "text/plain": [
              "<Figure size 720x720 with 1 Axes>"
            ]
          },
          "metadata": {
            "tags": [],
            "needs_background": "light"
          }
        }
      ]
    },
    {
      "cell_type": "markdown",
      "metadata": {
        "id": "KfR0tCwQTyzG"
      },
      "source": [
        "## TSE Complexity\n",
        "\n",
        "We have sequence of numbers (tokens): $x_0, \\ldots, x_{n-1}$\n",
        "\n",
        "Let's denote \n",
        "* $V_i = \\{0, 1, \\ldots, i\\}$\n",
        "* $V = V_{n-1}$\n",
        "* $\\mu_A = \\mu_{i_0}, \\mu_{i_1}, \\ldots, \\mu_{i_{k-1}}$, where $A = \\{i_0, i_1, \\ldots, i_{k-1}\\}$ and $i_{j} < i_{j+1}$\n",
        "\n",
        "\n",
        "TSE Complexity is $C(\\mu_V) = \\sum\\limits_{k=1}^{n-1}\\frac{k}{n}C^{(k)}(\\mu_V)$, where\n",
        "\n",
        "$C^{(k)}(\\mu_V) = \\left[\\frac{n}{k}\\cdot\\frac{1}{\\binom{n}{k}}\\sum\\limits_{A\\subset V, |A| = k}H(\\mu_A)\\right] - H(\\mu_V)$\n",
        "\n",
        "We already know, how to calculate $H(\\mu_V)$.\n",
        "\n",
        "How can we calculate left term of given formula. Let's use dynamic programming, which allows us to do it in $O(n^2)$ time complexity.\n",
        "\n",
        "Let's define \n",
        "\n",
        "* $d(i, k) = \\frac{1}{\\binom{i}{k}}\\sum\\limits_{A\\subset V_i, |A| = k} H(\\mu_A)$, \n",
        "\n",
        "    where $0 \\le i < n, 0 \\le k < n$\n",
        "\n",
        "* $d(i, 0) = 0$\n",
        "\n",
        "    $\\forall 0 \\le i < n$\n",
        "\n",
        "then \n",
        "\n",
        "* $C^{(k)}(\\mu_V) = \\frac{n}{k}d(n - 1, k) - H(\\mu_V)$\n",
        "    \n",
        "    $C(\\mu_V) = \\sum\\limits_{k=1}^{n-1}\\left(d(n - 1, k) - \\frac{k}{n}H(\\mu_v)\\right) = \\left[\\sum\\limits_{k=1}^{n-1}d(n-1,k)\\right] - \\frac{n-1}{2}H(\\mu_V)$\n",
        "\n",
        "Transition:\n",
        "\n",
        "$d(i, k) = \\frac{1}{\\binom{i}{k}}\\sum\\limits_{A\\subset V_i, |A| = k} H(\\mu_A) =$\n",
        "\n",
        "$=\\left[\\frac{1}{\\binom{i}{k}}\\sum\\limits_{A\\subset V_{i-1}, |A| = k} H(\\mu_A)\\right]\n",
        "+ \\left[\\frac{1}{\\binom{i}{k}}\\sum\\limits_{A\\subset V_{i-1}, |A| = k-1,} H(\\mu_{A\\cup\\{i\\}})\\right]\n",
        "=$\n",
        "\n",
        "$=\\left[\\frac{1}{\\binom{i}{k}}\\sum\\limits_{A\\subset V_{i-1}, |A| = k} H(\\mu_A)\\right]\n",
        "+ \\left[\\frac{1}{\\binom{i}{k}}\\sum\\limits_{A\\subset V_{i-2}, |A|=k-1}H(\\mu_{A\\cup\\{i\\}})\\right]\n",
        "+ \\left[\\frac{1}{\\binom{i}{k}}\\sum\\limits_{A\\subset V_{i-2}, |A|=k-2}H(\\mu_{A\\cup\\{i-1,i\\}})\\right] = A + B + C$\n",
        "\n",
        "Let's introduce two definitions\n",
        "1. $d^0(i, k) = \\frac{1}{\\binom{i}{k}}\\sum\\limits_{A\\subset V_{i-1},|A|=k}H(\\mu_A)$. \n",
        "    \n",
        "    $d^0(i, 0) = 0$\n",
        "2. $d^1(i, k) = \\frac{1}{\\binom{i}{k}}\\sum\\limits_{A\\subset V_{i-1},|A|=k-1}H(\\mu_{A\\cup{\\{i\\}}})$. \n",
        "    \n",
        "    $d^1(i, 0) = 0$\n",
        "\n",
        "then we have \n",
        "* $d(i, k) = d^0(i, k) + d^1(i, k)$\n",
        "* $d^0(i, k) = d(i - 1, k)$\n",
        "\n",
        "Then if $i > 0$\n",
        "\n",
        "* $A = \\frac{i-k}{i}d(i-1,k)$\n",
        "\n",
        "* $B = \\frac{1}{\\binom{i}{k}}\\sum\\limits_{A\\subset V_{i-2},|A|=k-1}\\left[H(\\mu_A) + H(\\mu_i)\\right] = \\left[\\frac{1}{\\binom{i}{k}}\\sum\\limits_{A\\subset V_{i-2},|A|=k-1}H(\\mu_A)\\right] + \\frac{\\binom{i-1}{k-1}}{\\binom{i}{k}}H(\\mu_i) =$\n",
        "\n",
        "$= \\frac{i-k}{i}d^0(i-1,k-1) + \\frac{k}{i}H(\\mu_i)$\n",
        "\n",
        "* $C = \\frac{1}{\\binom{i}{k}}\\sum\\limits_{A\\subset V_{i-2}, |A|=k-2}\\left[H(\\mu_{A\\cup\\{i-1\\}}) + H(\\mu_i|\\mu_{i-1})\\right] = \\frac{i-k}{i}d^1(i-1,k-1) + \\frac{\\binom{i-1}{k-2}}{\\binom{i}{k}}H(\\mu_i|\\mu_{i-1}) = $\n",
        "\n",
        "$=\\frac{i-k}{i}d^1(i-1,k-1) + \\frac{k(k-1)}{i(i-k+1)}H(\\mu_i|\\mu_{i-1})$\n",
        "\n",
        "**Note**: $\\binom{i}{k}=\\frac{i!}{k!(i-k)!}=\\frac{(i-1)!i}{k!(i-1-k)!(i-k)}=\\binom{i-1}{k}\\frac{i}{i-k}$\n",
        "\n",
        "if $i = 0$ then \n",
        "* $d(0, 1) = H(\\mu_0)$\n",
        "* $d(0, k) = 0$\n",
        "\n",
        "    $\\forall k > 1$\n"
      ]
    },
    {
      "cell_type": "code",
      "metadata": {
        "id": "BAyH5NuPT0Gs"
      },
      "source": [
        ""
      ],
      "execution_count": null,
      "outputs": []
    }
  ]
}