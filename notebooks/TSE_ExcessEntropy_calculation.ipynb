{
 "cells": [
  {
   "cell_type": "markdown",
   "metadata": {
    "id": "yRynVVFqczch"
   },
   "source": [
    "Inspired by [paper](https://www.researchgate.net/publication/237135894_A_unifying_framework_for_complexity_measures_of_finite_systems)\n",
    "\n",
    "In this notebook I will implement TSE and Excess Entropy calculation and test it on following datasets:\n",
    "\n",
    "\n",
    "\n",
    "1.   Wikipedia\n",
    "2.   Simple English Wikipedia\n"
   ]
  },
  {
   "cell_type": "markdown",
   "metadata": {
    "id": "fNPwqgcCuoBC"
   },
   "source": [
    "# Preparation"
   ]
  },
  {
   "cell_type": "code",
   "execution_count": 214,
   "metadata": {
    "colab": {
     "base_uri": "https://localhost:8080/"
    },
    "id": "UMAfwK2Tuqk3",
    "outputId": "1e8dda29-af9c-46e7-a16d-afdc66ea0f75"
   },
   "outputs": [
    {
     "name": "stdout",
     "output_type": "stream",
     "text": [
      "OK\n"
     ]
    }
   ],
   "source": [
    "!python3 -m pip install sentencepiece > /dev/null && echo 'OK'"
   ]
  },
  {
   "cell_type": "code",
   "execution_count": 215,
   "metadata": {
    "colab": {
     "base_uri": "https://localhost:8080/"
    },
    "id": "gPYhLHbjyW9j",
    "outputId": "19f245dd-9fe5-4cf9-9bad-4dc8786d0e37"
   },
   "outputs": [
    {
     "name": "stdout",
     "output_type": "stream",
     "text": [
      "OK\n"
     ]
    }
   ],
   "source": [
    "!python3 -m pip install tensorflow_text > /dev/null && echo 'OK'"
   ]
  },
  {
   "cell_type": "code",
   "execution_count": 216,
   "metadata": {
    "colab": {
     "base_uri": "https://localhost:8080/"
    },
    "id": "ETFmTXXgyW3v",
    "outputId": "49ec24e0-4e8f-4fc0-dd44-4bf34530e90e"
   },
   "outputs": [
    {
     "name": "stdout",
     "output_type": "stream",
     "text": [
      "OK\n"
     ]
    }
   ],
   "source": [
    "!python3 -m pip install tensorflow_datasets > /dev/null && echo 'OK'"
   ]
  },
  {
   "cell_type": "code",
   "execution_count": 217,
   "metadata": {
    "colab": {
     "base_uri": "https://localhost:8080/"
    },
    "id": "64qgPiHyyCgF",
    "outputId": "8e4daaba-0b52-433a-d81b-e5240d2db211"
   },
   "outputs": [
    {
     "name": "stdout",
     "output_type": "stream",
     "text": [
      "OK\n"
     ]
    }
   ],
   "source": [
    "!python3 -m pip install tf_sentencepiece > /dev/null && echo 'OK'"
   ]
  },
  {
   "cell_type": "markdown",
   "metadata": {
    "id": "K_JtxlGAGrhP"
   },
   "source": [
    "### Imports"
   ]
  },
  {
   "cell_type": "code",
   "execution_count": 218,
   "metadata": {
    "id": "QvRHcxDKukxK"
   },
   "outputs": [],
   "source": [
    "import sentencepiece as spm\n",
    "import tensorflow_datasets as tfds\n",
    "from tqdm.notebook import tqdm\n",
    "import numpy as np\n",
    "from typing import List, Tuple\n",
    "import nltk\n",
    "import matplotlib.pyplot as plt"
   ]
  },
  {
   "cell_type": "markdown",
   "metadata": {
    "id": "wNiRzbPddkZx"
   },
   "source": [
    "# Datasets"
   ]
  },
  {
   "cell_type": "markdown",
   "metadata": {
    "id": "sdwSY9Tpmnwb"
   },
   "source": [
    "## Wikipedia"
   ]
  },
  {
   "cell_type": "markdown",
   "metadata": {
    "id": "NnlJ-q5quOeO"
   },
   "source": [
    "[link](https://www.tensorflow.org/datasets/catalog/wiki40b#wiki40ben_default_config) to dataset"
   ]
  },
  {
   "cell_type": "code",
   "execution_count": 219,
   "metadata": {
    "id": "fttAVOrWiFAi"
   },
   "outputs": [],
   "source": [
    "ds = tfds.load('wiki40b/en', split='train', shuffle_files=True)"
   ]
  },
  {
   "cell_type": "code",
   "execution_count": 220,
   "metadata": {
    "id": "Y0T-7CICjH-U"
   },
   "outputs": [],
   "source": [
    "MAX_TEXTS_SIZE = 1000\n",
    "\n",
    "texts = []\n",
    "for x in ds:\n",
    "    if len(texts) > MAX_TEXTS_SIZE:\n",
    "        break\n",
    "    s = x['text'].numpy().decode('utf-8')\n",
    "    text = s.replace('_NEWLINE_', ' ').replace('_START_ARTICLE_', '').replace('_START_PARAGRAPH_', '').replace('_START_SECTION_',' ').split('\\n')\n",
    "    texts += list(filter(lambda x: len(x) > 20, text))"
   ]
  },
  {
   "cell_type": "code",
   "execution_count": 221,
   "metadata": {
    "id": "eHhMXOohxcbX"
   },
   "outputs": [],
   "source": [
    "with open('train_text.txt', 'w') as fout:\n",
    "    for text in texts:\n",
    "        fout.write(text)\n",
    "        fout.write('\\n')"
   ]
  },
  {
   "cell_type": "code",
   "execution_count": 222,
   "metadata": {
    "id": "cyhbH3dH2H-D"
   },
   "outputs": [],
   "source": [
    "spm.SentencePieceTrainer.train('--input=train_text.txt --model_prefix=m --vocab_size=500')"
   ]
  },
  {
   "cell_type": "code",
   "execution_count": 223,
   "metadata": {
    "colab": {
     "base_uri": "https://localhost:8080/"
    },
    "id": "hxkkLHVy21f2",
    "outputId": "3a913b47-3b58-4ad6-b328-a802e64780a1"
   },
   "outputs": [
    {
     "data": {
      "text/plain": [
       "True"
      ]
     },
     "execution_count": 223,
     "metadata": {
      "tags": []
     },
     "output_type": "execute_result"
    }
   ],
   "source": [
    "sp = spm.SentencePieceProcessor()\n",
    "sp.load('m.model')"
   ]
  },
  {
   "cell_type": "code",
   "execution_count": 224,
   "metadata": {
    "colab": {
     "base_uri": "https://localhost:8080/"
    },
    "id": "MzrOhFVB3VSY",
    "outputId": "b5af03b4-fa53-4cce-9de9-5ba15ec6eb07"
   },
   "outputs": [
    {
     "name": "stdout",
     "output_type": "stream",
     "text": [
      "['<unk>', '<s>', '</s>', 's', '▁', 'e', '▁the', ',', 't', '.', 'o', 'ed', '▁of', 'i', 'a', 'n', '▁in', 'u', 'y', '▁and', '▁a', 'd', 'er', 'ing', 'p', 'r', 'al', 'c', '▁to', 'm', 'ar', 'g', 'or', 'l', 'b', 'in', 'an', 'on', 'le', '▁c', 're', 'h', 'k', 'f', '▁m', 'th', '▁S', 'ic', 'en', '▁f', 'ch', 'it', '▁A', '▁was', '-', 'ri', '▁The', 'es', 'ra', 'at', '▁C', '▁B', 'ro', '▁re', 'v', '▁b', 'w', 'ad', '1', 'st', '▁P', 'il', '▁for', 'ur', '▁M', 'ation', 'ter', 'ly', '▁be', \"'\", ')', '▁(', '▁F', '▁w', 'ent', '▁on', '▁with', 'as', 'ion', 'am', 'ir', '▁as', 'ol', 'et', 'se', '▁st', '▁19', '▁T', 'us', 'ct', '▁H', '▁p', '▁is', '▁D', '▁by', 'ow', '5', '▁h', 'ul', '▁t', 'un', 'el', '3', '▁d', '▁de', '0', '9', '▁In', 'z', '▁G', 'is', '▁g', 'ac', 'lo', '▁from', 'ne', '7', '▁l', '4', 'tion', '▁con', '▁E', '6', 'ist', 'ive', 'li', '▁W', 'om', '▁L', '▁he', '2', 'ment', 'ver', '▁that', 'ate', '▁at', '\"', '8', '▁his', 'im', '▁an', '▁J', 'ce', 'vi', '▁1', 'ci', '▁2', '▁R', 'ig', 'ge', 'qu', 'and', '▁\"', '▁r', 'x', 'id', 've', 'ill', '▁N', 'em', 'est', 'la', 'te', '▁ex', 'ck', 'S', '▁were', 'j', 'ong', 'ance', 'ies', 'ain', '▁K', '▁or', '▁sh', 'ers', 'od', '▁su', 'um', 'ity', 'art', '▁I', '▁po', 'ant', '▁O', 'age', 'all', 'ian', '▁e', '▁comp', '▁Ch', 'ous', 'ish', 'ak', '00', 'av', 'ti', 'ia', 'ap', 'if', 'ot', '▁which', 'ine', 'ical', 'ated', 'ence', 'ten', 'A', '▁pro', '▁v', '▁it', '▁are', 'ph', '▁St', 'ight', 'our', 'out', '▁had', 'man', '▁He', '▁so', '▁la', '▁V', 'und', 'to', '▁co', 'per', 'co', 'me', 'pp', 'os', '▁U', 'ide', '▁en', 'ven', '▁also', 'der', 'ary', 'ard', '20', '–', 'ach', 'I', '▁first', '▁whe', '▁18', '▁pre', '▁di', '▁un', '▁not', '▁Ma', '▁sp', 'ry', '▁com', 'C', 'ud', '▁Ro', 'tic', 'ab', 'ure', 'ell', 'ang', 'ho', '▁no', '▁It', 'ha', 'old', 'R', ';', ':', 'ally', '▁its', '▁work', 'port', '▁year', 'ff', '▁man', 'Y', '▁has', 'able', 'land', '▁part', '▁who', '▁but', '▁Re', '▁two', 'ron', 'T', '▁pa', '▁An', '▁Al', '▁other', 'ough', 'way', '▁this', '▁her', 'ship', 'F', 'M', '▁one', 'P', '▁dis', '▁new', 'D', '▁play', '▁over', '▁form', '▁all', 'gen', '▁after', '▁have', '▁On', '▁17', '▁up', 'B', '▁time', '▁develop', '▁Mar', 'O', 'came', '▁design', '▁used', '▁high', 'V', '▁trans', 'tory', '▁La', '▁dur', '▁imp', '▁University', '▁type', '000', '▁Thi', '▁Com', 'E', '▁mov', '/', 'Z', 'N', '▁under', '▁more', '▁New', '▁well', 'cept', '▁release', 'ward', 'form', 'G', '▁again', '▁She', '▁would', 'ween', '▁through', '▁North', 'L', '▁including', '▁include', '▁three', 'day', '▁South', '▁system', '▁follow', 'press', '▁some', 'count', '▁most', '▁about', '▁sever', 'class', '▁than', '▁name', '▁sea', '▁found', '▁both', 'ology', '▁large', '▁game', '▁product', '▁model', '▁perform', 'H', '▁process', 'produc', 'é', '▁German', 'U', '▁film', '▁team', '▁early', '▁vari', '▁member', '▁appear', '▁print', '▁group', '▁place', '▁record', '▁known', '▁World', '▁century', '▁while', '▁United', 'K', 'Q', '▁before', '▁direct', '▁Korea', '▁Europe', '▁second', '▁result', '▁interest', '’', '▁people', 'cause', '—', '▁school', 'W', '▁business', 'mission', '▁series', '▁operat', '▁featur', '▁student', '▁return', 'field', '▁could', '▁provid', '▁October', '▁building', '▁book', '▁government', '▁event', '▁military', '▁number', '▁support', 'X', '▁success', '▁world', '▁Greco', '▁program', '▁Brettingham', '▁French', '▁establish', '▁Ireland', '▁2015', '▁join', '&', '▁language', 'ccording', '▁August', '%', '▁Empires', '▁character', '▁received', '▁continue', '▁announced', '▁describ', '▁service', '▁period', '▁governance', '▁2017', '▁club', 'ô', 'á', '”', '“', 'ö', 'è', 'ć', 'ä', 'ë', 'č', 'J', 'ü', '!', 'í', '£', 'ó', '[', ']', 'q', '′', '|', 'š', '(', 'а', 'ā', '*', 'Š', '$', '+']\n",
      "500\n"
     ]
    }
   ],
   "source": [
    "print(list(sp.id_to_piece(i) for i in range(sp.vocab_size())))\n",
    "print(sp.vocab_size())"
   ]
  },
  {
   "cell_type": "code",
   "execution_count": 225,
   "metadata": {
    "colab": {
     "base_uri": "https://localhost:8080/"
    },
    "id": "lkdORK975AG4",
    "outputId": "27f54c64-520d-45be-ff1f-cfe4f13a3fe1"
   },
   "outputs": [
    {
     "name": "stdout",
     "output_type": "stream",
     "text": [
      "[100, 270, 10, 7, 44, 18, 49, 55, 48, 21]\n",
      "['▁H', 'ell', 'o', ',', '▁m', 'y', '▁f', 'ri', 'en', 'd']\n"
     ]
    }
   ],
   "source": [
    "print(sp.encode_as_ids('Hello, my friend'))\n",
    "print(sp.encode_as_pieces('Hello, my friend'))"
   ]
  },
  {
   "cell_type": "code",
   "execution_count": 226,
   "metadata": {
    "id": "_PnD_rNLGVDv"
   },
   "outputs": [],
   "source": [
    "def collect_statistics(\n",
    "    texts: List[str], \n",
    "    sp: spm.SentencePieceProcessor\n",
    ") -> Tuple[np.ndarray]:\n",
    "    \"\"\"\n",
    "    texts: the list of str texts\n",
    "    sp: pretrained sentencepieces tokenizer\n",
    "\n",
    "    Returns\n",
    "    - a nltk.FreqDist with counts for (i, (x_{i-1}, x_i))\n",
    "    - a nltk.FreqDist with counts for (i, x_i)\n",
    "    - a nltk.FreqDist with counts for (i, x_i), where i is the last position of the sequence\n",
    "    - a nltk.FreqDist with counts for i - the number of texts with i-th position\n",
    "    \"\"\"\n",
    "\n",
    "    vocab_size = sp.vocab_size()\n",
    "    bins = np.arange(vocab_size + 1)\n",
    "\n",
    "    F_pair = nltk.FreqDist()\n",
    "    F_single = nltk.FreqDist()\n",
    "    F_last = nltk.FreqDist()\n",
    "    F_pos = nltk.FreqDist()\n",
    "\n",
    "    for text in tqdm(texts):\n",
    "        tokenized_sequence = sp.encode_as_ids(text)\n",
    "        bgs = nltk.bigrams(tokenized_sequence)\n",
    "        F_pair += nltk.FreqDist(zip(range(1, len(tokenized_sequence)), bgs))\n",
    "        F_single += nltk.FreqDist(zip(range(len(tokenized_sequence)), tokenized_sequence))\n",
    "        F_last += nltk.FreqDist([(len(tokenized_sequence) - 1, tokenized_sequence[-1])])\n",
    "        F_pos += nltk.FreqDist(range(len(tokenized_sequence)))\n",
    "    \n",
    "    return F_pair, F_single, F_last, F_pos"
   ]
  },
  {
   "cell_type": "code",
   "execution_count": 227,
   "metadata": {
    "colab": {
     "base_uri": "https://localhost:8080/",
     "height": 66,
     "referenced_widgets": [
      "cbfeaa593bbb40c98f05933addf57e49",
      "5f7d827b0f854a6297abd0d410e59ff8",
      "4af4e952439d4f718ccd6e2e5c07a659",
      "0075ad52a8944c8dbb32376024471672",
      "bc825fd2119e433ca67ece3f77ac07b5",
      "9d05a7bd82334aa9bbaa54850395069e",
      "7c9ce8f3540e47cda3a204e0a1d5a2ff",
      "104bd25b80634ec9b8bea732dcf89f73"
     ]
    },
    "id": "g_5OqF5EHu5m",
    "outputId": "daa0d519-b2b9-4f04-86d5-f28d601d811f"
   },
   "outputs": [
    {
     "data": {
      "application/vnd.jupyter.widget-view+json": {
       "model_id": "cbfeaa593bbb40c98f05933addf57e49",
       "version_major": 2,
       "version_minor": 0
      },
      "text/plain": [
       "HBox(children=(FloatProgress(value=0.0, max=1004.0), HTML(value='')))"
      ]
     },
     "metadata": {
      "tags": []
     },
     "output_type": "display_data"
    },
    {
     "name": "stdout",
     "output_type": "stream",
     "text": [
      "\n"
     ]
    }
   ],
   "source": [
    "F_pair, F_single, F_last, F_pos = collect_statistics(texts, sp)"
   ]
  },
  {
   "cell_type": "markdown",
   "metadata": {
    "id": "Qg5gBHJiaEr_"
   },
   "source": [
    "## Simple English wikipedia\n",
    "\n",
    "some [link](https://github.com/LGDoor/Dump-of-Simple-English-Wiki)"
   ]
  },
  {
   "cell_type": "code",
   "execution_count": 228,
   "metadata": {
    "colab": {
     "base_uri": "https://localhost:8080/"
    },
    "id": "FS0ylolIJIGs",
    "outputId": "47b3766e-6e1d-4b01-8140-410bda897887"
   },
   "outputs": [
    {
     "name": "stdout",
     "output_type": "stream",
     "text": [
      "fatal: destination path 'Dump-of-Simple-English-Wiki' already exists and is not an empty directory.\n"
     ]
    }
   ],
   "source": [
    "!git clone https://github.com/LGDoor/Dump-of-Simple-English-Wiki.git"
   ]
  },
  {
   "cell_type": "code",
   "execution_count": 229,
   "metadata": {
    "id": "uscpWhGJJLPk"
   },
   "outputs": [],
   "source": [
    "!tar -xf Dump-of-Simple-English-Wiki/corpus.tgz"
   ]
  },
  {
   "cell_type": "code",
   "execution_count": 230,
   "metadata": {
    "colab": {
     "base_uri": "https://localhost:8080/"
    },
    "id": "HLijsCNjJtnC",
    "outputId": "66243cc3-82ae-4d36-8da1-6f7d6d6c349d"
   },
   "outputs": [
    {
     "name": "stdout",
     "output_type": "stream",
     "text": [
      "total 36M\n",
      "-rw-r--r-- 1  501 staff  32M Apr  9  2013 corpus.txt\n",
      "drwxr-xr-x 3 root root  4.0K Nov 20 19:31 Dump-of-Simple-English-Wiki\n",
      "-rw-r--r-- 1 root root  239K Nov 20 21:05 m.model\n",
      "-rw-r--r-- 1 root root  7.0K Nov 20 21:05 m.vocab\n",
      "drwxr-xr-x 1 root root  4.0K Nov 13 17:33 sample_data\n",
      "-rw-r--r-- 1 root root  2.5M Nov 20 20:02 simple_train_text.txt\n",
      "-rw-r--r-- 1 root root  239K Nov 20 20:02 s.model\n",
      "-rw-r--r-- 1 root root  7.1K Nov 20 20:02 s.vocab\n",
      "-rw-r--r-- 1 root root  860K Nov 20 21:05 train_text.txt\n"
     ]
    }
   ],
   "source": [
    "!ls -lh"
   ]
  },
  {
   "cell_type": "code",
   "execution_count": 231,
   "metadata": {
    "id": "8zmlVZp1JSFf"
   },
   "outputs": [],
   "source": [
    "SIMPLE_MAX_TEXTS_SIZE = 1000\n",
    "\n",
    "simple_texts = []\n",
    "with open('corpus.txt', 'r') as fin:\n",
    "    for s in fin:\n",
    "        if len(simple_texts) > SIMPLE_MAX_TEXTS_SIZE:\n",
    "            break\n",
    "        text = s.split('\\n')\n",
    "        simple_texts += list(filter(lambda x: len(x) > 20, text))"
   ]
  },
  {
   "cell_type": "code",
   "execution_count": 232,
   "metadata": {
    "id": "GtHX8mftNcUo"
   },
   "outputs": [],
   "source": [
    "with open('simple_train_text.txt', 'w') as fout:\n",
    "    for text in simple_texts:\n",
    "        fout.write(text)\n",
    "        fout.write('\\n')"
   ]
  },
  {
   "cell_type": "code",
   "execution_count": 233,
   "metadata": {
    "id": "5HvqI8BNKH6A"
   },
   "outputs": [],
   "source": [
    "spm.SentencePieceTrainer.train('--input=simple_train_text.txt --model_prefix=s --vocab_size=500')"
   ]
  },
  {
   "cell_type": "code",
   "execution_count": 234,
   "metadata": {
    "colab": {
     "base_uri": "https://localhost:8080/"
    },
    "id": "dP-N1tI9KXKJ",
    "outputId": "cda20240-48e9-4530-8f77-aede9427cc73"
   },
   "outputs": [
    {
     "data": {
      "text/plain": [
       "True"
      ]
     },
     "execution_count": 234,
     "metadata": {
      "tags": []
     },
     "output_type": "execute_result"
    }
   ],
   "source": [
    "simple_sp = spm.SentencePieceProcessor()\n",
    "simple_sp.load('s.model')"
   ]
  },
  {
   "cell_type": "code",
   "execution_count": 235,
   "metadata": {
    "colab": {
     "base_uri": "https://localhost:8080/"
    },
    "id": "Tol35pR8KcjQ",
    "outputId": "0c7d2f40-243f-43f5-f113-53ec35d6dc87"
   },
   "outputs": [
    {
     "name": "stdout",
     "output_type": "stream",
     "text": [
      "['<unk>', '<s>', '</s>', 's', '▁', 'e', '▁the', ',', 't', '.', 'o', 'ed', '▁of', 'i', 'a', 'n', '▁in', 'u', 'y', '▁and', '▁a', 'd', 'er', 'ing', 'p', 'r', 'al', 'c', '▁to', 'm', 'ar', 'g', 'or', 'l', 'b', 'in', 'an', 'on', 'le', '▁c', 're', 'h', 'k', 'f', '▁m', 'th', '▁S', 'ic', 'en', '▁f', 'ch', 'it', '▁A', '▁was', '-', 'ri', '▁The', 'es', 'ra', 'at', '▁C', '▁B', 'ro', '▁re', 'v', '▁b', 'w', 'ad', '1', 'st', '▁P', 'il', '▁for', 'ur', '▁M', 'ation', 'ter', 'ly', '▁be', \"'\", ')', '▁(', '▁F', '▁w', 'ent', '▁on', '▁with', 'as', 'ion', 'am', 'ir', '▁as', 'ol', 'et', 'se', '▁st', '▁19', '▁T', 'us', 'ct', '▁H', '▁p', '▁is', '▁D', '▁by', 'ow', '5', '▁h', 'ul', '▁t', 'un', 'el', '3', '▁d', '▁de', '0', '9', '▁In', 'z', '▁G', 'is', '▁g', 'ac', 'lo', '▁from', 'ne', '7', '▁l', '4', 'tion', '▁con', '▁E', '6', 'ist', 'ive', 'li', '▁W', 'om', '▁L', '▁he', '2', 'ment', 'ver', '▁that', 'ate', '▁at', '\"', '8', '▁his', 'im', '▁an', '▁J', 'ce', 'vi', '▁1', 'ci', '▁2', '▁R', 'ig', 'ge', 'qu', 'and', '▁\"', '▁r', 'x', 'id', 've', 'ill', '▁N', 'em', 'est', 'la', 'te', '▁ex', 'ck', 'S', '▁were', 'j', 'ong', 'ance', 'ies', 'ain', '▁K', '▁or', '▁sh', 'ers', 'od', '▁su', 'um', 'ity', 'art', '▁I', '▁po', 'ant', '▁O', 'age', 'all', 'ian', '▁e', '▁comp', '▁Ch', 'ous', 'ish', 'ak', '00', 'av', 'ti', 'ia', 'ap', 'if', 'ot', '▁which', 'ine', 'ical', 'ated', 'ence', 'ten', 'A', '▁pro', '▁v', '▁it', '▁are', 'ph', '▁St', 'ight', 'our', 'out', '▁had', 'man', '▁He', '▁so', '▁la', '▁V', 'und', 'to', '▁co', 'per', 'co', 'me', 'pp', 'os', '▁U', 'ide', '▁en', 'ven', '▁also', 'der', 'ary', 'ard', '20', '–', 'ach', 'I', '▁first', '▁whe', '▁18', '▁pre', '▁di', '▁un', '▁not', '▁Ma', '▁sp', 'ry', '▁com', 'C', 'ud', '▁Ro', 'tic', 'ab', 'ure', 'ell', 'ang', 'ho', '▁no', '▁It', 'ha', 'old', 'R', ';', ':', 'ally', '▁its', '▁work', 'port', '▁year', 'ff', '▁man', 'Y', '▁has', 'able', 'land', '▁part', '▁who', '▁but', '▁Re', '▁two', 'ron', 'T', '▁pa', '▁An', '▁Al', '▁other', 'ough', 'way', '▁this', '▁her', 'ship', 'F', 'M', '▁one', 'P', '▁dis', '▁new', 'D', '▁play', '▁over', '▁form', '▁all', 'gen', '▁after', '▁have', '▁On', '▁17', '▁up', 'B', '▁time', '▁develop', '▁Mar', 'O', 'came', '▁design', '▁used', '▁high', 'V', '▁trans', 'tory', '▁La', '▁dur', '▁imp', '▁University', '▁type', '000', '▁Thi', '▁Com', 'E', '▁mov', '/', 'Z', 'N', '▁under', '▁more', '▁New', '▁well', 'cept', '▁release', 'ward', 'form', 'G', '▁again', '▁She', '▁would', 'ween', '▁through', '▁North', 'L', '▁including', '▁include', '▁three', 'day', '▁South', '▁system', '▁follow', 'press', '▁some', 'count', '▁most', '▁about', '▁sever', 'class', '▁than', '▁name', '▁sea', '▁found', '▁both', 'ology', '▁large', '▁game', '▁product', '▁model', '▁perform', 'H', '▁process', 'produc', 'é', '▁German', 'U', '▁film', '▁team', '▁early', '▁vari', '▁member', '▁appear', '▁print', '▁group', '▁place', '▁record', '▁known', '▁World', '▁century', '▁while', '▁United', 'K', 'Q', '▁before', '▁direct', '▁Korea', '▁Europe', '▁second', '▁result', '▁interest', '’', '▁people', 'cause', '—', '▁school', 'W', '▁business', 'mission', '▁series', '▁operat', '▁featur', '▁student', '▁return', 'field', '▁could', '▁provid', '▁October', '▁building', '▁book', '▁government', '▁event', '▁military', '▁number', '▁support', 'X', '▁success', '▁world', '▁Greco', '▁program', '▁Brettingham', '▁French', '▁establish', '▁Ireland', '▁2015', '▁join', '&', '▁language', 'ccording', '▁August', '%', '▁Empires', '▁character', '▁received', '▁continue', '▁announced', '▁describ', '▁service', '▁period', '▁governance', '▁2017', '▁club', 'ô', 'á', '”', '“', 'ö', 'è', 'ć', 'ä', 'ë', 'č', 'J', 'ü', '!', 'í', '£', 'ó', '[', ']', 'q', '′', '|', 'š', '(', 'а', 'ā', '*', 'Š', '$', '+']\n",
      "500\n"
     ]
    }
   ],
   "source": [
    "print(list(sp.id_to_piece(i) for i in range(sp.vocab_size())))\n",
    "print(sp.vocab_size())"
   ]
  },
  {
   "cell_type": "code",
   "execution_count": 236,
   "metadata": {
    "colab": {
     "base_uri": "https://localhost:8080/"
    },
    "id": "Phy8hdU9KeXL",
    "outputId": "6c826e4d-ee41-4165-a4e1-57a0144d5820"
   },
   "outputs": [
    {
     "name": "stdout",
     "output_type": "stream",
     "text": [
      "[100, 270, 10, 7, 44, 18, 49, 55, 48, 21]\n",
      "['▁H', 'ell', 'o', ',', '▁m', 'y', '▁f', 'ri', 'en', 'd']\n"
     ]
    }
   ],
   "source": [
    "print(sp.encode_as_ids('Hello, my friend'))\n",
    "print(sp.encode_as_pieces('Hello, my friend'))"
   ]
  },
  {
   "cell_type": "code",
   "execution_count": 237,
   "metadata": {
    "colab": {
     "base_uri": "https://localhost:8080/",
     "height": 66,
     "referenced_widgets": [
      "6742d7bb938843a48ca86b4a14b7ecbf",
      "bddd0655a4dc4a06901bc6f9fb878bb7",
      "81d4f5f6ef334ff881ea543f3511824c",
      "f1ca3ffdcf3c4335b0c4e261c9771703",
      "4831dbe6f9cf47519aae22f56c61e924",
      "a904c220174847daa61f8fed6c533160",
      "0f3a6ca1bae045189d0bfe51951dabc9",
      "0ca7e65099f146c2954213940452f702"
     ]
    },
    "id": "UZj9xY_nLaqh",
    "outputId": "08da70cd-0805-4b5a-ae3b-ecc5a7b66cdd"
   },
   "outputs": [
    {
     "data": {
      "application/vnd.jupyter.widget-view+json": {
       "model_id": "6742d7bb938843a48ca86b4a14b7ecbf",
       "version_major": 2,
       "version_minor": 0
      },
      "text/plain": [
       "HBox(children=(FloatProgress(value=0.0, max=1001.0), HTML(value='')))"
      ]
     },
     "metadata": {
      "tags": []
     },
     "output_type": "display_data"
    },
    {
     "name": "stdout",
     "output_type": "stream",
     "text": [
      "\n"
     ]
    }
   ],
   "source": [
    "simple_F_pair, simple_F_single, simple_F_last, simple_F_pos = collect_statistics(simple_texts, simple_sp)"
   ]
  },
  {
   "cell_type": "markdown",
   "metadata": {
    "id": "-mEdPDuTahqn"
   },
   "source": [
    "# Calculating metrics"
   ]
  },
  {
   "cell_type": "markdown",
   "metadata": {
    "id": "2JXHXbenajsb"
   },
   "source": [
    "## Excess Entropy\n",
    "\n",
    "Friendly reminder:\n",
    "\n",
    "Suppose that we have a sequence of tokens $x_0, x_1, \\ldots, x_{n-1}$.\n",
    "We want to calculate $E(x_0, x_1, \\ldots, x_{n-1})$\n",
    "\n",
    "In original papers this metrics can be calculated only of some multidimensional random value, but not of sequence of numbers. \n",
    "\n",
    "So, $E(X_0, X_1, \\ldots, X_{n-1}) = (n-1)\\left(\\frac{1}{n-1}\\sum\\limits_{i=0}^{n-1}H(X_0, X_1, \\ldots, X_{i-1}, X_{i+1}, \\ldots, X_{n-1}) - H(X_0, \\ldots, X_{n-1})\\right)$\n",
    "\n",
    "The problem is how to calculate $H(\\ldots)$ if we have only a sequence of numbers.\n",
    "\n",
    "First of all, let's simplify the problem: we want to create such r.v. $\\xi_i$ from our numbers in such a way that $H(\\xi_0, \\ldots, \\xi_{n-1}) = H(\\xi_0) + H(\\xi_1|\\xi_0) + \\ldots + H(\\xi_{n-1}|\\xi_{n-2})$. How can we find such r.v.?\n",
    "\n",
    "Notice that $\\xi_i$ should depends on the position ($i$) in the sequence and on number at this position ($x_i$).\n",
    "\n",
    "Let's construct r.v. by $x_i$. So, $x_i$ will generate r.v. $\\xi^i_{x_i}$. What the distribution of such r.v. is?\n",
    "\n",
    "* $p(\\xi^0_{x_0}) = \\frac{\\#\\text{sequences with $x_0$ at the very beginning}}{\\#\\text{of first positions}}$\n",
    "\n",
    "* $p(\\xi^i_{x_i}, \\xi^{i-1}_{x_{i-1}}) = \\frac{\\#\\text{sequences with $x_{i-1}$ at position $i-1$ and $x_i$ at position $x_i$}}{\\#\\text{sequences with $i$-th position}}$\n",
    "\n",
    "Then we can define Excess Entropy of sequence of numbers\n",
    "\n",
    "$E(x_0, \\ldots, x_{n-1}) = E(\\xi^0_{x_0}, \\xi^1_{x_1}, \\ldots, \\xi^{n-1}_{x_{n-1}})$\n",
    "\n",
    "How to calculate it efficiently?\n",
    "\n",
    "Let's denote $\\mu_i = \\xi^i_{x_i}$\n",
    "\n",
    "* $\\hat{H} = H(\\mu_0, \\ldots, \\mu_{n-1}) = H(\\mu_0) + H(\\mu_1|\\mu_0) + \\ldots + H(\\mu_{n-1} | \\mu_{n-2})$\n",
    "    * $H(\\mu_i) = -p(\\mu_i)\\log p(\\mu_i) - (1-p(\\mu_i))\\log (1 - p(\\mu_i))$\n",
    "    * $H(\\mu_i,\\mu_{i-1}) = $ entropy of pair of binary r.v.\n",
    "    * $H(\\mu_i|\\mu_{i-1}) = H(\\mu_i, \\mu_{i-1}) - H(\\mu_{i-1})$\n",
    "* $H(\\mu_0, \\ldots, \\mu_{i-1}, \\mu_{i+1}, \\ldots, \\mu_{n-1}) = \\hat{H} - H(\\mu_i|\\mu_{i-1}) - H(\\mu_{i+1}|\\mu_i) + H(\\mu_{i+1}|\\mu_{i-1})$\n",
    "$=\\hat{H} - H(\\mu_i|\\mu_{i-1}) - H(\\mu_{i+1}|\\mu_i) + H(\\mu_{i+1})$\n",
    "\n",
    "So, we can easily calculate Excess Entropy in $O(n)$ time\n",
    "\n",
    "**Note**: if we will define r.v. which depends only on values then we can not easily calculate Excess entropy, because there is dependency between all r.v.\n",
    "\n",
    "**Note**: $E(x_0, \\ldots, \\mu_{n-1})=\n",
    "\\left[\\sum\\limits_{i=0}^{n-2}H(\\mu_0, \\ldots, \\mu_i)\\right] + \n",
    "\\left[\\sum\\limits_{i=1}^{n-1}H(\\mu_i, \\ldots, \\mu_{n-1})\\right] - \n",
    "(n - 1) H(\\mu_0, \\ldots, \\mu_{n-1})$, which is sum of Entropies for each prefix and for each suffix minus entropy of full text multiplied by $(n-1)$\n",
    "\n",
    "**Note**: Let's rewrite the formula. \n",
    "$E(\\mu_0, \\ldots, \\mu_{n-1}) = \\hat{H} + \\sum\\limits_{i=0}^{n-1}\\left[H(\\mu_0,\\ldots,\\mu_{i-1},\\mu_{i+1},\\ldots,\\mu_{n-1})-\\hat{H}\\right]=\n",
    "\\hat{H} + \\sum\\limits_{i=0}^{n-1}\\left[-H(\\mu_i|\\mu_{i-1})-H(\\mu_{i+1}|\\mu_i)+H(\\mu_{i+1})\\right]=\n",
    "\\sum\\limits_{i=0}^{n-1}\\left[-H(\\mu_i|\\mu_{i-1})-H(\\mu_{i+1}|\\mu_i)+H(\\mu_{i+1})+H(\\mu_i|\\mu_{i-1})\\right]=\n",
    "\\sum\\limits_{i=0}^{n-1}\\left[H(\\mu_{i+1})-H(\\mu_{i+1}|\\mu_i)\\right]=\n",
    "\\sum\\limits_{i=0}^{n-2}I(\\mu_i\\colon\\mu_{i+1})$\n",
    "\n",
    "**Note**: How can we calculate $H(\\mu_i)$?\n",
    "$H(\\mu_i) = Entropy([p, 1 - p])$, where $p = \\frac{\\#(x_i,i)}{\\#(i)}$\n",
    "\n",
    "**Note**: How can we calculate $H(\\mu_i, \\mu_{i-1})$?\n",
    "$H(\\mu_i) = Entropy([p_{0,0}, p_{0,1}, p_{1, 0}, p_{1,1}])$, where \n",
    "* $p_{1,1} = \\frac{\\#(i,x_i,x_{i-1})}{\\#(i)}$\n",
    "* $p_{1,0} = \\frac{\\#(i,x_i,\\overline{x_{i-1}})}{\\#(i)}$\n",
    "* $p_{0,1} = \\frac{\\#(i,\\overline{x_i},x_{i-1})}{\\#(i)}$\n",
    "* $p_{0,0} = \\frac{\\#(i,\\overline{x_i},\\overline{x_{i-1}})}{\\#(i)}$"
   ]
  },
  {
   "cell_type": "code",
   "execution_count": 288,
   "metadata": {
    "id": "7HFDbvgSai3s"
   },
   "outputs": [],
   "source": [
    "def calculate_excess_entropy(\n",
    "    texts: List[str], \n",
    "    sp: spm.SentencePieceProcessor,\n",
    "    F_pair: nltk.FreqDist,\n",
    "    F_single: nltk.FreqDist,\n",
    "    F_last: nltk.FreqDist,\n",
    "    F_pos: nltk.FreqDist\n",
    ") -> np.ndarray:\n",
    "    \"\"\"\n",
    "    texts: the list of str texts\n",
    "    sp: pretrained sentencepieces tokenizer\n",
    "    F_pair: nltk.FreqDist with counts for (i, (x_{i-1}, x_i))\n",
    "    F_single: nltk.FreqDist with counts for (i, x_i)\n",
    "    F_last: nltk.FreqDist with counts for (i, x_i), where i is the last position of the sequence\n",
    "    F_pos: nltk.FreqDist with counts for i - the number of texts with i-th position\n",
    "    \n",
    "    Returns\n",
    "    - a (# of texts,) numpy array with excess entropy calculated for each text\n",
    "    \"\"\"\n",
    "\n",
    "    EPS = 1e-9\n",
    "    def calculate_entropy(p):\n",
    "        assert 0 <= p.min() <= p.max() <= 1\n",
    "        assert abs(p.sum() - 1) < EPS\n",
    "        return np.sum(-p * np.log(np.clip(p, EPS, 1 - EPS)))\n",
    "\n",
    "    def H_single(i, xi, verbose: bool = False):\n",
    "        p = F_single[(i, xi)] / F_pos[i]\n",
    "        if verbose:\n",
    "            print(p)\n",
    "        return calculate_entropy(np.array([1 - p, p]))\n",
    "\n",
    "    def H_pair(i, prev, cur, verbose: bool = False):\n",
    "        # p = F_pair[(i, (prev, cur))] / F_pos[i]\n",
    "        # if verbose:\n",
    "        #     print(p)\n",
    "        # return calculate_entropy(p) - H_single(i - 1, prev)\n",
    "        T = F_pos[i]\n",
    "        c11 = F_pair[(i, (prev, cur))]\n",
    "        c1_ = F_single[(i - 1, prev)] - F_last[(i - 1, prev)]\n",
    "        c_1 = F_single[(i, cur)]\n",
    "        c10 = c1_ - c11\n",
    "        c01 = c_1 - c11\n",
    "        c00 = T - c11 - c01 - c10\n",
    "        p = np.array([c00, c01, c10, c11]) / T\n",
    "        return calculate_entropy(p) - calculate_entropy(p.reshape(2, 2).sum(axis=1))\n",
    "\n",
    "    ee = np.zeros(len(texts), dtype=float)\n",
    "\n",
    "    for id, text in tqdm(enumerate(texts)):\n",
    "        x = sp.encode_as_ids(text)\n",
    "        n = len(x)\n",
    "        H_hat = 0\n",
    "        \n",
    "        delta = 0\n",
    "        for i in range(n):\n",
    "            if i == 0:\n",
    "                H_hat += H_single(0, x[i])\n",
    "            # else:\n",
    "                # H_hat += H_pair(i, x[i - 1], x[i])\n",
    "            # if i > 0:\n",
    "                # delta += -H_pair(i, x[i - 1], x[i])\n",
    "            if i + 1 < n:\n",
    "                delta += -H_pair(i + 1, x[i], x[i + 1]) + H_single(i + 1, x[i + 1])\n",
    "        ee[id] = delta + H_hat\n",
    "\n",
    "    return ee"
   ]
  },
  {
   "cell_type": "code",
   "execution_count": 289,
   "metadata": {
    "colab": {
     "base_uri": "https://localhost:8080/",
     "height": 66,
     "referenced_widgets": [
      "5ea15e3439a14cda9e9aa528bff2cbf0",
      "497797d5fd56495eaff32e193d8951b7",
      "cd2b69305552459e95b73233766cdfd7",
      "b8c2283cddea40b1b30abe56ec0bbb50",
      "53b32c83925445b28dde26b08855879d",
      "0779f7ac30a74ff799b20f904ede9962",
      "5c1e5aef6a8f4d0cbe9c68d82e9f4ef4",
      "83c83762655c4cdf989f7830dfc25c1e"
     ]
    },
    "id": "11JCBUFWgcpi",
    "outputId": "8ea5a989-75e7-46b2-9ec3-4abfde6553b7"
   },
   "outputs": [
    {
     "data": {
      "application/vnd.jupyter.widget-view+json": {
       "model_id": "5ea15e3439a14cda9e9aa528bff2cbf0",
       "version_major": 2,
       "version_minor": 0
      },
      "text/plain": [
       "HBox(children=(FloatProgress(value=1.0, bar_style='info', max=1.0), HTML(value='')))"
      ]
     },
     "metadata": {
      "tags": []
     },
     "output_type": "display_data"
    },
    {
     "name": "stdout",
     "output_type": "stream",
     "text": [
      "\n"
     ]
    }
   ],
   "source": [
    "ee = calculate_excess_entropy(\n",
    "    texts,\n",
    "    sp,\n",
    "    F_pair,\n",
    "    F_single,\n",
    "    F_last,\n",
    "    F_pos\n",
    ")"
   ]
  },
  {
   "cell_type": "code",
   "execution_count": 290,
   "metadata": {
    "colab": {
     "base_uri": "https://localhost:8080/"
    },
    "id": "JlCoXtb3jZLd",
    "outputId": "11483adc-4514-4259-e8f4-671609c94652"
   },
   "outputs": [
    {
     "name": "stdout",
     "output_type": "stream",
     "text": [
      "0.03562021464255295 2199.858353792161 16.832806555205096 123.27993772947532\n"
     ]
    }
   ],
   "source": [
    "print(ee.min(), ee.max(), ee.mean(), ee.std())"
   ]
  },
  {
   "cell_type": "code",
   "execution_count": 291,
   "metadata": {
    "id": "Q9ObqiGeRpId"
   },
   "outputs": [],
   "source": [
    "lens = np.array([len(sp.encode_as_ids(text)) for text in texts])"
   ]
  },
  {
   "cell_type": "code",
   "execution_count": 292,
   "metadata": {
    "colab": {
     "base_uri": "https://localhost:8080/",
     "height": 66,
     "referenced_widgets": [
      "de0e68c6bfd04c1996963de512e97695",
      "77ffe3f5996747b4a50770b4ea8a54a4",
      "83cbc08841d54bad9e1b565493aca5ae",
      "344ceaf7be82417589daec81cfa5f1df",
      "d451cacf26bf4dfe9c15300dd239884c",
      "09b6bd3ce58143aa9659184ff5598848",
      "6c33a0489d0448a887550ed09817a18b",
      "72a213b9e4614ba59d15382bced15eb8"
     ]
    },
    "id": "fNPWRBNELoTO",
    "outputId": "f5151978-3b86-4da8-91be-21bcf53831a3"
   },
   "outputs": [
    {
     "data": {
      "application/vnd.jupyter.widget-view+json": {
       "model_id": "de0e68c6bfd04c1996963de512e97695",
       "version_major": 2,
       "version_minor": 0
      },
      "text/plain": [
       "HBox(children=(FloatProgress(value=1.0, bar_style='info', max=1.0), HTML(value='')))"
      ]
     },
     "metadata": {
      "tags": []
     },
     "output_type": "display_data"
    },
    {
     "name": "stdout",
     "output_type": "stream",
     "text": [
      "\n"
     ]
    }
   ],
   "source": [
    "simple_ee = calculate_excess_entropy(\n",
    "    simple_texts,\n",
    "    simple_sp,\n",
    "    simple_F_pair,\n",
    "    simple_F_single,\n",
    "    simple_F_last,\n",
    "    simple_F_pos\n",
    ")"
   ]
  },
  {
   "cell_type": "code",
   "execution_count": 293,
   "metadata": {
    "colab": {
     "base_uri": "https://localhost:8080/"
    },
    "id": "IGj1M7VyL4Nx",
    "outputId": "c2bfe096-43a9-4968-ac20-6c4d2846b7cd"
   },
   "outputs": [
    {
     "name": "stdout",
     "output_type": "stream",
     "text": [
      "0.0303073759730538 89.79308075849626 1.8753788898524364 5.543293007895409\n"
     ]
    }
   ],
   "source": [
    "print(simple_ee.min(), simple_ee.max(), simple_ee.mean(), simple_ee.std())"
   ]
  },
  {
   "cell_type": "code",
   "execution_count": 294,
   "metadata": {
    "id": "hjRa-SYCL-fC"
   },
   "outputs": [],
   "source": [
    "simple_lens = np.array([len(sp.encode_as_ids(text)) for text in simple_texts])"
   ]
  },
  {
   "cell_type": "code",
   "execution_count": 295,
   "metadata": {
    "colab": {
     "base_uri": "https://localhost:8080/",
     "height": 625
    },
    "id": "XAkec2kbMCSt",
    "outputId": "8036ca4c-8724-472f-b5e6-850fccca1bd9"
   },
   "outputs": [
    {
     "data": {
      "application/vnd.google.colaboratory.intrinsic+json": {
       "type": "string"
      },
      "text/plain": [
       "''"
      ]
     },
     "execution_count": 295,
     "metadata": {
      "tags": []
     },
     "output_type": "execute_result"
    },
    {
     "data": {
      "image/png": "[encoded data removed]",
      "text/plain": [
       "<Figure size 720x720 with 1 Axes>"
      ]
     },
     "metadata": {
      "needs_background": "light",
      "tags": []
     },
     "output_type": "display_data"
    }
   ],
   "source": [
    "plt.figure(figsize=(10, 10))\n",
    "plt.xlabel('len')\n",
    "plt.ylabel('Excess Entropy')\n",
    "plt.scatter(lens, ee, color='blue', label='En Wiki')\n",
    "plt.scatter(simple_lens, simple_ee, color='red', label='Simple En Wiki')\n",
    "plt.legend()\n",
    ";"
   ]
  },
  {
   "cell_type": "markdown",
   "metadata": {
    "id": "KfR0tCwQTyzG"
   },
   "source": [
    "## TSE Complexity\n",
    "\n",
    "We have sequence of numbers (tokens): $x_0, \\ldots, x_{n-1}$\n",
    "\n",
    "Let's denote \n",
    "* $V_i = \\{0, 1, \\ldots, i\\}$\n",
    "* $V = V_{n-1}$\n",
    "* $\\mu_A = \\mu_{i_0}, \\mu_{i_1}, \\ldots, \\mu_{i_{k-1}}$, where $A = \\{i_0, i_1, \\ldots, i_{k-1}\\}$ and $i_{j} < i_{j+1}$\n",
    "\n",
    "\n",
    "TSE Complexity is $C(\\mu_V) = \\sum\\limits_{k=1}^{n-1}\\frac{k}{n}C^{(k)}(\\mu_V)$, where\n",
    "\n",
    "$C^{(k)}(\\mu_V) = \\left[\\frac{n}{k}\\cdot\\frac{1}{\\binom{n}{k}}\\sum\\limits_{A\\subset V, |A| = k}H(\\mu_A)\\right] - H(\\mu_V)$\n",
    "\n",
    "We already know, how to calculate $H(\\mu_V)$.\n",
    "\n",
    "How can we calculate left term of given formula. Let's use dynamic programming, which allows us to do it in $O(n^2)$ time complexity.\n",
    "\n",
    "Let's define \n",
    "\n",
    "* $d(i, k) = \\frac{1}{\\binom{i}{k}}\\sum\\limits_{A\\subset V_i, |A| = k} H(\\mu_A)$, \n",
    "\n",
    "    where $0 \\le i < n, 0 \\le k < n$\n",
    "\n",
    "* $d(i, 0) = 0$\n",
    "\n",
    "    $\\forall 0 \\le i < n$\n",
    "\n",
    "then \n",
    "\n",
    "* $C^{(k)}(\\mu_V) = \\frac{n}{k}d(n - 1, k) - H(\\mu_V)$\n",
    "    \n",
    "    $C(\\mu_V) = \\sum\\limits_{k=1}^{n-1}\\left(d(n - 1, k) - \\frac{k}{n}H(\\mu_v)\\right) = \\left[\\sum\\limits_{k=1}^{n-1}d(n-1,k)\\right] - \\frac{n-1}{2}H(\\mu_V)$\n",
    "\n",
    "Transition:\n",
    "\n",
    "$d(i, k) = \\frac{1}{\\binom{i+1}{k}}\\sum\\limits_{A\\subset V_i, |A| = k} H(\\mu_A) =$\n",
    "\n",
    "$=\\left[\\frac{1}{\\binom{i+1}{k}}\\sum\\limits_{A\\subset V_{i-1}, |A| = k} H(\\mu_A)\\right]\n",
    "+ \\left[\\frac{1}{\\binom{i+1}{k}}\\sum\\limits_{A\\subset V_{i-1}, |A| = k-1,} H(\\mu_{A\\cup\\{i\\}})\\right]\n",
    "=$\n",
    "\n",
    "$=\\left[\\frac{1}{\\binom{i+1}{k}}\\sum\\limits_{A\\subset V_{i-1}, |A| = k} H(\\mu_A)\\right]\n",
    "+ \\left[\\frac{1}{\\binom{i+1}{k}}\\sum\\limits_{A\\subset V_{i-2}, |A|=k-1}H(\\mu_{A\\cup\\{i\\}})\\right]\n",
    "+ \\left[\\frac{1}{\\binom{i+1}{k}}\\sum\\limits_{A\\subset V_{i-2}, |A|=k-2}H(\\mu_{A\\cup\\{i-1,i\\}})\\right] = A + B + C$\n",
    "\n",
    "Let's introduce two definitions\n",
    "1. $d^0(i, k) = \\frac{1}{\\binom{i+1}{k}}\\sum\\limits_{A\\subset V_{i-1},|A|=k}H(\\mu_A)$. \n",
    "    \n",
    "    $d^0(i, 0) = 0$\n",
    "2. $d^1(i, k) = \\frac{1}{\\binom{i+1}{k}}\\sum\\limits_{A\\subset V_{i-1},|A|=k-1}H(\\mu_{A\\cup{\\{i\\}}})$. \n",
    "    \n",
    "    $d^1(i, 0) = 0$\n",
    "\n",
    "then we have \n",
    "* $d(i, k) = d^0(i, k) + d^1(i, k)$\n",
    "* $d^0(i, k) = d(i - 1, k)$\n",
    "\n",
    "Then if $i > 0$\n",
    "\n",
    "* $A = \\frac{i-k+1}{i+1}d(i-1,k)$\n",
    "\n",
    "* $B = \\frac{1}{\\binom{i+1}{k}}\\sum\\limits_{A\\subset V_{i-2},|A|=k-1}\\left[H(\\mu_A) + H(\\mu_i)\\right] = \\left[\\frac{1}{\\binom{i+1}{k}}\\sum\\limits_{A\\subset V_{i-2},|A|=k-1}H(\\mu_A)\\right] + \\frac{\\binom{i-1}{k-1}}{\\binom{i+1}{k}}H(\\mu_i) =$\n",
    "\n",
    "$= \\frac{i-k+1}{i+1}d^0(i-1,k-1) + \\frac{k(i-k+1)}{i(i+1)}H(\\mu_i)$\n",
    "\n",
    "* $C = \\frac{1}{\\binom{i+1}{k}}\\sum\\limits_{A\\subset V_{i-2}, |A|=k-2}\\left[H(\\mu_{A\\cup\\{i-1\\}}) + H(\\mu_i|\\mu_{i-1})\\right] = \\frac{i-k+1}{i+1}d^1(i-1,k-1) + \\frac{\\binom{i-1}{k-2}}{\\binom{i+1}{k}}H(\\mu_i|\\mu_{i-1}) = $\n",
    "\n",
    "$=\\frac{i-k+1}{i+1}d^1(i-1,k-1) + \\frac{k(k-1)}{i(i+1)}H(\\mu_i|\\mu_{i-1})$\n",
    "\n",
    "**Note**: $\\binom{i}{k}=\\frac{i!}{k!(i-k)!}=\\frac{(i-1)!i}{k!(i-1-k)!(i-k)}=\\binom{i-1}{k}\\frac{i}{i-k}$\n",
    "\n",
    "if $i = 0$ then \n",
    "* $d(0, 1) = H(\\mu_0)$\n",
    "* $d(0, k) = 0$\n",
    "\n",
    "    $\\forall k > 1$\n"
   ]
  },
  {
   "cell_type": "code",
   "execution_count": 295,
   "metadata": {
    "id": "BAyH5NuPT0Gs"
   },
   "outputs": [],
   "source": []
  }
 ],
 "metadata": {
  "colab": {
   "collapsed_sections": [],
   "name": "TSE_ExcessEntropy_calculation",
   "provenance": []
  },
  "kernelspec": {
   "display_name": "Python 3",
   "language": "python",
   "name": "python3"
  },
  "language_info": {
   "codemirror_mode": {
    "name": "ipython",
    "version": 3
   },
   "file_extension": ".py",
   "mimetype": "text/x-python",
   "name": "python",
   "nbconvert_exporter": "python",
   "pygments_lexer": "ipython3",
   "version": "3.7.3"
  },
  "widgets": {
   "application/vnd.jupyter.widget-state+json": {
    "0075ad52a8944c8dbb32376024471672": {
     "model_module": "@jupyter-widgets/controls",
     "model_name": "HTMLModel",
     "state": {
      "_dom_classes": [],
      "_model_module": "@jupyter-widgets/controls",
      "_model_module_version": "1.5.0",
      "_model_name": "HTMLModel",
      "_view_count": null,
      "_view_module": "@jupyter-widgets/controls",
      "_view_module_version": "1.5.0",
      "_view_name": "HTMLView",
      "description": "",
      "description_tooltip": null,
      "layout": "IPY_MODEL_104bd25b80634ec9b8bea732dcf89f73",
      "placeholder": "​",
      "style": "IPY_MODEL_7c9ce8f3540e47cda3a204e0a1d5a2ff",
      "value": " 1004/1004 [03:09&lt;00:00,  5.29it/s]"
     }
    },
    "0779f7ac30a74ff799b20f904ede9962": {
     "model_module": "@jupyter-widgets/base",
     "model_name": "LayoutModel",
     "state": {
      "_model_module": "@jupyter-widgets/base",
      "_model_module_version": "1.2.0",
      "_model_name": "LayoutModel",
      "_view_count": null,
      "_view_module": "@jupyter-widgets/base",
      "_view_module_version": "1.2.0",
      "_view_name": "LayoutView",
      "align_content": null,
      "align_items": null,
      "align_self": null,
      "border": null,
      "bottom": null,
      "display": null,
      "flex": null,
      "flex_flow": null,
      "grid_area": null,
      "grid_auto_columns": null,
      "grid_auto_flow": null,
      "grid_auto_rows": null,
      "grid_column": null,
      "grid_gap": null,
      "grid_row": null,
      "grid_template_areas": null,
      "grid_template_columns": null,
      "grid_template_rows": null,
      "height": null,
      "justify_content": null,
      "justify_items": null,
      "left": null,
      "margin": null,
      "max_height": null,
      "max_width": null,
      "min_height": null,
      "min_width": null,
      "object_fit": null,
      "object_position": null,
      "order": null,
      "overflow": null,
      "overflow_x": null,
      "overflow_y": null,
      "padding": null,
      "right": null,
      "top": null,
      "visibility": null,
      "width": null
     }
    },
    "09b6bd3ce58143aa9659184ff5598848": {
     "model_module": "@jupyter-widgets/base",
     "model_name": "LayoutModel",
     "state": {
      "_model_module": "@jupyter-widgets/base",
      "_model_module_version": "1.2.0",
      "_model_name": "LayoutModel",
      "_view_count": null,
      "_view_module": "@jupyter-widgets/base",
      "_view_module_version": "1.2.0",
      "_view_name": "LayoutView",
      "align_content": null,
      "align_items": null,
      "align_self": null,
      "border": null,
      "bottom": null,
      "display": null,
      "flex": null,
      "flex_flow": null,
      "grid_area": null,
      "grid_auto_columns": null,
      "grid_auto_flow": null,
      "grid_auto_rows": null,
      "grid_column": null,
      "grid_gap": null,
      "grid_row": null,
      "grid_template_areas": null,
      "grid_template_columns": null,
      "grid_template_rows": null,
      "height": null,
      "justify_content": null,
      "justify_items": null,
      "left": null,
      "margin": null,
      "max_height": null,
      "max_width": null,
      "min_height": null,
      "min_width": null,
      "object_fit": null,
      "object_position": null,
      "order": null,
      "overflow": null,
      "overflow_x": null,
      "overflow_y": null,
      "padding": null,
      "right": null,
      "top": null,
      "visibility": null,
      "width": null
     }
    },
    "0ca7e65099f146c2954213940452f702": {
     "model_module": "@jupyter-widgets/base",
     "model_name": "LayoutModel",
     "state": {
      "_model_module": "@jupyter-widgets/base",
      "_model_module_version": "1.2.0",
      "_model_name": "LayoutModel",
      "_view_count": null,
      "_view_module": "@jupyter-widgets/base",
      "_view_module_version": "1.2.0",
      "_view_name": "LayoutView",
      "align_content": null,
      "align_items": null,
      "align_self": null,
      "border": null,
      "bottom": null,
      "display": null,
      "flex": null,
      "flex_flow": null,
      "grid_area": null,
      "grid_auto_columns": null,
      "grid_auto_flow": null,
      "grid_auto_rows": null,
      "grid_column": null,
      "grid_gap": null,
      "grid_row": null,
      "grid_template_areas": null,
      "grid_template_columns": null,
      "grid_template_rows": null,
      "height": null,
      "justify_content": null,
      "justify_items": null,
      "left": null,
      "margin": null,
      "max_height": null,
      "max_width": null,
      "min_height": null,
      "min_width": null,
      "object_fit": null,
      "object_position": null,
      "order": null,
      "overflow": null,
      "overflow_x": null,
      "overflow_y": null,
      "padding": null,
      "right": null,
      "top": null,
      "visibility": null,
      "width": null
     }
    },
    "0f3a6ca1bae045189d0bfe51951dabc9": {
     "model_module": "@jupyter-widgets/controls",
     "model_name": "DescriptionStyleModel",
     "state": {
      "_model_module": "@jupyter-widgets/controls",
      "_model_module_version": "1.5.0",
      "_model_name": "DescriptionStyleModel",
      "_view_count": null,
      "_view_module": "@jupyter-widgets/base",
      "_view_module_version": "1.2.0",
      "_view_name": "StyleView",
      "description_width": ""
     }
    },
    "104bd25b80634ec9b8bea732dcf89f73": {
     "model_module": "@jupyter-widgets/base",
     "model_name": "LayoutModel",
     "state": {
      "_model_module": "@jupyter-widgets/base",
      "_model_module_version": "1.2.0",
      "_model_name": "LayoutModel",
      "_view_count": null,
      "_view_module": "@jupyter-widgets/base",
      "_view_module_version": "1.2.0",
      "_view_name": "LayoutView",
      "align_content": null,
      "align_items": null,
      "align_self": null,
      "border": null,
      "bottom": null,
      "display": null,
      "flex": null,
      "flex_flow": null,
      "grid_area": null,
      "grid_auto_columns": null,
      "grid_auto_flow": null,
      "grid_auto_rows": null,
      "grid_column": null,
      "grid_gap": null,
      "grid_row": null,
      "grid_template_areas": null,
      "grid_template_columns": null,
      "grid_template_rows": null,
      "height": null,
      "justify_content": null,
      "justify_items": null,
      "left": null,
      "margin": null,
      "max_height": null,
      "max_width": null,
      "min_height": null,
      "min_width": null,
      "object_fit": null,
      "object_position": null,
      "order": null,
      "overflow": null,
      "overflow_x": null,
      "overflow_y": null,
      "padding": null,
      "right": null,
      "top": null,
      "visibility": null,
      "width": null
     }
    },
    "344ceaf7be82417589daec81cfa5f1df": {
     "model_module": "@jupyter-widgets/controls",
     "model_name": "HTMLModel",
     "state": {
      "_dom_classes": [],
      "_model_module": "@jupyter-widgets/controls",
      "_model_module_version": "1.5.0",
      "_model_name": "HTMLModel",
      "_view_count": null,
      "_view_module": "@jupyter-widgets/controls",
      "_view_module_version": "1.5.0",
      "_view_name": "HTMLView",
      "description": "",
      "description_tooltip": null,
      "layout": "IPY_MODEL_72a213b9e4614ba59d15382bced15eb8",
      "placeholder": "​",
      "style": "IPY_MODEL_6c33a0489d0448a887550ed09817a18b",
      "value": " 1001/? [00:15&lt;00:00, 63.70it/s]"
     }
    },
    "4831dbe6f9cf47519aae22f56c61e924": {
     "model_module": "@jupyter-widgets/controls",
     "model_name": "ProgressStyleModel",
     "state": {
      "_model_module": "@jupyter-widgets/controls",
      "_model_module_version": "1.5.0",
      "_model_name": "ProgressStyleModel",
      "_view_count": null,
      "_view_module": "@jupyter-widgets/base",
      "_view_module_version": "1.2.0",
      "_view_name": "StyleView",
      "bar_color": null,
      "description_width": "initial"
     }
    },
    "497797d5fd56495eaff32e193d8951b7": {
     "model_module": "@jupyter-widgets/base",
     "model_name": "LayoutModel",
     "state": {
      "_model_module": "@jupyter-widgets/base",
      "_model_module_version": "1.2.0",
      "_model_name": "LayoutModel",
      "_view_count": null,
      "_view_module": "@jupyter-widgets/base",
      "_view_module_version": "1.2.0",
      "_view_name": "LayoutView",
      "align_content": null,
      "align_items": null,
      "align_self": null,
      "border": null,
      "bottom": null,
      "display": null,
      "flex": null,
      "flex_flow": null,
      "grid_area": null,
      "grid_auto_columns": null,
      "grid_auto_flow": null,
      "grid_auto_rows": null,
      "grid_column": null,
      "grid_gap": null,
      "grid_row": null,
      "grid_template_areas": null,
      "grid_template_columns": null,
      "grid_template_rows": null,
      "height": null,
      "justify_content": null,
      "justify_items": null,
      "left": null,
      "margin": null,
      "max_height": null,
      "max_width": null,
      "min_height": null,
      "min_width": null,
      "object_fit": null,
      "object_position": null,
      "order": null,
      "overflow": null,
      "overflow_x": null,
      "overflow_y": null,
      "padding": null,
      "right": null,
      "top": null,
      "visibility": null,
      "width": null
     }
    },
    "4af4e952439d4f718ccd6e2e5c07a659": {
     "model_module": "@jupyter-widgets/controls",
     "model_name": "FloatProgressModel",
     "state": {
      "_dom_classes": [],
      "_model_module": "@jupyter-widgets/controls",
      "_model_module_version": "1.5.0",
      "_model_name": "FloatProgressModel",
      "_view_count": null,
      "_view_module": "@jupyter-widgets/controls",
      "_view_module_version": "1.5.0",
      "_view_name": "ProgressView",
      "bar_style": "success",
      "description": "100%",
      "description_tooltip": null,
      "layout": "IPY_MODEL_9d05a7bd82334aa9bbaa54850395069e",
      "max": 1004,
      "min": 0,
      "orientation": "horizontal",
      "style": "IPY_MODEL_bc825fd2119e433ca67ece3f77ac07b5",
      "value": 1004
     }
    },
    "53b32c83925445b28dde26b08855879d": {
     "model_module": "@jupyter-widgets/controls",
     "model_name": "ProgressStyleModel",
     "state": {
      "_model_module": "@jupyter-widgets/controls",
      "_model_module_version": "1.5.0",
      "_model_name": "ProgressStyleModel",
      "_view_count": null,
      "_view_module": "@jupyter-widgets/base",
      "_view_module_version": "1.2.0",
      "_view_name": "StyleView",
      "bar_color": null,
      "description_width": "initial"
     }
    },
    "5c1e5aef6a8f4d0cbe9c68d82e9f4ef4": {
     "model_module": "@jupyter-widgets/controls",
     "model_name": "DescriptionStyleModel",
     "state": {
      "_model_module": "@jupyter-widgets/controls",
      "_model_module_version": "1.5.0",
      "_model_name": "DescriptionStyleModel",
      "_view_count": null,
      "_view_module": "@jupyter-widgets/base",
      "_view_module_version": "1.2.0",
      "_view_name": "StyleView",
      "description_width": ""
     }
    },
    "5ea15e3439a14cda9e9aa528bff2cbf0": {
     "model_module": "@jupyter-widgets/controls",
     "model_name": "HBoxModel",
     "state": {
      "_dom_classes": [],
      "_model_module": "@jupyter-widgets/controls",
      "_model_module_version": "1.5.0",
      "_model_name": "HBoxModel",
      "_view_count": null,
      "_view_module": "@jupyter-widgets/controls",
      "_view_module_version": "1.5.0",
      "_view_name": "HBoxView",
      "box_style": "",
      "children": [
       "IPY_MODEL_cd2b69305552459e95b73233766cdfd7",
       "IPY_MODEL_b8c2283cddea40b1b30abe56ec0bbb50"
      ],
      "layout": "IPY_MODEL_497797d5fd56495eaff32e193d8951b7"
     }
    },
    "5f7d827b0f854a6297abd0d410e59ff8": {
     "model_module": "@jupyter-widgets/base",
     "model_name": "LayoutModel",
     "state": {
      "_model_module": "@jupyter-widgets/base",
      "_model_module_version": "1.2.0",
      "_model_name": "LayoutModel",
      "_view_count": null,
      "_view_module": "@jupyter-widgets/base",
      "_view_module_version": "1.2.0",
      "_view_name": "LayoutView",
      "align_content": null,
      "align_items": null,
      "align_self": null,
      "border": null,
      "bottom": null,
      "display": null,
      "flex": null,
      "flex_flow": null,
      "grid_area": null,
      "grid_auto_columns": null,
      "grid_auto_flow": null,
      "grid_auto_rows": null,
      "grid_column": null,
      "grid_gap": null,
      "grid_row": null,
      "grid_template_areas": null,
      "grid_template_columns": null,
      "grid_template_rows": null,
      "height": null,
      "justify_content": null,
      "justify_items": null,
      "left": null,
      "margin": null,
      "max_height": null,
      "max_width": null,
      "min_height": null,
      "min_width": null,
      "object_fit": null,
      "object_position": null,
      "order": null,
      "overflow": null,
      "overflow_x": null,
      "overflow_y": null,
      "padding": null,
      "right": null,
      "top": null,
      "visibility": null,
      "width": null
     }
    },
    "6742d7bb938843a48ca86b4a14b7ecbf": {
     "model_module": "@jupyter-widgets/controls",
     "model_name": "HBoxModel",
     "state": {
      "_dom_classes": [],
      "_model_module": "@jupyter-widgets/controls",
      "_model_module_version": "1.5.0",
      "_model_name": "HBoxModel",
      "_view_count": null,
      "_view_module": "@jupyter-widgets/controls",
      "_view_module_version": "1.5.0",
      "_view_name": "HBoxView",
      "box_style": "",
      "children": [
       "IPY_MODEL_81d4f5f6ef334ff881ea543f3511824c",
       "IPY_MODEL_f1ca3ffdcf3c4335b0c4e261c9771703"
      ],
      "layout": "IPY_MODEL_bddd0655a4dc4a06901bc6f9fb878bb7"
     }
    },
    "6c33a0489d0448a887550ed09817a18b": {
     "model_module": "@jupyter-widgets/controls",
     "model_name": "DescriptionStyleModel",
     "state": {
      "_model_module": "@jupyter-widgets/controls",
      "_model_module_version": "1.5.0",
      "_model_name": "DescriptionStyleModel",
      "_view_count": null,
      "_view_module": "@jupyter-widgets/base",
      "_view_module_version": "1.2.0",
      "_view_name": "StyleView",
      "description_width": ""
     }
    },
    "72a213b9e4614ba59d15382bced15eb8": {
     "model_module": "@jupyter-widgets/base",
     "model_name": "LayoutModel",
     "state": {
      "_model_module": "@jupyter-widgets/base",
      "_model_module_version": "1.2.0",
      "_model_name": "LayoutModel",
      "_view_count": null,
      "_view_module": "@jupyter-widgets/base",
      "_view_module_version": "1.2.0",
      "_view_name": "LayoutView",
      "align_content": null,
      "align_items": null,
      "align_self": null,
      "border": null,
      "bottom": null,
      "display": null,
      "flex": null,
      "flex_flow": null,
      "grid_area": null,
      "grid_auto_columns": null,
      "grid_auto_flow": null,
      "grid_auto_rows": null,
      "grid_column": null,
      "grid_gap": null,
      "grid_row": null,
      "grid_template_areas": null,
      "grid_template_columns": null,
      "grid_template_rows": null,
      "height": null,
      "justify_content": null,
      "justify_items": null,
      "left": null,
      "margin": null,
      "max_height": null,
      "max_width": null,
      "min_height": null,
      "min_width": null,
      "object_fit": null,
      "object_position": null,
      "order": null,
      "overflow": null,
      "overflow_x": null,
      "overflow_y": null,
      "padding": null,
      "right": null,
      "top": null,
      "visibility": null,
      "width": null
     }
    },
    "77ffe3f5996747b4a50770b4ea8a54a4": {
     "model_module": "@jupyter-widgets/base",
     "model_name": "LayoutModel",
     "state": {
      "_model_module": "@jupyter-widgets/base",
      "_model_module_version": "1.2.0",
      "_model_name": "LayoutModel",
      "_view_count": null,
      "_view_module": "@jupyter-widgets/base",
      "_view_module_version": "1.2.0",
      "_view_name": "LayoutView",
      "align_content": null,
      "align_items": null,
      "align_self": null,
      "border": null,
      "bottom": null,
      "display": null,
      "flex": null,
      "flex_flow": null,
      "grid_area": null,
      "grid_auto_columns": null,
      "grid_auto_flow": null,
      "grid_auto_rows": null,
      "grid_column": null,
      "grid_gap": null,
      "grid_row": null,
      "grid_template_areas": null,
      "grid_template_columns": null,
      "grid_template_rows": null,
      "height": null,
      "justify_content": null,
      "justify_items": null,
      "left": null,
      "margin": null,
      "max_height": null,
      "max_width": null,
      "min_height": null,
      "min_width": null,
      "object_fit": null,
      "object_position": null,
      "order": null,
      "overflow": null,
      "overflow_x": null,
      "overflow_y": null,
      "padding": null,
      "right": null,
      "top": null,
      "visibility": null,
      "width": null
     }
    },
    "7c9ce8f3540e47cda3a204e0a1d5a2ff": {
     "model_module": "@jupyter-widgets/controls",
     "model_name": "DescriptionStyleModel",
     "state": {
      "_model_module": "@jupyter-widgets/controls",
      "_model_module_version": "1.5.0",
      "_model_name": "DescriptionStyleModel",
      "_view_count": null,
      "_view_module": "@jupyter-widgets/base",
      "_view_module_version": "1.2.0",
      "_view_name": "StyleView",
      "description_width": ""
     }
    },
    "81d4f5f6ef334ff881ea543f3511824c": {
     "model_module": "@jupyter-widgets/controls",
     "model_name": "FloatProgressModel",
     "state": {
      "_dom_classes": [],
      "_model_module": "@jupyter-widgets/controls",
      "_model_module_version": "1.5.0",
      "_model_name": "FloatProgressModel",
      "_view_count": null,
      "_view_module": "@jupyter-widgets/controls",
      "_view_module_version": "1.5.0",
      "_view_name": "ProgressView",
      "bar_style": "success",
      "description": "100%",
      "description_tooltip": null,
      "layout": "IPY_MODEL_a904c220174847daa61f8fed6c533160",
      "max": 1001,
      "min": 0,
      "orientation": "horizontal",
      "style": "IPY_MODEL_4831dbe6f9cf47519aae22f56c61e924",
      "value": 1001
     }
    },
    "83c83762655c4cdf989f7830dfc25c1e": {
     "model_module": "@jupyter-widgets/base",
     "model_name": "LayoutModel",
     "state": {
      "_model_module": "@jupyter-widgets/base",
      "_model_module_version": "1.2.0",
      "_model_name": "LayoutModel",
      "_view_count": null,
      "_view_module": "@jupyter-widgets/base",
      "_view_module_version": "1.2.0",
      "_view_name": "LayoutView",
      "align_content": null,
      "align_items": null,
      "align_self": null,
      "border": null,
      "bottom": null,
      "display": null,
      "flex": null,
      "flex_flow": null,
      "grid_area": null,
      "grid_auto_columns": null,
      "grid_auto_flow": null,
      "grid_auto_rows": null,
      "grid_column": null,
      "grid_gap": null,
      "grid_row": null,
      "grid_template_areas": null,
      "grid_template_columns": null,
      "grid_template_rows": null,
      "height": null,
      "justify_content": null,
      "justify_items": null,
      "left": null,
      "margin": null,
      "max_height": null,
      "max_width": null,
      "min_height": null,
      "min_width": null,
      "object_fit": null,
      "object_position": null,
      "order": null,
      "overflow": null,
      "overflow_x": null,
      "overflow_y": null,
      "padding": null,
      "right": null,
      "top": null,
      "visibility": null,
      "width": null
     }
    },
    "83cbc08841d54bad9e1b565493aca5ae": {
     "model_module": "@jupyter-widgets/controls",
     "model_name": "FloatProgressModel",
     "state": {
      "_dom_classes": [],
      "_model_module": "@jupyter-widgets/controls",
      "_model_module_version": "1.5.0",
      "_model_name": "FloatProgressModel",
      "_view_count": null,
      "_view_module": "@jupyter-widgets/controls",
      "_view_module_version": "1.5.0",
      "_view_name": "ProgressView",
      "bar_style": "success",
      "description": "",
      "description_tooltip": null,
      "layout": "IPY_MODEL_09b6bd3ce58143aa9659184ff5598848",
      "max": 1,
      "min": 0,
      "orientation": "horizontal",
      "style": "IPY_MODEL_d451cacf26bf4dfe9c15300dd239884c",
      "value": 1
     }
    },
    "9d05a7bd82334aa9bbaa54850395069e": {
     "model_module": "@jupyter-widgets/base",
     "model_name": "LayoutModel",
     "state": {
      "_model_module": "@jupyter-widgets/base",
      "_model_module_version": "1.2.0",
      "_model_name": "LayoutModel",
      "_view_count": null,
      "_view_module": "@jupyter-widgets/base",
      "_view_module_version": "1.2.0",
      "_view_name": "LayoutView",
      "align_content": null,
      "align_items": null,
      "align_self": null,
      "border": null,
      "bottom": null,
      "display": null,
      "flex": null,
      "flex_flow": null,
      "grid_area": null,
      "grid_auto_columns": null,
      "grid_auto_flow": null,
      "grid_auto_rows": null,
      "grid_column": null,
      "grid_gap": null,
      "grid_row": null,
      "grid_template_areas": null,
      "grid_template_columns": null,
      "grid_template_rows": null,
      "height": null,
      "justify_content": null,
      "justify_items": null,
      "left": null,
      "margin": null,
      "max_height": null,
      "max_width": null,
      "min_height": null,
      "min_width": null,
      "object_fit": null,
      "object_position": null,
      "order": null,
      "overflow": null,
      "overflow_x": null,
      "overflow_y": null,
      "padding": null,
      "right": null,
      "top": null,
      "visibility": null,
      "width": null
     }
    },
    "a904c220174847daa61f8fed6c533160": {
     "model_module": "@jupyter-widgets/base",
     "model_name": "LayoutModel",
     "state": {
      "_model_module": "@jupyter-widgets/base",
      "_model_module_version": "1.2.0",
      "_model_name": "LayoutModel",
      "_view_count": null,
      "_view_module": "@jupyter-widgets/base",
      "_view_module_version": "1.2.0",
      "_view_name": "LayoutView",
      "align_content": null,
      "align_items": null,
      "align_self": null,
      "border": null,
      "bottom": null,
      "display": null,
      "flex": null,
      "flex_flow": null,
      "grid_area": null,
      "grid_auto_columns": null,
      "grid_auto_flow": null,
      "grid_auto_rows": null,
      "grid_column": null,
      "grid_gap": null,
      "grid_row": null,
      "grid_template_areas": null,
      "grid_template_columns": null,
      "grid_template_rows": null,
      "height": null,
      "justify_content": null,
      "justify_items": null,
      "left": null,
      "margin": null,
      "max_height": null,
      "max_width": null,
      "min_height": null,
      "min_width": null,
      "object_fit": null,
      "object_position": null,
      "order": null,
      "overflow": null,
      "overflow_x": null,
      "overflow_y": null,
      "padding": null,
      "right": null,
      "top": null,
      "visibility": null,
      "width": null
     }
    },
    "b8c2283cddea40b1b30abe56ec0bbb50": {
     "model_module": "@jupyter-widgets/controls",
     "model_name": "HTMLModel",
     "state": {
      "_dom_classes": [],
      "_model_module": "@jupyter-widgets/controls",
      "_model_module_version": "1.5.0",
      "_model_name": "HTMLModel",
      "_view_count": null,
      "_view_module": "@jupyter-widgets/controls",
      "_view_module_version": "1.5.0",
      "_view_name": "HTMLView",
      "description": "",
      "description_tooltip": null,
      "layout": "IPY_MODEL_83c83762655c4cdf989f7830dfc25c1e",
      "placeholder": "​",
      "style": "IPY_MODEL_5c1e5aef6a8f4d0cbe9c68d82e9f4ef4",
      "value": " 1004/? [01:12&lt;00:00, 13.80it/s]"
     }
    },
    "bc825fd2119e433ca67ece3f77ac07b5": {
     "model_module": "@jupyter-widgets/controls",
     "model_name": "ProgressStyleModel",
     "state": {
      "_model_module": "@jupyter-widgets/controls",
      "_model_module_version": "1.5.0",
      "_model_name": "ProgressStyleModel",
      "_view_count": null,
      "_view_module": "@jupyter-widgets/base",
      "_view_module_version": "1.2.0",
      "_view_name": "StyleView",
      "bar_color": null,
      "description_width": "initial"
     }
    },
    "bddd0655a4dc4a06901bc6f9fb878bb7": {
     "model_module": "@jupyter-widgets/base",
     "model_name": "LayoutModel",
     "state": {
      "_model_module": "@jupyter-widgets/base",
      "_model_module_version": "1.2.0",
      "_model_name": "LayoutModel",
      "_view_count": null,
      "_view_module": "@jupyter-widgets/base",
      "_view_module_version": "1.2.0",
      "_view_name": "LayoutView",
      "align_content": null,
      "align_items": null,
      "align_self": null,
      "border": null,
      "bottom": null,
      "display": null,
      "flex": null,
      "flex_flow": null,
      "grid_area": null,
      "grid_auto_columns": null,
      "grid_auto_flow": null,
      "grid_auto_rows": null,
      "grid_column": null,
      "grid_gap": null,
      "grid_row": null,
      "grid_template_areas": null,
      "grid_template_columns": null,
      "grid_template_rows": null,
      "height": null,
      "justify_content": null,
      "justify_items": null,
      "left": null,
      "margin": null,
      "max_height": null,
      "max_width": null,
      "min_height": null,
      "min_width": null,
      "object_fit": null,
      "object_position": null,
      "order": null,
      "overflow": null,
      "overflow_x": null,
      "overflow_y": null,
      "padding": null,
      "right": null,
      "top": null,
      "visibility": null,
      "width": null
     }
    },
    "cbfeaa593bbb40c98f05933addf57e49": {
     "model_module": "@jupyter-widgets/controls",
     "model_name": "HBoxModel",
     "state": {
      "_dom_classes": [],
      "_model_module": "@jupyter-widgets/controls",
      "_model_module_version": "1.5.0",
      "_model_name": "HBoxModel",
      "_view_count": null,
      "_view_module": "@jupyter-widgets/controls",
      "_view_module_version": "1.5.0",
      "_view_name": "HBoxView",
      "box_style": "",
      "children": [
       "IPY_MODEL_4af4e952439d4f718ccd6e2e5c07a659",
       "IPY_MODEL_0075ad52a8944c8dbb32376024471672"
      ],
      "layout": "IPY_MODEL_5f7d827b0f854a6297abd0d410e59ff8"
     }
    },
    "cd2b69305552459e95b73233766cdfd7": {
     "model_module": "@jupyter-widgets/controls",
     "model_name": "FloatProgressModel",
     "state": {
      "_dom_classes": [],
      "_model_module": "@jupyter-widgets/controls",
      "_model_module_version": "1.5.0",
      "_model_name": "FloatProgressModel",
      "_view_count": null,
      "_view_module": "@jupyter-widgets/controls",
      "_view_module_version": "1.5.0",
      "_view_name": "ProgressView",
      "bar_style": "success",
      "description": "",
      "description_tooltip": null,
      "layout": "IPY_MODEL_0779f7ac30a74ff799b20f904ede9962",
      "max": 1,
      "min": 0,
      "orientation": "horizontal",
      "style": "IPY_MODEL_53b32c83925445b28dde26b08855879d",
      "value": 1
     }
    },
    "d451cacf26bf4dfe9c15300dd239884c": {
     "model_module": "@jupyter-widgets/controls",
     "model_name": "ProgressStyleModel",
     "state": {
      "_model_module": "@jupyter-widgets/controls",
      "_model_module_version": "1.5.0",
      "_model_name": "ProgressStyleModel",
      "_view_count": null,
      "_view_module": "@jupyter-widgets/base",
      "_view_module_version": "1.2.0",
      "_view_name": "StyleView",
      "bar_color": null,
      "description_width": "initial"
     }
    },
    "de0e68c6bfd04c1996963de512e97695": {
     "model_module": "@jupyter-widgets/controls",
     "model_name": "HBoxModel",
     "state": {
      "_dom_classes": [],
      "_model_module": "@jupyter-widgets/controls",
      "_model_module_version": "1.5.0",
      "_model_name": "HBoxModel",
      "_view_count": null,
      "_view_module": "@jupyter-widgets/controls",
      "_view_module_version": "1.5.0",
      "_view_name": "HBoxView",
      "box_style": "",
      "children": [
       "IPY_MODEL_83cbc08841d54bad9e1b565493aca5ae",
       "IPY_MODEL_344ceaf7be82417589daec81cfa5f1df"
      ],
      "layout": "IPY_MODEL_77ffe3f5996747b4a50770b4ea8a54a4"
     }
    },
    "f1ca3ffdcf3c4335b0c4e261c9771703": {
     "model_module": "@jupyter-widgets/controls",
     "model_name": "HTMLModel",
     "state": {
      "_dom_classes": [],
      "_model_module": "@jupyter-widgets/controls",
      "_model_module_version": "1.5.0",
      "_model_name": "HTMLModel",
      "_view_count": null,
      "_view_module": "@jupyter-widgets/controls",
      "_view_module_version": "1.5.0",
      "_view_name": "HTMLView",
      "description": "",
      "description_tooltip": null,
      "layout": "IPY_MODEL_0ca7e65099f146c2954213940452f702",
      "placeholder": "​",
      "style": "IPY_MODEL_0f3a6ca1bae045189d0bfe51951dabc9",
      "value": " 1001/1001 [02:38&lt;00:00,  6.31it/s]"
     }
    }
   }
  }
 },
 "nbformat": 4,
 "nbformat_minor": 1
}
