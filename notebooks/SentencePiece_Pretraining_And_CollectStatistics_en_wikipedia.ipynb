{
  "nbformat": 4,
  "nbformat_minor": 0,
  "metadata": {
    "colab": {
      "name": "SentencePiece_Pretraining_And_CollectStatistics_en_wikipedia",
      "provenance": [],
      "collapsed_sections": [],
      "toc_visible": true
    },
    "kernelspec": {
      "display_name": "Python 3",
      "name": "python3"
    },
    "widgets": {
      "application/vnd.jupyter.widget-state+json": {
        "ea4905f244bf45d2842c9d57f287bb47": {
          "model_module": "@jupyter-widgets/controls",
          "model_name": "HBoxModel",
          "state": {
            "_view_name": "HBoxView",
            "_dom_classes": [],
            "_model_name": "HBoxModel",
            "_view_module": "@jupyter-widgets/controls",
            "_model_module_version": "1.5.0",
            "_view_count": null,
            "_view_module_version": "1.5.0",
            "box_style": "",
            "layout": "IPY_MODEL_6f0152b07f024f949c5f3d88ac54e927",
            "_model_module": "@jupyter-widgets/controls",
            "children": [
              "IPY_MODEL_48784e55085f43e699250cefc034c17d",
              "IPY_MODEL_c6208ad34fbb417ab249f271f4b2109f"
            ]
          }
        },
        "6f0152b07f024f949c5f3d88ac54e927": {
          "model_module": "@jupyter-widgets/base",
          "model_name": "LayoutModel",
          "state": {
            "_view_name": "LayoutView",
            "grid_template_rows": null,
            "right": null,
            "justify_content": null,
            "_view_module": "@jupyter-widgets/base",
            "overflow": null,
            "_model_module_version": "1.2.0",
            "_view_count": null,
            "flex_flow": null,
            "width": null,
            "min_width": null,
            "border": null,
            "align_items": null,
            "bottom": null,
            "_model_module": "@jupyter-widgets/base",
            "top": null,
            "grid_column": null,
            "overflow_y": null,
            "overflow_x": null,
            "grid_auto_flow": null,
            "grid_area": null,
            "grid_template_columns": null,
            "flex": null,
            "_model_name": "LayoutModel",
            "justify_items": null,
            "grid_row": null,
            "max_height": null,
            "align_content": null,
            "visibility": null,
            "align_self": null,
            "height": null,
            "min_height": null,
            "padding": null,
            "grid_auto_rows": null,
            "grid_gap": null,
            "max_width": null,
            "order": null,
            "_view_module_version": "1.2.0",
            "grid_template_areas": null,
            "object_position": null,
            "object_fit": null,
            "grid_auto_columns": null,
            "margin": null,
            "display": null,
            "left": null
          }
        },
        "48784e55085f43e699250cefc034c17d": {
          "model_module": "@jupyter-widgets/controls",
          "model_name": "FloatProgressModel",
          "state": {
            "_view_name": "ProgressView",
            "style": "IPY_MODEL_39524bfc86e04a60844515e711f09f37",
            "_dom_classes": [],
            "description": "Dl Completed...: 100%",
            "_model_name": "FloatProgressModel",
            "bar_style": "success",
            "max": 258,
            "_view_module": "@jupyter-widgets/controls",
            "_model_module_version": "1.5.0",
            "value": 258,
            "_view_count": null,
            "_view_module_version": "1.5.0",
            "orientation": "horizontal",
            "min": 0,
            "description_tooltip": null,
            "_model_module": "@jupyter-widgets/controls",
            "layout": "IPY_MODEL_3f4875e3d22348a5b0c20ac695a8bf18"
          }
        },
        "c6208ad34fbb417ab249f271f4b2109f": {
          "model_module": "@jupyter-widgets/controls",
          "model_name": "HTMLModel",
          "state": {
            "_view_name": "HTMLView",
            "style": "IPY_MODEL_7e8a80c1afe24d0fa15548a655eda010",
            "_dom_classes": [],
            "description": "",
            "_model_name": "HTMLModel",
            "placeholder": "​",
            "_view_module": "@jupyter-widgets/controls",
            "_model_module_version": "1.5.0",
            "value": " 258/258 [13:35&lt;00:00,  3.16s/ file]",
            "_view_count": null,
            "_view_module_version": "1.5.0",
            "description_tooltip": null,
            "_model_module": "@jupyter-widgets/controls",
            "layout": "IPY_MODEL_efacb33f9a8e49d3a0a9104e86a3d1db"
          }
        },
        "39524bfc86e04a60844515e711f09f37": {
          "model_module": "@jupyter-widgets/controls",
          "model_name": "ProgressStyleModel",
          "state": {
            "_view_name": "StyleView",
            "_model_name": "ProgressStyleModel",
            "description_width": "initial",
            "_view_module": "@jupyter-widgets/base",
            "_model_module_version": "1.5.0",
            "_view_count": null,
            "_view_module_version": "1.2.0",
            "bar_color": null,
            "_model_module": "@jupyter-widgets/controls"
          }
        },
        "3f4875e3d22348a5b0c20ac695a8bf18": {
          "model_module": "@jupyter-widgets/base",
          "model_name": "LayoutModel",
          "state": {
            "_view_name": "LayoutView",
            "grid_template_rows": null,
            "right": null,
            "justify_content": null,
            "_view_module": "@jupyter-widgets/base",
            "overflow": null,
            "_model_module_version": "1.2.0",
            "_view_count": null,
            "flex_flow": null,
            "width": null,
            "min_width": null,
            "border": null,
            "align_items": null,
            "bottom": null,
            "_model_module": "@jupyter-widgets/base",
            "top": null,
            "grid_column": null,
            "overflow_y": null,
            "overflow_x": null,
            "grid_auto_flow": null,
            "grid_area": null,
            "grid_template_columns": null,
            "flex": null,
            "_model_name": "LayoutModel",
            "justify_items": null,
            "grid_row": null,
            "max_height": null,
            "align_content": null,
            "visibility": null,
            "align_self": null,
            "height": null,
            "min_height": null,
            "padding": null,
            "grid_auto_rows": null,
            "grid_gap": null,
            "max_width": null,
            "order": null,
            "_view_module_version": "1.2.0",
            "grid_template_areas": null,
            "object_position": null,
            "object_fit": null,
            "grid_auto_columns": null,
            "margin": null,
            "display": null,
            "left": null
          }
        },
        "7e8a80c1afe24d0fa15548a655eda010": {
          "model_module": "@jupyter-widgets/controls",
          "model_name": "DescriptionStyleModel",
          "state": {
            "_view_name": "StyleView",
            "_model_name": "DescriptionStyleModel",
            "description_width": "",
            "_view_module": "@jupyter-widgets/base",
            "_model_module_version": "1.5.0",
            "_view_count": null,
            "_view_module_version": "1.2.0",
            "_model_module": "@jupyter-widgets/controls"
          }
        },
        "efacb33f9a8e49d3a0a9104e86a3d1db": {
          "model_module": "@jupyter-widgets/base",
          "model_name": "LayoutModel",
          "state": {
            "_view_name": "LayoutView",
            "grid_template_rows": null,
            "right": null,
            "justify_content": null,
            "_view_module": "@jupyter-widgets/base",
            "overflow": null,
            "_model_module_version": "1.2.0",
            "_view_count": null,
            "flex_flow": null,
            "width": null,
            "min_width": null,
            "border": null,
            "align_items": null,
            "bottom": null,
            "_model_module": "@jupyter-widgets/base",
            "top": null,
            "grid_column": null,
            "overflow_y": null,
            "overflow_x": null,
            "grid_auto_flow": null,
            "grid_area": null,
            "grid_template_columns": null,
            "flex": null,
            "_model_name": "LayoutModel",
            "justify_items": null,
            "grid_row": null,
            "max_height": null,
            "align_content": null,
            "visibility": null,
            "align_self": null,
            "height": null,
            "min_height": null,
            "padding": null,
            "grid_auto_rows": null,
            "grid_gap": null,
            "max_width": null,
            "order": null,
            "_view_module_version": "1.2.0",
            "grid_template_areas": null,
            "object_position": null,
            "object_fit": null,
            "grid_auto_columns": null,
            "margin": null,
            "display": null,
            "left": null
          }
        }
      }
    }
  },
  "cells": [
    {
      "cell_type": "markdown",
      "metadata": {
        "id": "yRynVVFqczch"
      },
      "source": [
        "Inspired by [paper](https://www.researchgate.net/publication/237135894_A_unifying_framework_for_complexity_measures_of_finite_systems)\n",
        "\n",
        "In this notebook I will implement TSE and Excess Entropy calculation and test it on following datasets:\n",
        "\n",
        "\n",
        "\n",
        "1.   Wikipedia\n",
        "2.   Simple English Wikipedia\n"
      ]
    },
    {
      "cell_type": "markdown",
      "metadata": {
        "id": "fNPwqgcCuoBC"
      },
      "source": [
        "# Preparation"
      ]
    },
    {
      "cell_type": "code",
      "metadata": {
        "colab": {
          "base_uri": "https://localhost:8080/"
        },
        "id": "UMAfwK2Tuqk3",
        "outputId": "f0d0788a-9ca9-48b8-e296-1da7bf826b26"
      },
      "source": [
        "!python3 -m pip install sentencepiece > /dev/null && echo 'OK'"
      ],
      "execution_count": 1,
      "outputs": [
        {
          "output_type": "stream",
          "text": [
            "OK\n"
          ],
          "name": "stdout"
        }
      ]
    },
    {
      "cell_type": "code",
      "metadata": {
        "colab": {
          "base_uri": "https://localhost:8080/"
        },
        "id": "gPYhLHbjyW9j",
        "outputId": "779ea935-fb1e-4e18-fa97-a03058119a24"
      },
      "source": [
        "!python3 -m pip install tensorflow_text > /dev/null && echo 'OK'"
      ],
      "execution_count": 2,
      "outputs": [
        {
          "output_type": "stream",
          "text": [
            "OK\n"
          ],
          "name": "stdout"
        }
      ]
    },
    {
      "cell_type": "code",
      "metadata": {
        "colab": {
          "base_uri": "https://localhost:8080/"
        },
        "id": "ETFmTXXgyW3v",
        "outputId": "b5545e5b-87c3-470b-825c-19b964ea9f13"
      },
      "source": [
        "!python3 -m pip install tensorflow_datasets > /dev/null && echo 'OK'"
      ],
      "execution_count": 3,
      "outputs": [
        {
          "output_type": "stream",
          "text": [
            "OK\n"
          ],
          "name": "stdout"
        }
      ]
    },
    {
      "cell_type": "code",
      "metadata": {
        "colab": {
          "base_uri": "https://localhost:8080/"
        },
        "id": "64qgPiHyyCgF",
        "outputId": "0960e290-7d78-4ac1-eb9c-1bf908261d7b"
      },
      "source": [
        "!python3 -m pip install tf_sentencepiece > /dev/null && echo 'OK'"
      ],
      "execution_count": 4,
      "outputs": [
        {
          "output_type": "stream",
          "text": [
            "OK\n"
          ],
          "name": "stdout"
        }
      ]
    },
    {
      "cell_type": "markdown",
      "metadata": {
        "id": "K_JtxlGAGrhP"
      },
      "source": [
        "### Imports"
      ]
    },
    {
      "cell_type": "code",
      "metadata": {
        "id": "QvRHcxDKukxK"
      },
      "source": [
        "import sentencepiece as spm\n",
        "import tensorflow_datasets as tfds\n",
        "from tqdm.notebook import tqdm\n",
        "import numpy as np\n",
        "from typing import List, Tuple\n",
        "import nltk\n",
        "import matplotlib.pyplot as plt\n",
        "import tensorflow as tf\n",
        "import tensorflow.keras.preprocessing.text as text\n",
        "import io\n",
        "import timeit\n",
        "import time"
      ],
      "execution_count": 53,
      "outputs": []
    },
    {
      "cell_type": "code",
      "metadata": {
        "colab": {
          "base_uri": "https://localhost:8080/"
        },
        "id": "X1haZlJfohzi",
        "outputId": "efd2fa73-15ee-4b22-a023-3964c92992d8"
      },
      "source": [
        "print('Tensorflow version:', tf.__version__)"
      ],
      "execution_count": 45,
      "outputs": [
        {
          "output_type": "stream",
          "text": [
            "Tensorflow version: 2.3.0\n"
          ],
          "name": "stdout"
        }
      ]
    },
    {
      "cell_type": "markdown",
      "metadata": {
        "id": "wNiRzbPddkZx"
      },
      "source": [
        "# Datasets"
      ]
    },
    {
      "cell_type": "markdown",
      "metadata": {
        "id": "sdwSY9Tpmnwb"
      },
      "source": [
        "## Wikipedia"
      ]
    },
    {
      "cell_type": "markdown",
      "metadata": {
        "id": "NnlJ-q5quOeO"
      },
      "source": [
        "[link](https://www.tensorflow.org/datasets/catalog/wiki40b#wiki40ben_default_config) to dataset"
      ]
    },
    {
      "cell_type": "code",
      "metadata": {
        "id": "TkujCFQXeuCh"
      },
      "source": [
        "DATASET_NAME = 'wikipedia/20200301.en'"
      ],
      "execution_count": 12,
      "outputs": []
    },
    {
      "cell_type": "code",
      "metadata": {
        "id": "fttAVOrWiFAi",
        "colab": {
          "base_uri": "https://localhost:8080/",
          "height": 205,
          "referenced_widgets": [
            "ea4905f244bf45d2842c9d57f287bb47",
            "6f0152b07f024f949c5f3d88ac54e927",
            "48784e55085f43e699250cefc034c17d",
            "c6208ad34fbb417ab249f271f4b2109f",
            "39524bfc86e04a60844515e711f09f37",
            "3f4875e3d22348a5b0c20ac695a8bf18",
            "7e8a80c1afe24d0fa15548a655eda010",
            "efacb33f9a8e49d3a0a9104e86a3d1db"
          ]
        },
        "outputId": "b32218fa-8981-45a1-cab5-307cfcc67737"
      },
      "source": [
        "dataset, dataset_info = tfds.load(\n",
        "    name=DATASET_NAME,\n",
        "    data_dir='wiki',\n",
        "    with_info=True,\n",
        "    split=tfds.Split.TRAIN,\n",
        "    shuffle_files=False\n",
        ")"
      ],
      "execution_count": 14,
      "outputs": [
        {
          "output_type": "stream",
          "text": [
            "WARNING:absl:Dataset wikipedia is hosted on GCS. It will automatically be downloaded to your\n",
            "local data directory. If you'd instead prefer to read directly from our public\n",
            "GCS bucket (recommended if you're running on GCP), you can instead pass\n",
            "`try_gcs=True` to `tfds.load` or set `data_dir=gs://tfds-data/datasets`.\n",
            "\n"
          ],
          "name": "stderr"
        },
        {
          "output_type": "stream",
          "text": [
            "\u001b[1mDownloading and preparing dataset wikipedia/20200301.en/1.0.0 (download: 16.73 GiB, generated: 17.05 GiB, total: 33.77 GiB) to wiki/wikipedia/20200301.en/1.0.0...\u001b[0m\n"
          ],
          "name": "stdout"
        },
        {
          "output_type": "display_data",
          "data": {
            "application/vnd.jupyter.widget-view+json": {
              "model_id": "ea4905f244bf45d2842c9d57f287bb47",
              "version_minor": 0,
              "version_major": 2
            },
            "text/plain": [
              "HBox(children=(FloatProgress(value=0.0, description='Dl Completed...', max=258.0, style=ProgressStyle(descript…"
            ]
          },
          "metadata": {
            "tags": []
          }
        },
        {
          "output_type": "stream",
          "text": [
            "\n",
            "\n",
            "\u001b[1mDataset wikipedia downloaded and prepared to wiki/wikipedia/20200301.en/1.0.0. Subsequent calls will reuse this data.\u001b[0m\n"
          ],
          "name": "stdout"
        }
      ]
    },
    {
      "cell_type": "code",
      "metadata": {
        "colab": {
          "base_uri": "https://localhost:8080/"
        },
        "id": "cS4-1VCTiMVW",
        "outputId": "1b2c94a7-6898-4758-fc9a-f275e472efd0"
      },
      "source": [
        "print(dataset_info)"
      ],
      "execution_count": 19,
      "outputs": [
        {
          "output_type": "stream",
          "text": [
            "tfds.core.DatasetInfo(\n",
            "    name='wikipedia',\n",
            "    version=1.0.0,\n",
            "    description='Wikipedia dataset containing cleaned articles of all languages.\n",
            "The datasets are built from the Wikipedia dump\n",
            "(https://dumps.wikimedia.org/) with one split per language. Each example\n",
            "contains the content of one full Wikipedia article with cleaning to strip\n",
            "markdown and unwanted sections (references, etc.).',\n",
            "    homepage='https://dumps.wikimedia.org',\n",
            "    features=FeaturesDict({\n",
            "        'text': Text(shape=(), dtype=tf.string),\n",
            "        'title': Text(shape=(), dtype=tf.string),\n",
            "    }),\n",
            "    total_num_examples=6033151,\n",
            "    splits={\n",
            "        'train': 6033151,\n",
            "    },\n",
            "    supervised_keys=None,\n",
            "    citation=\"\"\"@ONLINE {wikidump,\n",
            "        author = \"Wikimedia Foundation\",\n",
            "        title  = \"Wikimedia Downloads\",\n",
            "        url    = \"https://dumps.wikimedia.org\"\n",
            "    }\"\"\",\n",
            "    redistribution_info=license: \"This work is licensed under the Creative Commons Attribution-ShareAlike 3.0 Unported License. To view a copy of this license, visit http://creativecommons.org/licenses/by-sa/3.0/ or send a letter to Creative Commons, PO Box 1866, Mountain View, CA 94042, USA.\",\n",
            ")\n",
            "\n"
          ],
          "name": "stdout"
        }
      ]
    },
    {
      "cell_type": "code",
      "metadata": {
        "colab": {
          "base_uri": "https://localhost:8080/"
        },
        "id": "TNZ2-Qc2jBQf",
        "outputId": "5eb55dce-8b40-434d-ad43-3008af61aa62"
      },
      "source": [
        "print('First article','\\n======\\n')\n",
        "for example in dataset.take(1):\n",
        "    print('Title:','\\n------')\n",
        "    print(example['title'].numpy().decode('utf-8'))\n",
        "    print()\n",
        "\n",
        "    print('Text:', '\\n------')\n",
        "    print(example['text'].numpy().decode('utf-8'))"
      ],
      "execution_count": 27,
      "outputs": [
        {
          "output_type": "stream",
          "text": [
            "First article \n",
            "======\n",
            "\n",
            "Title: \n",
            "------\n",
            "Joseph Greenberg\n",
            "\n",
            "Text: \n",
            "------\n",
            "Joseph Harold Greenberg (May 28, 1915 – May 7, 2001) was an American linguist, known mainly for his work concerning linguistic typology and the genetic classification of languages.\n",
            "\n",
            "Life\n",
            "\n",
            "Early life and education \n",
            "\n",
            "Joseph Greenberg was born on May 28, 1915 to Jewish parents in Brooklyn, New York. His first great interest was music. At the age of 14, he gave a piano concert in Steinway Hall. He continued to play the piano frequently throughout his life.\n",
            "\n",
            "After finishing high school, he decided to pursue a scholarly career rather than a musical one. He enrolled at Columbia University in New York. During his senior year, he attended a class taught by Franz Boas concerning American Indian languages. With references from Boas and Ruth Benedict, he was accepted as a graduate student by Melville J. Herskovits at Northwestern University in Chicago. During the course of his graduate studies, Greenberg did fieldwork among the Hausa people of Nigeria, where he learned the Hausa language. The subject of his doctoral dissertation was the influence of Islam on a Hausa group that, unlike most others, had not converted to it.\n",
            "\n",
            "During 1940, he began postdoctoral studies at Yale University. These were interrupted by service in the U.S. Army Signal Corps during World War II, for which he worked as a codebreaker and participated with the landing at Casablanca. Before leaving for Europe during 1943, Greenberg married Selma Berkowitz, whom he had met during his first year at Columbia University.\n",
            "\n",
            "Career\n",
            "After the war, Greenberg taught at the University of Minnesota before returning to Columbia University during 1948 as a teacher of anthropology. While in New York, he became acquainted with Roman Jakobson and André Martinet. They introduced him to the Prague school of structuralism, which influenced his work.\n",
            "\n",
            "During 1962, Greenberg relocated to the anthropology department of Stanford University in California, where he continued to work for the rest of his life. During 1965 Greenberg served as president of the African Studies Association. He received during 1996 the highest award for a scholar in Linguistics, the Gold Medal of Philology.\n",
            "\n",
            "Contributions to linguistics\n",
            "\n",
            "Linguistic typology \n",
            "\n",
            "Greenberg's reputation rests partly on his contributions to synchronic linguistics and the quest to identify linguistic universals. During the late 1950s, Greenberg began to examine languages covering a wide geographic and genetic distribution. He located a number of interesting potential universals as well as many strong cross-linguistic tendencies.\n",
            "\n",
            "In particular, Greenberg conceptualized the idea of \"implicational universal\", which has the form, \"if a language has structure X, then it must also have structure Y.\" For example, X might be \"mid front rounded vowels\" and Y \"high front rounded vowels\" (for terminology see phonetics). Many scholars adopted this kind of research following Greenberg's example and it remains important in synchronic linguistics.\n",
            "\n",
            "Like Noam Chomsky, Greenberg sought to discover the universal structures on which human language is based. Unlike Chomsky, Greenberg's method was functionalist, rather than formalist. An argument to reconcile the Greenbergian and Chomskyan methods can be found in Linguistic Universals (2006), edited by Ricardo Mairal and Juana Gil .\n",
            "\n",
            "Many who are strongly opposed to Greenberg's methods of language classification (see below) acknowledge the importance of his typological work. During 1963 he published an article that was extremely influential: \"Some universals of grammar with particular reference to the order of meaningful elements\".\n",
            "\n",
            "Mass comparison \n",
            "\n",
            "Greenberg rejected the opinion, prevalent among linguists since the mid-20th century, that comparative reconstruction was the only method to discover relationships between languages. He argued that genetic classification is methodologically prior to comparative reconstruction, or the first stage of it: one cannot engage in the comparative reconstruction of languages until one knows which languages to compare (1957:44).\n",
            "\n",
            "He also criticized the prevalent opinion that comprehensive comparisons of two languages at a time (which commonly take years to perform) could establish language families of any size. He argued that, even for 8 languages, there are already 4,140 ways to classify them into distinct families, while for 25 languages there are 4,749,027,089,305,918,018 ways (1957:44). For comparison, the Niger–Congo family is said to have some 1,500 languages. He thought language families of any size needed to be established by some scholastic means other than bilateral comparison. The theory of mass comparison is an attempt to demonstrate such means.\n",
            "\n",
            "Greenberg argued for the virtues of breadth over depth. He advocated restricting the amount of material to be compared (to basic vocabulary, morphology, and known paths of sound change) and increasing the number of languages to be compared to all the languages in a given area. This would make it possible to compare numerous languages reliably. At the same time, the process would provide a check on accidental resemblances through the sheer number of languages under review. The mathematical probability that resemblances are accidental decreases strongly with the number of languages concerned (1957:39).\n",
            "\n",
            "Greenberg used the premise that mass \"borrowing\" of basic vocabulary is unknown. He argued that borrowing, when it occurs, is concentrated in cultural vocabulary and clusters \"in certain semantic areas\", making it easy to detect (1957:39). With the goal of determining broad patterns of relationship, the idea was not to get every word right but to detect patterns. From the beginning with his theory of mass comparison, Greenberg addressed why chance resemblance and borrowing were not obstacles to its being useful. Despite that, critics consider those phenomena caused difficulties for his theory.\n",
            "\n",
            "Greenberg first termed his method \"mass comparison\" in an article of 1954 (reprinted in Greenberg 1955). As of 1987, he replaced the term \"mass comparison\" with \"multilateral comparison\", to emphasize its contrast with the bilateral comparisons recommended by linguistics textbooks. He believed that multilateral comparison was not in any way opposed to the comparative method, but is, on the contrary, its necessary first step (Greenberg, 1957:44). According to him, comparative reconstruction should have the status of an explanatory theory for facts already established by language classification (Greenberg, 1957:45).\n",
            "\n",
            "Most historical linguists (Campbell 2001:45) reject the use of mass comparison as a method for establishing genealogical relationships between languages. Among the most outspoken critics of mass comparison have been Lyle Campbell, Donald Ringe, William Poser, and the late R. Larry Trask.\n",
            "\n",
            "Genetic classification of languages\n",
            "\n",
            "Languages of Africa \n",
            "\n",
            "Greenberg is known widely for his development of a classification system for the languages of Africa, which he published as a series of articles in the Southwestern Journal of Anthropology from 1949 to 1954 (reprinted together as a book, The Languages of Africa, in 1955). He revised the book and published it again during 1963, followed by a nearly identical edition of 1966 (reprinted without change during 1970). A few more changes of the classification were made by Greenberg in an article during 1981.\n",
            "\n",
            "Greenberg grouped the hundreds of African languages into four families, which he dubbed Afroasiatic, Nilo-Saharan, Niger–Congo, and Khoisan. During the course of his work, Greenberg invented the term \"Afroasiatic\" to replace the earlier term \"Hamito-Semitic\", after showing that the Hamitic group, accepted widely since the 19th century, is not a valid language family. Another major feature of his work was to establish the classification of the Bantu languages, which occupy much of sub-Saharan Africa, as a part of the Niger–Congo family, rather than as an independent family as many Bantuists had maintained.\n",
            "\n",
            "Greenberg's classification rested largely in evaluating competing earlier classifications. For a time, his classification was considered bold and speculative, especially the proposal of a Nilo-Saharan language family. Now, apart from Khoisan, it is generally accepted by African specialists and has been used as a basis for further work by other scholars.\n",
            "\n",
            "Greenberg's work on African languages has been criticised by Lyle Campbell and Donald Ringe, who do not believe that his classification is justified by his data and request a re-examination of his macro-phyla by \"reliable methods\" (Ringe 1993:104). Harold Fleming and Lionel Bender, who were sympathetic to Greenberg's classification, acknowledged that at least some of his macrofamilies (particularly the Nilo-Saharan and the Khoisan macrofamiles) are not accepted completely by most linguists and may need to be divided (Campbell 1997). Their objection was methodological: if mass comparison is not a valid method, it cannot be expected to have brought order successfully out of the confusion of African languages.\n",
            "\n",
            "By contrast, some linguists have sought to combine Greenberg's four African families into larger units. In particular, Edgar Gregersen (1972) proposed joining Niger–Congo and Nilo-Saharan into a larger family, which he termed Kongo-Saharan. Roger Blench (1995) suggests Niger–Congo is a subfamily of Nilo-Saharan.\n",
            "\n",
            "The languages of New Guinea, Tasmania, and the Andaman Islands\n",
            "\n",
            "During 1971 Greenberg proposed the Indo-Pacific macrofamily, which groups together the Papuan languages (a large number of language families of New Guinea and nearby islands) with the native languages of the Andaman Islands and Tasmania but excludes the Australian Aboriginal languages. Its principal feature was to reduce the manifold language families of New Guinea to a single genetic unit. This excludes the Austronesian languages, which have been established as associated with a more recent migration of people.\n",
            "\n",
            "Greenberg's subgrouping of these languages has not been accepted by the few specialists who have worked on the classification of these languages. However, the work of Stephen Wurm (1982) and Malcolm Ross (2005) has provided considerable evidence for his once-radical idea that these languages form a single genetic unit. Wurm stated that the lexical similarities between Great Andamanese and the West Papuan and Timor–Alor families \"are quite striking and amount to virtual formal identity [...] in a number of instances.\" He believes this to be due to a linguistic substratum.\n",
            "\n",
            "The languages of the Americas\n",
            "\n",
            "Most linguists concerned with the native languages of the Americas classify them into 150 to 180 independent language families. Some believe that two language families, Eskimo–Aleut and Na-Dené, were distinct, perhaps the results of later migrations into the New World.\n",
            "\n",
            "Early on, Greenberg (1957:41, 1960) became convinced that many of the language groups considered unrelated could be classified into larger groupings. In his 1987 book Language in the Americas, while agreeing that the Eskimo–Aleut and Na-Dené groupings as distinct, he proposed that all the other Native American languages belong to a single language macro-family, which he termed Amerind.\n",
            "\n",
            "Language in the Americas has generated lively debate, but has been criticized strongly; it is rejected by most specialists of indigenous languages of the Americas and also by most historical linguists. Specialists of the individual language families have found extensive inaccuracies and errors in Greenberg's data, such as including data from non-existent languages, erroneous transcriptions of the forms compared, misinterpretations of the meanings of words used for comparison, and entirely spurious forms.\n",
            "\n",
            "Historical linguists also reject the validity of the method of multilateral (or mass) comparison upon which the classification is based. They argue that he has not provided a convincing case that the similarities presented as evidence are due to inheritance from an earlier common ancestor rather than being explained by a combination of errors, accidental similarity, excessive semantic latitude in comparisons, borrowings, onomatopoeia, etc.\n",
            "\n",
            "However, Harvard geneticist David Reich notes that recent genetic studies have identified patterns that support Greenberg's Amerind classification: the “First American” category. “The cluster of populations that he predicted to be most closely related based on language were in fact verified by the genetic patterns in populations for which data are available.” Nevertheless, this category of “First American” people also interbred with and contributed a significant amount of genes to the ancestors of both Eskimo-Aleut and Na-Dené populations, with 60% and 90% \"First American\" DNA respectively constituting the genetic makeup of the two groups.\n",
            "\n",
            "The languages of northern Eurasia \n",
            "\n",
            "Later in his life, Greenberg proposed that nearly all of the language families of northern Eurasia belong to a single higher-order family, which he termed Eurasiatic. The only exception was Yeniseian, which has been related to a wider Dené–Caucasian grouping, also including Sino-Tibetan.  During 2008 Edward Vajda related Yeniseian to the Na-Dené languages of North America as a Dené–Yeniseian family.\n",
            "\n",
            "The Eurasiatic grouping resembles the older Nostratic groupings of Holger Pedersen and Vladislav Illich-Svitych by including Indo-European, Uralic, and Altaic. It differs by including Nivkh, Japonic, Korean, and Ainu (which the Nostraticists had excluded from comparison because they are single languages rather than language families) and in excluding Afroasiatic. At about this time, Russian Nostraticists, notably Sergei Starostin, constructed a revised version of Nostratic. It was slightly larger than Greenberg's grouping but it also excluded Afroasiatic.\n",
            "\n",
            "Recently, a consensus has been emerging among proponents of the Nostratic hypothesis. Greenberg basically agreed with the Nostratic concept, though he stressed a deep internal division between its northern 'tier' (his Eurasiatic) and a southern 'tier' (principally Afroasiatic and Dravidian).\n",
            "\n",
            "The American Nostraticist Allan Bomhard considers Eurasiatic a branch of Nostratic, alongside other branches: Afroasiatic, Elamo-Dravidian, and Kartvelian. Similarly, Georgiy Starostin (2002) arrives at a tripartite overall grouping: he considers Afroasiatic, Nostratic and Elamite to be roughly equidistant and more closely related to each other than to any other language family. Sergei Starostin's school has now included Afroasiatic in a broadly defined Nostratic. They reserve the term Eurasiatic to designate the narrower subgrouping, which comprises the rest of the macrofamily. Recent proposals thus differ mainly on the precise inclusion of Dravidian and Kartvelian.\n",
            "\n",
            "Greenberg continued to work on this project after he was diagnosed with incurable pancreatic cancer and until he died during May 2001. His colleague and former student Merritt Ruhlen ensured the publication of the final volume of his Eurasiatic work (2002) after his death.\n",
            "\n",
            "Selected works by Joseph H. Greenberg\n",
            "\n",
            "Books \n",
            "  (Photo-offset reprint of the SJA articles with minor corrections.)\n",
            " \n",
            "  (Heavily revised version of Greenberg 1955. From the same publisher: second, revised edition, 1966; third edition, 1970. All three editions simultaneously published at The Hague by Mouton & Co.)\n",
            "  (Reprinted 1980 and, with a foreword by Martin Haspelmath, 2005.)\n",
            "\n",
            "Books (editor) \n",
            "  (Second edition 1966.)\n",
            "\n",
            "Articles, reviews, etc. \n",
            " \n",
            " \n",
            " \n",
            " \n",
            " \n",
            " \n",
            " \n",
            " \n",
            " \n",
            " \n",
            " \n",
            " \n",
            " \n",
            "  (Reprinted in Genetic Linguistics, 2005.)\n",
            " \n",
            "  (In second edition of Universals of Language, 1966: pp. 73–113.)\n",
            " \n",
            " \n",
            "  (Reprinted in Genetic Linguistics, 2005.)\n",
            "\n",
            "Bibliography\n",
            "\n",
            "Blench, Roger. 1995. \"Is Niger–Congo simply a branch of Nilo-Saharan?\" In Fifth Nilo-Saharan Linguistics Colloquium, Nice, 24–29 August 1992: Proceedings, edited by Robert Nicolaï and Franz Rottland. Cologne: Köppe Verlag, pp. 36–49.\n",
            "\n",
            "Campbell, Lyle. 1997. American Indian Languages: The Historical Linguistics of Native America. New York: Oxford University Press. .\n",
            "Campbell, Lyle. 2001. \"Beyond the comparative method.\" In Historical Linguistics 2001: Selected Papers from the 15th International Conference on Historical Linguistics, Melbourne, 13–17 August 2001, edited by Barry J. Blake, Kate Burridge, and Jo Taylor.\n",
            "Diamond, Jared. 1997. Guns, Germs and Steel: The Fates of Human Societies. New York: Norton. .\n",
            "\n",
            "Mairal, Ricardo and Juana Gil. 2006. Linguistic Universals. Cambridge–NY: Cambridge University Press. .\n",
            "\n",
            "Ross, Malcolm. 2005. \"Pronouns as a preliminary diagnostic for grouping Papuan languages.\" In Papuan Pasts: Cultural, Linguistic and Biological Histories of Papuan-speaking Peoples, edited by Andrew Pawley, Robert Attenborough, Robin Hide, and Jack Golson. Canberra: Pacific Linguistics, pp. 15–66.\n",
            "Wurm, Stephen A. 1982. The Papuan Languages of Oceania. Tübingen: Gunter Narr.\n",
            "\n",
            "See also\n",
            "\n",
            "Linguistic universal\n",
            "Monogenesis (linguistics)\n",
            "Nostratic languages\n",
            "\n",
            "References\n",
            "\n",
            "External links\n",
            "Joseph Greenberg at work; a portrait of himself\n",
            "\"What we all spoke when the world was young\" by Nicholas Wade, New York Times (February 1, 2000)\n",
            "Memorial Resolution\n",
            "\"Complete bibliography of the publications of Joseph H. Greenberg\" by William Croft (2003)\n",
            "\n",
            "Category:1915 births\n",
            "Category:2001 deaths\n",
            "Category:20th-century linguists\n",
            "Category:20th-century anthropologists\n",
            "Category:20th-century non-fiction writers\n",
            "Category:Anthropological linguists\n",
            "Category:American social scientists\n",
            "Category:Linguists from the United States\n",
            "Category:American Africanists\n",
            "Category:Jewish American military personnel\n",
            "Category:Paleolinguists\n",
            "Category:Columbia University faculty\n",
            "Category:Stanford University Department of Anthropology faculty\n",
            "Category:Fellows of the American Academy of Arts and Sciences\n",
            "Category:Members of the United States National Academy of Sciences\n",
            "Category:United States Army personnel\n",
            "Category:American army personnel of World War II\n",
            "Category:Guggenheim Fellows\n",
            "Category:American expatriates in Nigeria\n",
            "Category:People from Brooklyn\n",
            "Category:Linguists of Eskimo–Aleut languages\n",
            "Category:Linguists of Hokan languages\n",
            "Category:Jewish scientists\n",
            "Category:Linguists of Papuan languages\n",
            "Category:Linguists of Amerind languages\n",
            "Category:Linguists of Andamanese languages\n",
            "Category:Linguists of Tasmanian languages\n",
            "Category:Linguists of Niger–Congo languages\n",
            "Category:Linguists of Afroasiatic languages\n",
            "Category:Linguists of Eurasiatic languages\n",
            "Category:Linguistic Society of America presidents\n",
            "Category:Columbia College (New York) alumni\n",
            "Category:Linguists of indigenous languages of the Americas\n"
          ],
          "name": "stdout"
        }
      ]
    },
    {
      "cell_type": "code",
      "metadata": {
        "id": "Io7JATcUkJtC"
      },
      "source": [
        "def article_to_text(text):\n",
        "    return text.numpy().decode('utf-8')"
      ],
      "execution_count": 31,
      "outputs": []
    },
    {
      "cell_type": "code",
      "metadata": {
        "id": "E1RAdMOljL5G"
      },
      "source": [
        "dataset_text = dataset.map(\n",
        "    lambda article: tf.py_function(func=article_to_text, inp=[article['text']], Tout=tf.string)\n",
        ")"
      ],
      "execution_count": 32,
      "outputs": []
    },
    {
      "cell_type": "code",
      "metadata": {
        "colab": {
          "base_uri": "https://localhost:8080/"
        },
        "id": "8MY7dIsjjymJ",
        "outputId": "31feb0cb-246b-4f7c-8f2c-3581341cf469"
      },
      "source": [
        "for text in dataset_text.take(2):\n",
        "    print(text.numpy())\n",
        "    print('\\n')"
      ],
      "execution_count": 34,
      "outputs": [
        {
          "output_type": "stream",
          "text": [
            "b'Joseph Harold Greenberg (May 28, 1915 \\xe2\\x80\\x93 May 7, 2001) was an American linguist, known mainly for his work concerning linguistic typology and the genetic classification of languages.\\n\\nLife\\n\\nEarly life and education \\n\\nJoseph Greenberg was born on May 28, 1915 to Jewish parents in Brooklyn, New York. His first great interest was music. At the age of 14, he gave a piano concert in Steinway Hall. He continued to play the piano frequently throughout his life.\\n\\nAfter finishing high school, he decided to pursue a scholarly career rather than a musical one. He enrolled at Columbia University in New York. During his senior year, he attended a class taught by Franz Boas concerning American Indian languages. With references from Boas and Ruth Benedict, he was accepted as a graduate student by Melville J. Herskovits at Northwestern University in Chicago. During the course of his graduate studies, Greenberg did fieldwork among the Hausa people of Nigeria, where he learned the Hausa language. The subject of his doctoral dissertation was the influence of Islam on a Hausa group that, unlike most others, had not converted to it.\\n\\nDuring 1940, he began postdoctoral studies at Yale University. These were interrupted by service in the U.S. Army Signal Corps during World War II, for which he worked as a codebreaker and participated with the landing at Casablanca. Before leaving for Europe during 1943, Greenberg married Selma Berkowitz, whom he had met during his first year at Columbia University.\\n\\nCareer\\nAfter the war, Greenberg taught at the University of Minnesota before returning to Columbia University during 1948 as a teacher of anthropology. While in New York, he became acquainted with Roman Jakobson and Andr\\xc3\\xa9 Martinet. They introduced him to the Prague school of structuralism, which influenced his work.\\n\\nDuring 1962, Greenberg relocated to the anthropology department of Stanford University in California, where he continued to work for the rest of his life. During 1965 Greenberg served as president of the African Studies Association. He received during 1996 the highest award for a scholar in Linguistics, the Gold Medal of Philology.\\n\\nContributions to linguistics\\n\\nLinguistic typology \\n\\nGreenberg\\'s reputation rests partly on his contributions to synchronic linguistics and the quest to identify linguistic universals. During the late 1950s, Greenberg began to examine languages covering a wide geographic and genetic distribution. He located a number of interesting potential universals as well as many strong cross-linguistic tendencies.\\n\\nIn particular, Greenberg conceptualized the idea of \"implicational universal\", which has the form, \"if a language has structure X, then it must also have structure Y.\" For example, X might be \"mid front rounded vowels\" and Y \"high front rounded vowels\" (for terminology see phonetics). Many scholars adopted this kind of research following Greenberg\\'s example and it remains important in synchronic linguistics.\\n\\nLike Noam Chomsky, Greenberg sought to discover the universal structures on which human language is based. Unlike Chomsky, Greenberg\\'s method was functionalist, rather than formalist. An argument to reconcile the Greenbergian and Chomskyan methods can be found in Linguistic Universals (2006), edited by Ricardo Mairal and Juana Gil .\\n\\nMany who are strongly opposed to Greenberg\\'s methods of language classification (see below) acknowledge the importance of his typological work. During 1963 he published an article that was extremely influential: \"Some universals of grammar with particular reference to the order of meaningful elements\".\\n\\nMass comparison \\n\\nGreenberg rejected the opinion, prevalent among linguists since the mid-20th century, that comparative reconstruction was the only method to discover relationships between languages. He argued that genetic classification is methodologically prior to comparative reconstruction, or the first stage of it: one cannot engage in the comparative reconstruction of languages until one knows which languages to compare (1957:44).\\n\\nHe also criticized the prevalent opinion that comprehensive comparisons of two languages at a time (which commonly take years to perform) could establish language families of any size. He argued that, even for 8 languages, there are already 4,140 ways to classify them into distinct families, while for 25 languages there are 4,749,027,089,305,918,018 ways (1957:44). For comparison, the Niger\\xe2\\x80\\x93Congo family is said to have some 1,500 languages. He thought language families of any size needed to be established by some scholastic means other than bilateral comparison. The theory of mass comparison is an attempt to demonstrate such means.\\n\\nGreenberg argued for the virtues of breadth over depth. He advocated restricting the amount of material to be compared (to basic vocabulary, morphology, and known paths of sound change) and increasing the number of languages to be compared to all the languages in a given area. This would make it possible to compare numerous languages reliably. At the same time, the process would provide a check on accidental resemblances through the sheer number of languages under review. The mathematical probability that resemblances are accidental decreases strongly with the number of languages concerned (1957:39).\\n\\nGreenberg used the premise that mass \"borrowing\" of basic vocabulary is unknown. He argued that borrowing, when it occurs, is concentrated in cultural vocabulary and clusters \"in certain semantic areas\", making it easy to detect (1957:39). With the goal of determining broad patterns of relationship, the idea was not to get every word right but to detect patterns. From the beginning with his theory of mass comparison, Greenberg addressed why chance resemblance and borrowing were not obstacles to its being useful. Despite that, critics consider those phenomena caused difficulties for his theory.\\n\\nGreenberg first termed his method \"mass comparison\" in an article of 1954 (reprinted in Greenberg 1955). As of 1987, he replaced the term \"mass comparison\" with \"multilateral comparison\", to emphasize its contrast with the bilateral comparisons recommended by linguistics textbooks. He believed that multilateral comparison was not in any way opposed to the comparative method, but is, on the contrary, its necessary first step (Greenberg, 1957:44). According to him, comparative reconstruction should have the status of an explanatory theory for facts already established by language classification (Greenberg, 1957:45).\\n\\nMost historical linguists (Campbell 2001:45) reject the use of mass comparison as a method for establishing genealogical relationships between languages. Among the most outspoken critics of mass comparison have been Lyle Campbell, Donald Ringe, William Poser, and the late R. Larry Trask.\\n\\nGenetic classification of languages\\n\\nLanguages of Africa \\n\\nGreenberg is known widely for his development of a classification system for the languages of Africa, which he published as a series of articles in the Southwestern Journal of Anthropology from 1949 to 1954 (reprinted together as a book, The Languages of Africa, in 1955). He revised the book and published it again during 1963, followed by a nearly identical edition of 1966 (reprinted without change during 1970). A few more changes of the classification were made by Greenberg in an article during 1981.\\n\\nGreenberg grouped the hundreds of African languages into four families, which he dubbed Afroasiatic, Nilo-Saharan, Niger\\xe2\\x80\\x93Congo, and Khoisan. During the course of his work, Greenberg invented the term \"Afroasiatic\" to replace the earlier term \"Hamito-Semitic\", after showing that the Hamitic group, accepted widely since the 19th century, is not a valid language family. Another major feature of his work was to establish the classification of the Bantu languages, which occupy much of sub-Saharan Africa, as a part of the Niger\\xe2\\x80\\x93Congo family, rather than as an independent family as many Bantuists had maintained.\\n\\nGreenberg\\'s classification rested largely in evaluating competing earlier classifications. For a time, his classification was considered bold and speculative, especially the proposal of a Nilo-Saharan language family. Now, apart from Khoisan, it is generally accepted by African specialists and has been used as a basis for further work by other scholars.\\n\\nGreenberg\\'s work on African languages has been criticised by Lyle Campbell and Donald Ringe, who do not believe that his classification is justified by his data and request a re-examination of his macro-phyla by \"reliable methods\" (Ringe 1993:104). Harold Fleming and Lionel Bender, who were sympathetic to Greenberg\\'s classification, acknowledged that at least some of his macrofamilies (particularly the Nilo-Saharan and the Khoisan macrofamiles) are not accepted completely by most linguists and may need to be divided (Campbell 1997). Their objection was methodological: if mass comparison is not a valid method, it cannot be expected to have brought order successfully out of the confusion of African languages.\\n\\nBy contrast, some linguists have sought to combine Greenberg\\'s four African families into larger units. In particular, Edgar Gregersen (1972) proposed joining Niger\\xe2\\x80\\x93Congo and Nilo-Saharan into a larger family, which he termed Kongo-Saharan. Roger Blench (1995) suggests Niger\\xe2\\x80\\x93Congo is a subfamily of Nilo-Saharan.\\n\\nThe languages of New Guinea, Tasmania, and the Andaman Islands\\n\\nDuring 1971 Greenberg proposed the Indo-Pacific macrofamily, which groups together the Papuan languages (a large number of language families of New Guinea and nearby islands) with the native languages of the Andaman Islands and Tasmania but excludes the Australian Aboriginal languages. Its principal feature was to reduce the manifold language families of New Guinea to a single genetic unit. This excludes the Austronesian languages, which have been established as associated with a more recent migration of people.\\n\\nGreenberg\\'s subgrouping of these languages has not been accepted by the few specialists who have worked on the classification of these languages. However, the work of Stephen Wurm (1982) and Malcolm Ross (2005) has provided considerable evidence for his once-radical idea that these languages form a single genetic unit. Wurm stated that the lexical similarities between Great Andamanese and the West Papuan and Timor\\xe2\\x80\\x93Alor families \"are quite striking and amount to virtual formal identity [...] in a number of instances.\" He believes this to be due to a linguistic substratum.\\n\\nThe languages of the Americas\\n\\nMost linguists concerned with the native languages of the Americas classify them into 150 to 180 independent language families. Some believe that two language families, Eskimo\\xe2\\x80\\x93Aleut and Na-Den\\xc3\\xa9, were distinct, perhaps the results of later migrations into the New World.\\n\\nEarly on, Greenberg (1957:41, 1960) became convinced that many of the language groups considered unrelated could be classified into larger groupings. In his 1987 book Language in the Americas, while agreeing that the Eskimo\\xe2\\x80\\x93Aleut and Na-Den\\xc3\\xa9 groupings as distinct, he proposed that all the other Native American languages belong to a single language macro-family, which he termed Amerind.\\n\\nLanguage in the Americas has generated lively debate, but has been criticized strongly; it is rejected by most specialists of indigenous languages of the Americas and also by most historical linguists. Specialists of the individual language families have found extensive inaccuracies and errors in Greenberg\\'s data, such as including data from non-existent languages, erroneous transcriptions of the forms compared, misinterpretations of the meanings of words used for comparison, and entirely spurious forms.\\n\\nHistorical linguists also reject the validity of the method of multilateral (or mass) comparison upon which the classification is based. They argue that he has not provided a convincing case that the similarities presented as evidence are due to inheritance from an earlier common ancestor rather than being explained by a combination of errors, accidental similarity, excessive semantic latitude in comparisons, borrowings, onomatopoeia, etc.\\n\\nHowever, Harvard geneticist David Reich notes that recent genetic studies have identified patterns that support Greenberg\\'s Amerind classification: the \\xe2\\x80\\x9cFirst American\\xe2\\x80\\x9d category. \\xe2\\x80\\x9cThe cluster of populations that he predicted to be most closely related based on language were in fact verified by the genetic patterns in populations for which data are available.\\xe2\\x80\\x9d Nevertheless, this category of \\xe2\\x80\\x9cFirst American\\xe2\\x80\\x9d people also interbred with and contributed a significant amount of genes to the ancestors of both Eskimo-Aleut and Na-Den\\xc3\\xa9 populations, with 60% and 90% \"First American\" DNA respectively constituting the genetic makeup of the two groups.\\n\\nThe languages of northern Eurasia \\n\\nLater in his life, Greenberg proposed that nearly all of the language families of northern Eurasia belong to a single higher-order family, which he termed Eurasiatic. The only exception was Yeniseian, which has been related to a wider Den\\xc3\\xa9\\xe2\\x80\\x93Caucasian grouping, also including Sino-Tibetan.  During 2008 Edward Vajda related Yeniseian to the Na-Den\\xc3\\xa9 languages of North America as a Den\\xc3\\xa9\\xe2\\x80\\x93Yeniseian family.\\n\\nThe Eurasiatic grouping resembles the older Nostratic groupings of Holger Pedersen and Vladislav Illich-Svitych by including Indo-European, Uralic, and Altaic. It differs by including Nivkh, Japonic, Korean, and Ainu (which the Nostraticists had excluded from comparison because they are single languages rather than language families) and in excluding Afroasiatic. At about this time, Russian Nostraticists, notably Sergei Starostin, constructed a revised version of Nostratic. It was slightly larger than Greenberg\\'s grouping but it also excluded Afroasiatic.\\n\\nRecently, a consensus has been emerging among proponents of the Nostratic hypothesis. Greenberg basically agreed with the Nostratic concept, though he stressed a deep internal division between its northern \\'tier\\' (his Eurasiatic) and a southern \\'tier\\' (principally Afroasiatic and Dravidian).\\n\\nThe American Nostraticist Allan Bomhard considers Eurasiatic a branch of Nostratic, alongside other branches: Afroasiatic, Elamo-Dravidian, and Kartvelian. Similarly, Georgiy Starostin (2002) arrives at a tripartite overall grouping: he considers Afroasiatic, Nostratic and Elamite to be roughly equidistant and more closely related to each other than to any other language family. Sergei Starostin\\'s school has now included Afroasiatic in a broadly defined Nostratic. They reserve the term Eurasiatic to designate the narrower subgrouping, which comprises the rest of the macrofamily. Recent proposals thus differ mainly on the precise inclusion of Dravidian and Kartvelian.\\n\\nGreenberg continued to work on this project after he was diagnosed with incurable pancreatic cancer and until he died during May 2001. His colleague and former student Merritt Ruhlen ensured the publication of the final volume of his Eurasiatic work (2002) after his death.\\n\\nSelected works by Joseph H. Greenberg\\n\\nBooks \\n  (Photo-offset reprint of the SJA articles with minor corrections.)\\n \\n  (Heavily revised version of Greenberg 1955. From the same publisher: second, revised edition, 1966; third edition, 1970. All three editions simultaneously published at The Hague by Mouton & Co.)\\n  (Reprinted 1980 and, with a foreword by Martin Haspelmath, 2005.)\\n\\nBooks (editor) \\n  (Second edition 1966.)\\n\\nArticles, reviews, etc. \\n \\n \\n \\n \\n \\n \\n \\n \\n \\n \\n \\n \\n \\n  (Reprinted in Genetic Linguistics, 2005.)\\n \\n  (In second edition of Universals of Language, 1966: pp.\\xc2\\xa073\\xe2\\x80\\x93113.)\\n \\n \\n  (Reprinted in Genetic Linguistics, 2005.)\\n\\nBibliography\\n\\nBlench, Roger. 1995. \"Is Niger\\xe2\\x80\\x93Congo simply a branch of Nilo-Saharan?\" In Fifth Nilo-Saharan Linguistics Colloquium, Nice, 24\\xe2\\x80\\x9329 August 1992: Proceedings, edited by Robert Nicola\\xc3\\xaf and Franz Rottland. Cologne: K\\xc3\\xb6ppe Verlag, pp.\\xc2\\xa036\\xe2\\x80\\x9349.\\n\\nCampbell, Lyle. 1997. American Indian Languages: The Historical Linguistics of Native America. New York: Oxford University Press. .\\nCampbell, Lyle. 2001. \"Beyond the comparative method.\" In Historical Linguistics 2001: Selected Papers from the 15th International Conference on Historical Linguistics, Melbourne, 13\\xe2\\x80\\x9317 August 2001, edited by Barry J. Blake, Kate Burridge, and Jo Taylor.\\nDiamond, Jared. 1997. Guns, Germs and Steel: The Fates of Human Societies. New York: Norton. .\\n\\nMairal, Ricardo and Juana Gil. 2006. Linguistic Universals. Cambridge\\xe2\\x80\\x93NY: Cambridge University Press. .\\n\\nRoss, Malcolm. 2005. \"Pronouns as a preliminary diagnostic for grouping Papuan languages.\" In Papuan Pasts: Cultural, Linguistic and Biological Histories of Papuan-speaking Peoples, edited by Andrew Pawley, Robert Attenborough, Robin Hide, and Jack Golson. Canberra: Pacific Linguistics, pp.\\xc2\\xa015\\xe2\\x80\\x9366.\\nWurm, Stephen A. 1982. The Papuan Languages of Oceania. T\\xc3\\xbcbingen: Gunter Narr.\\n\\nSee also\\n\\nLinguistic universal\\nMonogenesis (linguistics)\\nNostratic languages\\n\\nReferences\\n\\nExternal links\\nJoseph Greenberg at work; a portrait of himself\\n\"What we all spoke when the world was young\" by Nicholas Wade, New York Times (February 1, 2000)\\nMemorial Resolution\\n\"Complete bibliography of the publications of Joseph H. Greenberg\" by William Croft (2003)\\n\\nCategory:1915 births\\nCategory:2001 deaths\\nCategory:20th-century linguists\\nCategory:20th-century anthropologists\\nCategory:20th-century non-fiction writers\\nCategory:Anthropological linguists\\nCategory:American social scientists\\nCategory:Linguists from the United States\\nCategory:American Africanists\\nCategory:Jewish American military personnel\\nCategory:Paleolinguists\\nCategory:Columbia University faculty\\nCategory:Stanford University Department of Anthropology faculty\\nCategory:Fellows of the American Academy of Arts and Sciences\\nCategory:Members of the United States National Academy of Sciences\\nCategory:United States Army personnel\\nCategory:American army personnel of World War II\\nCategory:Guggenheim Fellows\\nCategory:American expatriates in Nigeria\\nCategory:People from Brooklyn\\nCategory:Linguists of Eskimo\\xe2\\x80\\x93Aleut languages\\nCategory:Linguists of Hokan languages\\nCategory:Jewish scientists\\nCategory:Linguists of Papuan languages\\nCategory:Linguists of Amerind languages\\nCategory:Linguists of Andamanese languages\\nCategory:Linguists of Tasmanian languages\\nCategory:Linguists of Niger\\xe2\\x80\\x93Congo languages\\nCategory:Linguists of Afroasiatic languages\\nCategory:Linguists of Eurasiatic languages\\nCategory:Linguistic Society of America presidents\\nCategory:Columbia College (New York) alumni\\nCategory:Linguists of indigenous languages of the Americas'\n",
            "\n",
            "\n",
            "b'Pauline Donalda,  (March 5, 1882 \\xe2\\x80\\x93 October 22, 1970) was a Canadian operatic soprano.\\n\\nEarly life and education\\nDonalda was born Pauline Lightstone in Montreal, Quebec, the daughter of Jewish parents who changed their surname from Lichtenstein to Lightstone after immigrating from Russia and Poland. She studied with Clara Lichtenstein (no relation) at Royal Victoria College, part of McGill University. In 1902, went to the Conservatoire de Paris on a grant from Donald Smith, Lord Strathcona, the patron of RVC.  There, she studied voice with Edmond Duvernoy.  She adopted the stage name Donalda in honour of her patron.\\n\\nCareer\\nWith the help of composer Jules Massenet, Donalda made her debut in 1904 in Nice, singing the title role in his opera Manon.  The following year, she debuted in London, singing the role of Mica\\xc3\\xabla in Carmen. Donalda was the first to sing the roles of Concepci\\xc3\\xb3n in Maurice Ravel\\'s L\\'heure espagnole and Ah-joe in Franco Leoni\\'s L\\'Oracolo at Covent Garden. In November 1906, she returned to Montreal to sing in a recital at the Montreal Arena with her new husband, baritone Paul Seveilhac. The following month, she began a season with Oscar Hammerstein\\'s new Manhattan Opera House. She returned to Europe in 1907, singing principally in London and Paris.\\n\\nDonalda was in Canada when World War I broke out.  She chose to remain in the country, singing in concerts and music halls, with occasional appearances in New York and Boston. In Montreal, she organized the Donalda Sunday Afternoon Concerts, donating the proceeds to war charities.  She returned to Paris in 1917, and married her second husband, Mischa L\\xc3\\xa9on, there the following year.\\n\\nIn 1922, Donalda opened a teaching studio in Paris where she taught many students over the next few years. She moved back to Montreal in 1937 and opened a studio there. Her students in Montreal included Robert Savoie. She founded the Opera Guild of Montreal in 1942, serving as president and artistic director until 1969.\\n\\nIn 1967, she was made an Officer of the Order of Canada \"for her contribution to the arts, especially opera, as a singer and founder of the Opera Guild in Montreal.\"\\n\\nReferences\\n\\nExternal links\\n The Virtual Gramophone\\'s Pauline Lightstone Donalda biography\\n portrait\\n\\nCategory:1882 births\\nCategory:1970 deaths\\nCategory:Canadian female singers\\nCategory:Canadian operatic sopranos\\nCategory:Jewish Canadian musicians\\nCategory:Musicians from Montreal\\nCategory:Officers of the Order of Canada\\nCategory:20th-century opera singers\\nCategory:20th-century women singers'\n",
            "\n",
            "\n"
          ],
          "name": "stdout"
        }
      ]
    },
    {
      "cell_type": "markdown",
      "metadata": {
        "id": "AYLnVften9Rt"
      },
      "source": [
        "## SentencePiece training"
      ]
    },
    {
      "cell_type": "code",
      "metadata": {
        "id": "GY3CjtmnoAX4"
      },
      "source": [
        "model=io.BytesIO()"
      ],
      "execution_count": 42,
      "outputs": []
    },
    {
      "cell_type": "code",
      "metadata": {
        "id": "B-AMJaXGkKwF"
      },
      "source": [
        "start_time = timeit.default_timer()\n",
        "spm.SentencePieceTrainer.train(\n",
        "    sentence_iterator=dataset_text.as_numpy_iterator(),\n",
        "    model_writer=model,\n",
        "    vocab_size=10000\n",
        ")\n",
        "end_time = timeit.default_timer()"
      ],
      "execution_count": null,
      "outputs": []
    },
    {
      "cell_type": "code",
      "metadata": {
        "id": "PN5UcYFNpu7m"
      },
      "source": [
        "print(f'time to trai spm = {end_time - start_time} seconds')"
      ],
      "execution_count": null,
      "outputs": []
    },
    {
      "cell_type": "code",
      "metadata": {
        "id": "x-KH3jvqpzDE"
      },
      "source": [
        "Serialize the model as file.\n",
        "with open('spm_tokenizer_en_wiki.model', 'wb') as f:\n",
        "    f.write(model.getvalue())\n",
        "\n",
        "# Directly load the model from serialized model.\n",
        "sp = spm.SentencePieceProcessor(model_proto=model.getvalue())\n",
        "print(sp.encode('this is test'))"
      ],
      "execution_count": null,
      "outputs": []
    }
  ]
}